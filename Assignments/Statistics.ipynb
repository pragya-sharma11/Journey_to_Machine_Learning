{
 "cells": [
  {
   "cell_type": "markdown",
   "metadata": {},
   "source": [
    "### Q1. Generate a list of 100 integers containing values between 90 to 130 and store it in the variable `int_list`.\n",
    "After generating the list, find the following:"
   ]
  },
  {
   "cell_type": "markdown",
   "metadata": {},
   "source": [
    "#####  (i) Write a Python function to calculate the mean of a given list of numbers.\n",
    "\n",
    "Create a function to find the median of a list of numbers."
   ]
  },
  {
   "cell_type": "code",
   "execution_count": 2,
   "metadata": {},
   "outputs": [
    {
     "name": "stdout",
     "output_type": "stream",
     "text": [
      "Mean of the list: 110.26\n",
      "Median of the list: 109.0\n"
     ]
    }
   ],
   "source": [
    "import random, numpy as np\n",
    "int_list = [random.randint(90, 130) for _ in range(100)]\n",
    "def calculate_mean(l):\n",
    "    return sum(int_list)/len(int_list)\n",
    "def  calculate_median(l):\n",
    "    return np.median(int_list)\n",
    "print(\"Mean of the list:\", calculate_mean(int_list))\n",
    "print(\"Median of the list:\", calculate_median(int_list))"
   ]
  },
  {
   "cell_type": "markdown",
   "metadata": {},
   "source": [
    "#####  (ii) Develop a program to compute the mode of a list of integers."
   ]
  },
  {
   "cell_type": "code",
   "execution_count": 3,
   "metadata": {},
   "outputs": [
    {
     "name": "stdout",
     "output_type": "stream",
     "text": [
      "Mode in the list: {123, 93, 109}\n"
     ]
    }
   ],
   "source": [
    "def calculate_mode(l):\n",
    "    dic = dict()\n",
    "    for i in l:\n",
    "        if i in dic:\n",
    "            dic[i] += 1\n",
    "        else:\n",
    "            dic[i] = 1\n",
    "    max_cnt = max(dic.values())\n",
    "    return  set([key for key, val in dic.items() if val==max_cnt])\n",
    "\n",
    "print(\"Mode in the list:\", calculate_mode(int_list))"
   ]
  },
  {
   "cell_type": "markdown",
   "metadata": {},
   "source": [
    "#####  (iii) Implement a function to calculate the weighted mean of a list of values and their corresponding weights."
   ]
  },
  {
   "cell_type": "code",
   "execution_count": 4,
   "metadata": {},
   "outputs": [
    {
     "name": "stdout",
     "output_type": "stream",
     "text": [
      "Weighted Mean of the list: 111.46405750798722\n"
     ]
    }
   ],
   "source": [
    "wt_list = [random.randint(1,100) for _ in range(100)]\n",
    "def calculate_weighted_mean(l, wt):\n",
    "    return sum(l[i]*wt[i] for i in range(len(l))) / sum(wt)\n",
    "print(\"Weighted Mean of the list:\", calculate_weighted_mean(int_list, wt_list))"
   ]
  },
  {
   "cell_type": "markdown",
   "metadata": {},
   "source": [
    "#####  (iv) Write a Python function to find the geometric mean of a list of positive numbers."
   ]
  },
  {
   "cell_type": "code",
   "execution_count": 5,
   "metadata": {},
   "outputs": [
    {
     "name": "stdout",
     "output_type": "stream",
     "text": [
      "Geometric Mean of the list: 109.51583338891425\n"
     ]
    }
   ],
   "source": [
    "import functools as f\n",
    "import math\n",
    "positive_list = [i for i in int_list if i>0]\n",
    "def calculate_geometric_mean(l):\n",
    "    product = f.reduce(lambda x,y:x*y, l)\n",
    "    return math.pow(product,1/len(l))\n",
    "print(\"Geometric Mean of the list:\", calculate_geometric_mean(positive_list))"
   ]
  },
  {
   "cell_type": "markdown",
   "metadata": {},
   "source": [
    "##### (v) Create a program to calculate the harmonic mean of a list of values."
   ]
  },
  {
   "cell_type": "code",
   "execution_count": 6,
   "metadata": {},
   "outputs": [
    {
     "name": "stdout",
     "output_type": "stream",
     "text": [
      "Harmonic Mean of the list: 108.7674592534759\n"
     ]
    }
   ],
   "source": [
    "def calculate_harmonic_mean(l):\n",
    "    sm = 0 \n",
    "    for i in l:\n",
    "        sm += 1/i\n",
    "    return len(l)/sm \n",
    "print(\"Harmonic Mean of the list:\", calculate_harmonic_mean(int_list))"
   ]
  },
  {
   "cell_type": "markdown",
   "metadata": {},
   "source": [
    "#####  (vi) Build a function to determine the midrange of a list of numbers (average of the minimum and maximum)"
   ]
  },
  {
   "cell_type": "code",
   "execution_count": 7,
   "metadata": {},
   "outputs": [
    {
     "name": "stdout",
     "output_type": "stream",
     "text": [
      "Midrange of the list: 110.0\n"
     ]
    }
   ],
   "source": [
    "def midrange(l):\n",
    "    return (min(l) + max(l))/2\n",
    "print(\"Midrange of the list:\", midrange(int_list))"
   ]
  },
  {
   "cell_type": "markdown",
   "metadata": {},
   "source": [
    "#####  (vii) Implement a Python program to find the trimmed mean of a list, excluding a certain percentage of outliers."
   ]
  },
  {
   "cell_type": "code",
   "execution_count": 8,
   "metadata": {},
   "outputs": [
    {
     "name": "stdout",
     "output_type": "stream",
     "text": [
      "trimmed_mean: 110.35\n"
     ]
    }
   ],
   "source": [
    "from scipy import stats\n",
    "trimmed_mean = stats.trim_mean(int_list, 0.1)\n",
    "print(\"trimmed_mean:\",trimmed_mean)"
   ]
  },
  {
   "cell_type": "markdown",
   "metadata": {},
   "source": [
    "### 2. Generate a list of 500 integers containing values between 200 to 300 and store it in the variable `int_list2`.\n",
    "After generating the list, find the following:"
   ]
  },
  {
   "cell_type": "markdown",
   "metadata": {},
   "source": [
    "#####  (i) Compare the given list of visualization for the given data:\n",
    "    1. Frequency & Gaussian distribution\n",
    "\n",
    "    2. Frequency smoothened KDE plot\n",
    "\n",
    "    3. Gaussian distribution & smoothened KDE plot"
   ]
  },
  {
   "cell_type": "code",
   "execution_count": 9,
   "metadata": {},
   "outputs": [
    {
     "data": {
      "image/png": "[encoded data removed]",
      "text/plain": [
       "<Figure size 640x480 with 1 Axes>"
      ]
     },
     "metadata": {},
     "output_type": "display_data"
    }
   ],
   "source": [
    "int_list2 = [random.randint(200,300) for i in range(500)]\n",
    "# Frequency & Gaussian distribution\n",
    "import matplotlib.pyplot as plt\n",
    "import seaborn as sns\n",
    "sns.histplot(int_list2)\n",
    "plt.xlabel(\"values\")\n",
    "plt.ylabel(\"Count of values\")\n",
    "plt.title(\"Frequency and Gaussian distribution\")\n",
    "plt.show()"
   ]
  },
  {
   "cell_type": "code",
   "execution_count": 10,
   "metadata": {},
   "outputs": [
    {
     "data": {
      "image/png": "[encoded data removed]",
      "text/plain": [
       "<Figure size 640x480 with 1 Axes>"
      ]
     },
     "metadata": {},
     "output_type": "display_data"
    }
   ],
   "source": [
    "# Frequency smoothened KDE plot\n",
    "sns.kdeplot(int_list2)\n",
    "plt.xlabel(\"values\")\n",
    "plt.ylabel(\"Count of values\")\n",
    "plt.title(\"Frequency and Gaussian distribution\")\n",
    "plt.show()"
   ]
  },
  {
   "cell_type": "code",
   "execution_count": 11,
   "metadata": {},
   "outputs": [
    {
     "data": {
      "image/png": "[encoded data removed]",
      "text/plain": [
       "<Figure size 640x480 with 1 Axes>"
      ]
     },
     "metadata": {},
     "output_type": "display_data"
    }
   ],
   "source": [
    "# Gaussian distribution & smoothened KDE plot\n",
    "sns.histplot(int_list2, kde=True)\n",
    "plt.xlabel(\"values\")\n",
    "plt.ylabel(\"Count of values\")\n",
    "plt.title(\"Frequency and Gaussian distribution\")\n",
    "plt.show()"
   ]
  },
  {
   "cell_type": "markdown",
   "metadata": {},
   "source": [
    "##### (ii) Write a Python function to calculate the range of a given list of numbers"
   ]
  },
  {
   "cell_type": "code",
   "execution_count": 12,
   "metadata": {},
   "outputs": [
    {
     "name": "stdout",
     "output_type": "stream",
     "text": [
      "Range of the list: 200 to 300\n"
     ]
    }
   ],
   "source": [
    "def calculate_range(l):\n",
    "    return min(l),max(l)\n",
    "lower_bound, upper_bound = calculate_range(int_list2)\n",
    "print(\"Range of the list:\", lower_bound,\"to\",upper_bound)"
   ]
  },
  {
   "cell_type": "markdown",
   "metadata": {},
   "source": [
    "#####  (iii) Create a program to find the variance and standard deviation of a list of numbers."
   ]
  },
  {
   "cell_type": "code",
   "execution_count": 13,
   "metadata": {},
   "outputs": [
    {
     "name": "stdout",
     "output_type": "stream",
     "text": [
      "Standard Deviation: 28.577216869387403\n",
      "Variance: 816.6573239999999\n"
     ]
    }
   ],
   "source": [
    "print(\"Standard Deviation:\", np.std(int_list2))\n",
    "print(\"Variance:\", np.std(int_list2)**2)"
   ]
  },
  {
   "cell_type": "markdown",
   "metadata": {},
   "source": [
    "#####   (iv) Implement a function to compute the interquartile range (IQR) of a list of values."
   ]
  },
  {
   "cell_type": "code",
   "execution_count": 14,
   "metadata": {},
   "outputs": [
    {
     "name": "stdout",
     "output_type": "stream",
     "text": [
      "Interquartile Range: 49.0\n"
     ]
    }
   ],
   "source": [
    "q1,q3 = np.quantile(int_list2,0.25),np.quantile(int_list2,0.75)\n",
    "IQR = q3 - q1\n",
    "print(\"Interquartile Range:\", IQR)"
   ]
  },
  {
   "cell_type": "markdown",
   "metadata": {},
   "source": [
    "#####  (v) Build a program to calculate the coefficient of variation for a dataset."
   ]
  },
  {
   "cell_type": "code",
   "execution_count": 15,
   "metadata": {},
   "outputs": [
    {
     "name": "stdout",
     "output_type": "stream",
     "text": [
      "Coefficient of Variation: 0.11475595668479356\n"
     ]
    }
   ],
   "source": [
    "# coeffiecient of the variation = cv = standard deviation/mean\n",
    "cv = np.std(int_list2) / np.mean(int_list2)\n",
    "print(\"Coefficient of Variation:\", cv)"
   ]
  },
  {
   "cell_type": "markdown",
   "metadata": {},
   "source": [
    "#####  (vi) Write a Python function to find the mean absolute deviation (MAD) of a list of numbers."
   ]
  },
  {
   "cell_type": "code",
   "execution_count": 16,
   "metadata": {},
   "outputs": [
    {
     "name": "stdout",
     "output_type": "stream",
     "text": [
      "Mean Absolute Deviation: 24.747455999999996\n"
     ]
    }
   ],
   "source": [
    "def calculate_mean_abs_dev(int_list2):\n",
    "    sm = 0 \n",
    "    mu = np.mean(int_list2)\n",
    "    for i in int_list2:\n",
    "        sm += abs(i - mu)\n",
    "    return sm / len(int_list2)\n",
    "print(\"Mean Absolute Deviation:\", calculate_mean_abs_dev(int_list2))"
   ]
  },
  {
   "cell_type": "markdown",
   "metadata": {},
   "source": [
    "##### (vii) Create a program to calculate the quartile deviation of a list of values"
   ]
  },
  {
   "cell_type": "code",
   "execution_count": 17,
   "metadata": {},
   "outputs": [
    {
     "name": "stdout",
     "output_type": "stream",
     "text": [
      "Quartile Deviation: 24.5\n"
     ]
    }
   ],
   "source": [
    "q1,q3 = np.quantile(int_list2,0.25),np.quantile(int_list2,0.75)\n",
    "IQR = q3 - q1\n",
    "print(\"Quartile Deviation:\", IQR/2)"
   ]
  },
  {
   "cell_type": "markdown",
   "metadata": {},
   "source": [
    "#####   (viii) Implement a function to find the range-based coefficient of dispersion for a dataset."
   ]
  },
  {
   "cell_type": "code",
   "execution_count": 18,
   "metadata": {},
   "outputs": [
    {
     "name": "stdout",
     "output_type": "stream",
     "text": [
      "Range-based Coefficient of Dispersion: 0.2\n"
     ]
    }
   ],
   "source": [
    "mn = min(int_list2)\n",
    "mx = max(int_list2)\n",
    "range_based_coeff = (mx - mn) / (mx + mn)\n",
    "print(\"Range-based Coefficient of Dispersion:\", range_based_coeff)"
   ]
  },
  {
   "cell_type": "markdown",
   "metadata": {},
   "source": [
    "### 3.  Write a Python class representing a discrete random variable with methods to calculate its expected value and variance."
   ]
  },
  {
   "cell_type": "code",
   "execution_count": 19,
   "metadata": {},
   "outputs": [
    {
     "name": "stdout",
     "output_type": "stream",
     "text": [
      "Expected Value: 3.5\n",
      "Variance: 2.916666666666666\n"
     ]
    }
   ],
   "source": [
    "class DiscreteRandomVariable:\n",
    "    def __init__(self, probabilities, random_variable):\n",
    "        self.probabilities = probabilities\n",
    "        self.random_variable = random_variable\n",
    "    def get_expected_value(self):\n",
    "        exp_val = 0\n",
    "        for i in range(len(self.probabilities)):\n",
    "            exp_val += self.random_variable[i] * self.probabilities[i]\n",
    "        return exp_val \n",
    "    def get_variance(self):\n",
    "        exp_val = self.get_expected_value()\n",
    "        exp_val_sq = 0\n",
    "        for i in range(len(self.probabilities)):\n",
    "            exp_val_sq += self.probabilities[i] * (self.random_variable[i]) ** 2\n",
    "        return exp_val_sq - exp_val**2\n",
    "probability = [1/6]*6\n",
    "random_variable = [1,2,3,4,5,6]\n",
    "rndm_var = DiscreteRandomVariable(probability, random_variable)\n",
    "print(\"Expected Value:\", rndm_var.get_expected_value())\n",
    "print(\"Variance:\", rndm_var.get_variance())"
   ]
  },
  {
   "cell_type": "markdown",
   "metadata": {},
   "source": [
    "### 4. Implement a program to simulate the rolling of a fair six-sided die and calculate the expected value and variance of the outcomes."
   ]
  },
  {
   "cell_type": "code",
   "execution_count": 20,
   "metadata": {},
   "outputs": [
    {
     "name": "stdout",
     "output_type": "stream",
     "text": [
      "Expected Value: 3.5\n",
      "Variance: 2.916666666666666\n"
     ]
    }
   ],
   "source": [
    "class Rolling_Dice:\n",
    "    def __init__(self, probabilities, outcome):\n",
    "        self.probabilities = probabilities\n",
    "        self.outcome = outcome\n",
    "    def get_expected_value(self):\n",
    "        exp_val = 0\n",
    "        for i in range(len(self.probabilities)):\n",
    "            exp_val += self.outcome[i] * self.probabilities[i]\n",
    "        return exp_val \n",
    "    def get_variance(self):\n",
    "        exp_val = self.get_expected_value()\n",
    "        exp_val_sq = 0\n",
    "        for i in range(len(self.probabilities)):\n",
    "            exp_val_sq += self.probabilities[i] * (self.outcome[i]) ** 2\n",
    "        return exp_val_sq - exp_val**2\n",
    "probability = [1/6]*6\n",
    "outcome = [1,2,3,4,5,6]\n",
    "dice = Rolling_Dice(probability, outcome)\n",
    "print(\"Expected Value:\", dice.get_expected_value())\n",
    "print(\"Variance:\", dice.get_variance())"
   ]
  },
  {
   "cell_type": "markdown",
   "metadata": {},
   "source": [
    "### 5. Create a Python function to generate random samples from a given probability distribution (e.g.,binomial, Poisson) and calculate their mean and variance."
   ]
  },
  {
   "cell_type": "code",
   "execution_count": 21,
   "metadata": {},
   "outputs": [
    {
     "name": "stdout",
     "output_type": "stream",
     "text": [
      "Generating random Sample: [10 11 11 10 11 16 15 14  8 14 15 10 11  8  7 10  9 13  9  9]\n",
      "Mean for binomial: 10.0\n",
      "Variance of Binomial: 5.0\n"
     ]
    }
   ],
   "source": [
    "import numpy as np\n",
    "\n",
    "# def generate_random_samples(n, distribution_params, distribution_type):\n",
    "#     if distribution_type == \"binomial\":\n",
    "#         samples = np.random.binomial(distribution_params[\"n\"], distribution_params[\"p\"], n)\n",
    "#     elif distribution_type == \"poisson\":\n",
    "#         samples = np.random.poisson(distribution_params[\"mu\"], n)\n",
    "#     else:\n",
    "#         raise ValueError(\"Invalid distribution type\")\n",
    "#     return samples\n",
    "def generate_random_samples(distribution_type):\n",
    "    random_sample = []\n",
    "    if distribution_type == 'binomial':\n",
    "        p=0.5\n",
    "        random_sample = np.random.binomial(n=20,p=0.5,size=20)\n",
    "        print(\"Generating random Sample:\", random_sample)\n",
    "        print(\"Mean for binomial:\",len(random_sample)*p)\n",
    "        print(\"Variance of Binomial:\", len(random_sample)*p*(1-p))\n",
    "    elif distribution_type == 'poisson':\n",
    "        time_duration = 2\n",
    "        lam = 7\n",
    "        random_sample = np.random.poisson(lam=lam,size=20)\n",
    "        print(\"Generating random Sample:\", random_sample)\n",
    "        print(\"Mean for poisson:\",lam*time_duration)\n",
    "        print(\"Variance of poisson:\", lam*time_duration)\n",
    "    else :\n",
    "        print(\"Invalid distribution type\")\n",
    "generate_random_samples('binomial')"
   ]
  },
  {
   "cell_type": "code",
   "execution_count": 22,
   "metadata": {},
   "outputs": [
    {
     "name": "stdout",
     "output_type": "stream",
     "text": [
      "Generating random Sample: [ 6  9  7  4  7  9  9  9  4  7  3 10  7  9 11  9 14  8  8  5]\n",
      "Mean for poisson: 14\n",
      "Variance of poisson: 14\n"
     ]
    }
   ],
   "source": [
    "generate_random_samples('poisson')"
   ]
  },
  {
   "cell_type": "markdown",
   "metadata": {},
   "source": [
    "### 6. Write a Python script to generate random numbers from a Gaussian (normal) distribution and compute the mean, variance, and standard deviation of the samples."
   ]
  },
  {
   "cell_type": "code",
   "execution_count": 23,
   "metadata": {},
   "outputs": [
    {
     "name": "stdout",
     "output_type": "stream",
     "text": [
      "Generated Normal Distribution Random Sample: [-0.97014802 -1.7284917  -1.29241932 -1.20559653 -1.29849901  0.44168128\n",
      "  0.14758378 -0.13557304 -1.0414574   1.16151261  0.17625688  0.11117658\n",
      "  0.44296001  1.1535815  -0.14853953  0.23517498 -0.20063663  0.17882018\n",
      "  0.41378945  0.41415868  1.1894874  -0.20126813  0.20777203  0.3371284\n",
      "  1.19663669  1.26948233 -0.51054359  0.44317264  0.51495402 -0.46166901\n",
      "  0.26356475  0.82588456 -0.12477846 -0.12125233 -0.10112104 -0.35649995\n",
      "  0.3299129  -0.28043732  1.36754369 -0.31883905  0.40279528  1.45180412\n",
      " -0.15836531  2.10644778 -0.73956213  0.88425684  0.30542659  1.24469857\n",
      " -0.66918602  0.38981775]\n",
      "Mean: 0.15085197485551746\n",
      "Standard Deviation: 0.7912729184770244\n",
      "Variance: 0.8895352261023868\n"
     ]
    }
   ],
   "source": [
    "random_sample = np.random.normal(size=50)\n",
    "print(\"Generated Normal Distribution Random Sample:\", random_sample)\n",
    "print(\"Mean:\", np.mean(random_sample))\n",
    "print(\"Standard Deviation:\", np.std(random_sample))\n",
    "print(\"Variance:\", np.std(random_sample)**0.5)"
   ]
  },
  {
   "cell_type": "markdown",
   "metadata": {},
   "source": [
    "### 7. Use seaborn library to load tips dataset. Find the following from the dataset for the columns total_bill and tip:"
   ]
  },
  {
   "cell_type": "code",
   "execution_count": 24,
   "metadata": {},
   "outputs": [
    {
     "data": {
      "text/html": [
       "<div>\n",
       "<style scoped>\n",
       "    .dataframe tbody tr th:only-of-type {\n",
       "        vertical-align: middle;\n",
       "    }\n",
       "\n",
       "    .dataframe tbody tr th {\n",
       "        vertical-align: top;\n",
       "    }\n",
       "\n",
       "    .dataframe thead th {\n",
       "        text-align: right;\n",
       "    }\n",
       "</style>\n",
       "<table border=\"1\" class=\"dataframe\">\n",
       "  <thead>\n",
       "    <tr style=\"text-align: right;\">\n",
       "      <th></th>\n",
       "      <th>total_bill</th>\n",
       "      <th>tip</th>\n",
       "      <th>sex</th>\n",
       "      <th>smoker</th>\n",
       "      <th>day</th>\n",
       "      <th>time</th>\n",
       "      <th>size</th>\n",
       "    </tr>\n",
       "  </thead>\n",
       "  <tbody>\n",
       "    <tr>\n",
       "      <th>0</th>\n",
       "      <td>16.99</td>\n",
       "      <td>1.01</td>\n",
       "      <td>Female</td>\n",
       "      <td>No</td>\n",
       "      <td>Sun</td>\n",
       "      <td>Dinner</td>\n",
       "      <td>2</td>\n",
       "    </tr>\n",
       "    <tr>\n",
       "      <th>1</th>\n",
       "      <td>10.34</td>\n",
       "      <td>1.66</td>\n",
       "      <td>Male</td>\n",
       "      <td>No</td>\n",
       "      <td>Sun</td>\n",
       "      <td>Dinner</td>\n",
       "      <td>3</td>\n",
       "    </tr>\n",
       "    <tr>\n",
       "      <th>2</th>\n",
       "      <td>21.01</td>\n",
       "      <td>3.50</td>\n",
       "      <td>Male</td>\n",
       "      <td>No</td>\n",
       "      <td>Sun</td>\n",
       "      <td>Dinner</td>\n",
       "      <td>3</td>\n",
       "    </tr>\n",
       "    <tr>\n",
       "      <th>3</th>\n",
       "      <td>23.68</td>\n",
       "      <td>3.31</td>\n",
       "      <td>Male</td>\n",
       "      <td>No</td>\n",
       "      <td>Sun</td>\n",
       "      <td>Dinner</td>\n",
       "      <td>2</td>\n",
       "    </tr>\n",
       "    <tr>\n",
       "      <th>4</th>\n",
       "      <td>24.59</td>\n",
       "      <td>3.61</td>\n",
       "      <td>Female</td>\n",
       "      <td>No</td>\n",
       "      <td>Sun</td>\n",
       "      <td>Dinner</td>\n",
       "      <td>4</td>\n",
       "    </tr>\n",
       "    <tr>\n",
       "      <th>...</th>\n",
       "      <td>...</td>\n",
       "      <td>...</td>\n",
       "      <td>...</td>\n",
       "      <td>...</td>\n",
       "      <td>...</td>\n",
       "      <td>...</td>\n",
       "      <td>...</td>\n",
       "    </tr>\n",
       "    <tr>\n",
       "      <th>239</th>\n",
       "      <td>29.03</td>\n",
       "      <td>5.92</td>\n",
       "      <td>Male</td>\n",
       "      <td>No</td>\n",
       "      <td>Sat</td>\n",
       "      <td>Dinner</td>\n",
       "      <td>3</td>\n",
       "    </tr>\n",
       "    <tr>\n",
       "      <th>240</th>\n",
       "      <td>27.18</td>\n",
       "      <td>2.00</td>\n",
       "      <td>Female</td>\n",
       "      <td>Yes</td>\n",
       "      <td>Sat</td>\n",
       "      <td>Dinner</td>\n",
       "      <td>2</td>\n",
       "    </tr>\n",
       "    <tr>\n",
       "      <th>241</th>\n",
       "      <td>22.67</td>\n",
       "      <td>2.00</td>\n",
       "      <td>Male</td>\n",
       "      <td>Yes</td>\n",
       "      <td>Sat</td>\n",
       "      <td>Dinner</td>\n",
       "      <td>2</td>\n",
       "    </tr>\n",
       "    <tr>\n",
       "      <th>242</th>\n",
       "      <td>17.82</td>\n",
       "      <td>1.75</td>\n",
       "      <td>Male</td>\n",
       "      <td>No</td>\n",
       "      <td>Sat</td>\n",
       "      <td>Dinner</td>\n",
       "      <td>2</td>\n",
       "    </tr>\n",
       "    <tr>\n",
       "      <th>243</th>\n",
       "      <td>18.78</td>\n",
       "      <td>3.00</td>\n",
       "      <td>Female</td>\n",
       "      <td>No</td>\n",
       "      <td>Thur</td>\n",
       "      <td>Dinner</td>\n",
       "      <td>2</td>\n",
       "    </tr>\n",
       "  </tbody>\n",
       "</table>\n",
       "<p>244 rows × 7 columns</p>\n",
       "</div>"
      ],
      "text/plain": [
       "     total_bill   tip     sex smoker   day    time  size\n",
       "0         16.99  1.01  Female     No   Sun  Dinner     2\n",
       "1         10.34  1.66    Male     No   Sun  Dinner     3\n",
       "2         21.01  3.50    Male     No   Sun  Dinner     3\n",
       "3         23.68  3.31    Male     No   Sun  Dinner     2\n",
       "4         24.59  3.61  Female     No   Sun  Dinner     4\n",
       "..          ...   ...     ...    ...   ...     ...   ...\n",
       "239       29.03  5.92    Male     No   Sat  Dinner     3\n",
       "240       27.18  2.00  Female    Yes   Sat  Dinner     2\n",
       "241       22.67  2.00    Male    Yes   Sat  Dinner     2\n",
       "242       17.82  1.75    Male     No   Sat  Dinner     2\n",
       "243       18.78  3.00  Female     No  Thur  Dinner     2\n",
       "\n",
       "[244 rows x 7 columns]"
      ]
     },
     "execution_count": 24,
     "metadata": {},
     "output_type": "execute_result"
    }
   ],
   "source": [
    "import seaborn as sns\n",
    "df = sns.load_dataset('tips')\n",
    "df"
   ]
  },
  {
   "cell_type": "markdown",
   "metadata": {},
   "source": [
    "#####  (i) Write a Python function that calculates their skewness."
   ]
  },
  {
   "cell_type": "code",
   "execution_count": 25,
   "metadata": {},
   "outputs": [
    {
     "name": "stdout",
     "output_type": "stream",
     "text": [
      "Skewness of total_bill: 1.1262346334818638\n",
      "Skewness of tip: 1.4564266884221506\n"
     ]
    }
   ],
   "source": [
    "from scipy.stats import skew \n",
    "def calculate_skewness(data):\n",
    "    return skew(data)\n",
    "print(\"Skewness of total_bill:\", calculate_skewness(df['total_bill']))\n",
    "print(\"Skewness of tip:\", calculate_skewness(df['tip']))"
   ]
  },
  {
   "cell_type": "markdown",
   "metadata": {},
   "source": [
    "##### (ii) Create a program that determines whether the columns exhibit positive skewness, negative skewness, or is approximately symmetric.\n",
    "\n"
   ]
  },
  {
   "cell_type": "code",
   "execution_count": 26,
   "metadata": {},
   "outputs": [
    {
     "name": "stdout",
     "output_type": "stream",
     "text": [
      "total_bill is positively skewed\n",
      "tip is positively skewed\n"
     ]
    }
   ],
   "source": [
    "total_bill_mean = np.mean(df.total_bill)\n",
    "total_bill_median = np.median(df.total_bill)\n",
    "tip_median = np.median(df.tip)\n",
    "tip_mean = np.mean(df.tip)\n",
    "if total_bill_mean > total_bill_median:\n",
    "    print(\"total_bill is positively skewed\")\n",
    "elif total_bill_mean < total_bill_median:\n",
    "    print(\"total_bill is negatively skewed\")\n",
    "else:\n",
    "    print(\"total_bill is approximately symmetric\")\n",
    "\n",
    "if tip_mean > tip_median:\n",
    "    print(\"tip is positively skewed\")\n",
    "elif tip_mean < tip_median:\n",
    "    print(\"tip is negatively skewed\")\n",
    "else:\n",
    "    print(\"tip is approximately symmetric\")"
   ]
  },
  {
   "cell_type": "markdown",
   "metadata": {},
   "source": [
    "#####  (iii) Write a function that calculates the covariance between two columns"
   ]
  },
  {
   "cell_type": "code",
   "execution_count": 27,
   "metadata": {},
   "outputs": [
    {
     "name": "stdout",
     "output_type": "stream",
     "text": [
      "Covariance: 8.323501629224852\n"
     ]
    }
   ],
   "source": [
    "def calculate_covariance(df):\n",
    "    df['cov_col'] = (df.tip-tip_mean)*(df.total_bill - total_bill_mean)\n",
    "    return np.sum(df['cov_col'])/(len(df['cov_col'])-1)\n",
    "print(\"Covariance:\",calculate_covariance(df))"
   ]
  },
  {
   "cell_type": "markdown",
   "metadata": {},
   "source": [
    "#####  (iv) Implement a Python program that calculates the Pearson correlation coefficient between two columns."
   ]
  },
  {
   "cell_type": "code",
   "execution_count": 33,
   "metadata": {},
   "outputs": [
    {
     "name": "stdout",
     "output_type": "stream",
     "text": [
      "Pearson Correlation Coefficient: 0.6757341092113643\n"
     ]
    }
   ],
   "source": [
    "deno = (np.sum((df.tip-tip_mean)**2)* np.sum((df.total_bill - total_bill_mean)**2))**0.5\n",
    "pearson_corr = np.sum((df.tip-tip_mean)*(df.total_bill - total_bill_mean))/ deno\n",
    "print(\"Pearson Correlation Coefficient:\", pearson_corr)\n"
   ]
  },
  {
   "cell_type": "markdown",
   "metadata": {},
   "source": [
    "##### (v) Write a script to visualize the correlation between two specific columns in a Pandas DataFrame using scatter plots."
   ]
  },
  {
   "cell_type": "code",
   "execution_count": 44,
   "metadata": {},
   "outputs": [
    {
     "data": {
      "image/png": "[encoded data removed]",
      "text/plain": [
       "<Figure size 640x480 with 1 Axes>"
      ]
     },
     "metadata": {},
     "output_type": "display_data"
    }
   ],
   "source": [
    "def get_corr_plot(df):\n",
    "    col1 = (df.columns)[0]\n",
    "    col2 = ((df.columns)[1])\n",
    "    col1_mean  = np.mean(df[col1])\n",
    "    col2_mean = np.mean(df[col2])\n",
    "    numerator = np.sum((df[col1]-col1_mean)*(df[col2] - col2_mean))\n",
    "    denominator = (np.sum((df[col1]-col1_mean)**2)*np.sum((df[col2] - col2_mean)**2))**0.5\n",
    "    pearson_corr = numerator/denominator\n",
    "    plt.scatter(df[col1],df[col2])\n",
    "    plt.xlabel(col1)\n",
    "    plt.ylabel(col2)\n",
    "    plt.title(f\"Pearson Correlation Coefficient: {pearson_corr:.2f}\")\n",
    "    \n",
    "    \n",
    "get_corr_plot(df[['total_bill','tip']])"
   ]
  },
  {
   "cell_type": "markdown",
   "metadata": {},
   "source": [
    "### 8. Write a Python function to calculate the probability density function (PDF) of a continuous random variable for a given normal distribution.\n"
   ]
  },
  {
   "cell_type": "code",
   "execution_count": 47,
   "metadata": {},
   "outputs": [
    {
     "name": "stdout",
     "output_type": "stream",
     "text": [
      "PDF function: 0.020946795140343526\n"
     ]
    }
   ],
   "source": [
    "def pdf_function(lst1):\n",
    "    mx = np.max(lst1)\n",
    "    mn = np.min(lst1)\n",
    "    pdf = 1/(mx-mn)\n",
    "    return pdf \n",
    "print(\"PDF function:\",pdf_function(df['total_bill']))"
   ]
  },
  {
   "cell_type": "markdown",
   "metadata": {},
   "source": [
    "### 9. Create a program to calculate the cumulative distribution function (CDF) of exponential distribution."
   ]
  },
  {
   "cell_type": "code",
   "execution_count": 53,
   "metadata": {},
   "outputs": [
    {
     "name": "stdout",
     "output_type": "stream",
     "text": [
      "0.5230099940784563\n"
     ]
    }
   ],
   "source": [
    "import numpy as np\n",
    "def get_cdf(dist, x):\n",
    "    mu = np.mean(dist)\n",
    "    return 1 - np.exp(-(x/mu))\n",
    "\n",
    "print(get_cdf(np.array([1,7,23,57,89,111,251]),57))"
   ]
  },
  {
   "cell_type": "markdown",
   "metadata": {},
   "source": [
    "### 10. Write a Python function to calculate the probability mass function (PMF) of Poisson distribution."
   ]
  },
  {
   "cell_type": "code",
   "execution_count": 57,
   "metadata": {},
   "outputs": [
    {
     "name": "stdout",
     "output_type": "stream",
     "text": [
      "0.25651562069968376\n"
     ]
    }
   ],
   "source": [
    "import math\n",
    "def get_pmf_poisson(lst, lm,x):\n",
    "    expon = np.exp(-lm)\n",
    "    pmf = (expon * (lm**x))/math.factorial(x)\n",
    "    return pmf \n",
    "print(get_pmf_poisson(np.array([2,5,3,4,2,5,3,5,6,3,6,4,3]),2.5,2))"
   ]
  },
  {
   "cell_type": "markdown",
   "metadata": {},
   "source": [
    "### 11. A company wants to test if a new website layout leads to a higher conversion rate (percentage of visitors who make a purchase). They collect data from the old and new layouts to compare."
   ]
  },
  {
   "cell_type": "code",
   "execution_count": 7,
   "metadata": {},
   "outputs": [
    {
     "name": "stdout",
     "output_type": "stream",
     "text": [
      "Z-score: -1.883108942886774\n",
      "P-value: 0.029842802766213112\n"
     ]
    }
   ],
   "source": [
    "import numpy as np\n",
    "\n",
    "# 50 purchases out of 1000 visitors\n",
    "\n",
    "old_layout = np.array([1] * 50 + [0] * 950)\n",
    "\n",
    "# 70 purchases out of 1000 visitors  \n",
    "\n",
    "new_layout = np.array([1] * 70 + [0] * 930)\n",
    "\n",
    "import statsmodels.api as sm\n",
    "\n",
    "# null hypothesis : pold = pnew\n",
    "# alternative hypothesis : pold > pnew\n",
    "# Number of successes (purchases)\n",
    "successes_old = np.sum(old_layout)\n",
    "successes_new = np.sum(new_layout)\n",
    "\n",
    "# Number of trials (total visitors)\n",
    "n_old = len(old_layout)\n",
    "n_new = len(new_layout)\n",
    "\n",
    "# Perform z-test for proportions\n",
    "z_score, p_value = sm.stats.proportions_ztest([successes_old, successes_new], [n_old, n_new], alternative='smaller')\n",
    "\n",
    "print(\"Z-score:\", z_score)\n",
    "print(\"P-value:\", p_value)\n",
    "\n",
    "# This measures how many standard deviations an element is from the mean. \n",
    "# It's useful because it helps us understand \n",
    "# if the results are significant or if they’re within normal range"
   ]
  },
  {
   "cell_type": "markdown",
   "metadata": {},
   "source": [
    "### 12. A tutoring service claims that its program improves students' exam scores. A sample of students who participated in the program was taken, and their scores before and after the program were recorded."
   ]
  },
  {
   "cell_type": "code",
   "execution_count": 59,
   "metadata": {},
   "outputs": [
    {
     "name": "stdout",
     "output_type": "stream",
     "text": [
      "fail to reject H0\n"
     ]
    }
   ],
   "source": [
    "import scipy.stats as stats\n",
    "before_program = np.array([75, 80, 85, 70, 90, 78, 92, 88, 82, 87])\n",
    "\n",
    "after_program = np.array([80, 85, 90, 80, 92, 80, 95, 90, 85, 88])\n",
    "#  z-test \n",
    "bp_mean = np.mean(before_program)\n",
    "ap_mean = np.mean(after_program)\n",
    "ap_std = np.std(after_program)\n",
    "n = len(after_program)\n",
    "# null hypothesis : performance is improved : bp_mean<ap_mean\n",
    "# alternate hypothesis : performance is not improved\n",
    "zscore = (ap_mean-bp_mean)/(ap_std*(n**0.5))\n",
    "zcritical = stats.norm.ppf(q = 0.95)\n",
    "if zscore>=zcritical:\n",
    "    print('reject H0')\n",
    "else :\n",
    "    print('fail to reject H0')\n"
   ]
  },
  {
   "cell_type": "markdown",
   "metadata": {},
   "source": [
    "### 13. A pharmaceutical company wants to determine if a new drug is effective in reducing blood pressure. They conduct a study and record blood pressure measurements before and after administering the drug.\n",
    "\n"
   ]
  },
  {
   "cell_type": "code",
   "execution_count": 60,
   "metadata": {},
   "outputs": [
    {
     "name": "stdout",
     "output_type": "stream",
     "text": [
      "fail to reject H0\n"
     ]
    }
   ],
   "source": [
    "before_drug = np.array([145, 150, 140, 135, 155, 160, 152, 148, 130, 138])\n",
    "\n",
    "after_drug = np.array([130, 140, 132, 128, 145, 148, 138, 136, 125, 130])\n",
    "#  z-test \n",
    "bp_mean = np.mean(before_drug)\n",
    "ap_mean = np.mean(after_drug)\n",
    "ap_std = np.std(after_drug)\n",
    "n = len(after_drug)\n",
    "# null hypothesis : BP is reduced : bp_mean>=ap_mean\n",
    "# alternate hypothesis : BP is not reduced \n",
    "zscore = (ap_mean-bp_mean)/(ap_std*(n**0.5))\n",
    "zcritical = stats.norm.ppf(q = 0.95)\n",
    "if zscore>=zcritical:\n",
    "    print('reject H0')\n",
    "else :\n",
    "    print('fail to reject H0')"
   ]
  },
  {
   "cell_type": "markdown",
   "metadata": {},
   "source": [
    "### 14. A customer service department claims that their average response time is less than 5 minutes. A sample of recent customer interactions was taken, and the response times were recorded."
   ]
  },
  {
   "cell_type": "code",
   "execution_count": 63,
   "metadata": {},
   "outputs": [
    {
     "name": "stdout",
     "output_type": "stream",
     "text": [
      "reject H0\n"
     ]
    }
   ],
   "source": [
    "response_times = np.array([4.3, 3.8, 5.1, 4.9, 4.7, 4.2, 5.2, 4.5, 4.6, 4.4])\n",
    "resp_mean = np.mean(response_times)\n",
    "resp_std = np.std(response_times)\n",
    "n = len(response_times)\n",
    "# null hypothesis : response time is greater than or eq to  5 minutes : resp_mean>=5\n",
    "# alternate hypothesis : response time is less than 5 : resp_mean<5\n",
    "zscore = (resp_mean-5)/(resp_std*(n**0.5))\n",
    "zcritical = stats.norm.ppf(q = 0.95)\n",
    "if zscore<zcritical:\n",
    "    print('reject H0')\n",
    "else :\n",
    "    print('fail to reject H0')\n"
   ]
  },
  {
   "cell_type": "markdown",
   "metadata": {},
   "source": [
    "### 15. A company is testing two different website layouts to see which one leads to higher click-through rates. Write a Python function to perform an A/B test analysis, including calculating the t-statistic, degrees of freedom, and p-value.`"
   ]
  },
  {
   "cell_type": "code",
   "execution_count": 70,
   "metadata": {},
   "outputs": [
    {
     "name": "stdout",
     "output_type": "stream",
     "text": [
      "t-critical : 1.8331129326536335\n",
      "t-statistic: -7.298102156175071\n",
      "p-value: 8.833437608301987e-07\n",
      "fail to reject H0\n"
     ]
    }
   ],
   "source": [
    "layout_a_clicks = [28, 32, 33, 29, 31, 34, 30, 35, 36, 37]\n",
    "\n",
    "layout_b_clicks = [40, 41, 38, 42, 39, 44, 43, 41, 45, 47]\n",
    "\n",
    "# t-test \n",
    "# null hypothesis : layout has a significant impact\n",
    "# alternative hypothesis : layout has not a significant impact\n",
    "import scipy.stats as stats\n",
    "t_stat, p_value = stats.ttest_ind(layout_a_clicks, layout_b_clicks)\n",
    "t_critical = stats.t.ppf(df = 9, q=0.95)\n",
    "# df = degree of freedom\n",
    "print(\"t-critical :\",t_critical)\n",
    "print(\"t-statistic:\", t_stat)\n",
    "print(\"p-value:\", p_value)\n",
    "if p_value>=0.5:\n",
    "    print('reject H0')\n",
    "else :\n",
    "    print('fail to reject H0')"
   ]
  },
  {
   "cell_type": "markdown",
   "metadata": {},
   "source": [
    "### 16. A pharmaceutical company wants to determine if a new drug is more effective than an existing drug in reducing cholesterol levels. Create a program to analyze the clinical trial data and calculate the tstatistic and p-value for the treatment effect."
   ]
  },
  {
   "cell_type": "code",
   "execution_count": 68,
   "metadata": {},
   "outputs": [
    {
     "name": "stdout",
     "output_type": "stream",
     "text": [
      "t-critical : 1.8331129326536335\n",
      "t-statistic: 4.14048098620866\n",
      "p-value: 0.0006143398442372505\n",
      "reject H0\n"
     ]
    }
   ],
   "source": [
    "existing_drug_levels = [180, 182, 175, 185, 178, 176, 172, 184, 179, 183]\n",
    "\n",
    "new_drug_levels = [170, 172, 165, 168, 175, 173, 170, 178, 172, 176]\n",
    "\n",
    "# t-test \n",
    "# null hypothesis : new drug is less/equally effective than existing\n",
    "# alternative hypothesis : new drug is more effective than existing\n",
    "import scipy.stats as stats\n",
    "t_stat, p_value = stats.ttest_ind(existing_drug_levels, new_drug_levels)\n",
    "t_critical = stats.t.ppf(df = 9, q=0.95)\n",
    "# df = degree of freedom\n",
    "print(\"t-critical :\",t_critical)\n",
    "print(\"t-statistic:\", t_stat)\n",
    "print(\"p-value:\", p_value)\n",
    "if p_value<0.5:\n",
    "    print('reject H0')\n",
    "else :\n",
    "    print('fail to reject H0')"
   ]
  },
  {
   "cell_type": "markdown",
   "metadata": {},
   "source": [
    "### 17. A school district introduces an educational intervention program to improve math scoresV Write a Python function to analyze pre- and post-intervention test scores, calculating the t-statistic and p-value to determine if the intervention had a significant impact."
   ]
  },
  {
   "cell_type": "code",
   "execution_count": 69,
   "metadata": {},
   "outputs": [
    {
     "name": "stdout",
     "output_type": "stream",
     "text": [
      "t-critical : 1.8331129326536335\n",
      "t-statistic: -4.080355128162116\n",
      "p-value: 0.0007022570725706455\n",
      "fail to reject H0\n"
     ]
    }
   ],
   "source": [
    "pre_intervention_scores = [80, 85, 90, 75, 88, 82, 92, 78, 85, 87]\n",
    "\n",
    "post_intervention_scores = [90, 92, 88, 92, 95, 91, 96, 93, 89, 93]\n",
    "\n",
    "# t-test \n",
    "# null hypothesis : intervention has a significant impact\n",
    "# alternative hypothesis : intervention has not a significant impact\n",
    "import scipy.stats as stats\n",
    "t_stat, p_value = stats.ttest_ind(pre_intervention_scores, post_intervention_scores)\n",
    "t_critical = stats.t.ppf(df = 9, q=0.95)\n",
    "# df = degree of freedom\n",
    "print(\"t-critical :\",t_critical)\n",
    "print(\"t-statistic:\", t_stat)\n",
    "print(\"p-value:\", p_value)\n",
    "if p_value>=0.5:\n",
    "    print('reject H0')\n",
    "else :\n",
    "    print('fail to reject H0')"
   ]
  },
  {
   "cell_type": "markdown",
   "metadata": {},
   "source": [
    "### 18. An HR department wants to investigate if there's a gender-based salary gap within the company. Develop a program to analyze salary data, calculate the t-statistic, and determine if there's a statistically significant difference between the average salaries of male and female employees."
   ]
  },
  {
   "cell_type": "code",
   "execution_count": 73,
   "metadata": {},
   "outputs": [
    {
     "name": "stdout",
     "output_type": "stream",
     "text": [
      "t-critical : 1.8331129326536335\n",
      "t-statistic: 0.06114208969631383\n",
      "p-value: 0.9515665020676465\n",
      "reject H0\n"
     ]
    }
   ],
   "source": [
    "# Generate synthetic salary data for male and female employees\n",
    "\n",
    "np.random.seed(0)  # For reproducibility\n",
    "\n",
    "male_salaries = np.random.normal(loc=50000, scale=10000, size=20)\n",
    "\n",
    "female_salaries = np.random.normal(loc=55000, scale=9000, size=20)\n",
    "\n",
    "# t-test \n",
    "# null hypothesis : salaries have a significant differennce\n",
    "# alternative hypothesis : salaries have not a significant differennce\n",
    "import scipy.stats as stats\n",
    "t_stat, p_value = stats.ttest_ind(male_salaries, female_salaries)\n",
    "t_critical = stats.t.ppf(df = 9, q=0.95)\n",
    "# df = degree of freedom\n",
    "print(\"t-critical :\",t_critical)\n",
    "print(\"t-statistic:\", t_stat)\n",
    "print(\"p-value:\", p_value)\n",
    "if p_value>=0.5:\n",
    "    print('reject H0')\n",
    "else :\n",
    "    print('fail to reject H0')"
   ]
  },
  {
   "cell_type": "markdown",
   "metadata": {},
   "source": [
    "### 19. A manufacturer produces two different versions of a product and wants to compare their quality scores. Create a Python function to analyze quality assessment data, calculate the t-statistic, and decide whether there's a significant difference in quality between the two versions."
   ]
  },
  {
   "cell_type": "code",
   "execution_count": 76,
   "metadata": {},
   "outputs": [
    {
     "name": "stdout",
     "output_type": "stream",
     "text": [
      "t-critical : 1.8331129326536335\n",
      "t-statistic: 11.325830417646698\n",
      "p-value: 3.6824250702873965e-15\n",
      "fail to reject H0\n"
     ]
    }
   ],
   "source": [
    "version1_scores = [85, 88, 82, 89, 87, 84, 90, 88, 85, 86, 91, 83, 87, 84, 89, 86, 84, 88, 85, 86, 89, 90, 87, 88, 85]\n",
    "\n",
    "version2_scores = [80, 78, 83, 81, 79, 82, 76, 80, 78, 81, 77, 82, 80, 79, 82, 79, 80, 81, 79, 82, 79, 78, 80, 81, 82]\n",
    "\n",
    "# t-test \n",
    "# null hypothesis : quality has a significant differennce\n",
    "# alternative hypothesis : quality has not a significant differennce\n",
    "import scipy.stats as stats\n",
    "t_stat, p_value = stats.ttest_ind(version1_scores, version2_scores)\n",
    "t_critical = stats.t.ppf(df = 9, q=0.95)\n",
    "# df = degree of freedom\n",
    "print(\"t-critical :\",t_critical)\n",
    "print(\"t-statistic:\", t_stat)\n",
    "print(\"p-value:\", p_value)\n",
    "if p_value>=0.5:\n",
    "    print('reject H0')\n",
    "else :\n",
    "    print('fail to reject H0')"
   ]
  },
  {
   "cell_type": "markdown",
   "metadata": {},
   "source": [
    "### 20. A restaurant chain collects customer satisfaction scores for two different branches. Write a program to analyze the scores, calculate the t-statistic, and determine if there's a statistically significant difference in customer satisfaction between the branches."
   ]
  },
  {
   "cell_type": "code",
   "execution_count": 77,
   "metadata": {},
   "outputs": [
    {
     "name": "stdout",
     "output_type": "stream",
     "text": [
      "t-critical : 1.8331129326536335\n",
      "t-statistic: 5.480077554195743\n",
      "p-value: 8.895290509945655e-07\n",
      "fail to reject H0\n"
     ]
    },
    {
     "data": {
      "text/plain": [
       "(np.float64(4.129032258064516), np.float64(3.129032258064516))"
      ]
     },
     "execution_count": 77,
     "metadata": {},
     "output_type": "execute_result"
    }
   ],
   "source": [
    "branch_a_scores = [4, 5, 3, 4, 5, 4, 5, 3, 4, 4, 5, 4, 4, 3, 4, 5, 5, 4, 3, 4, 5, 4, 3, 5, 4, 4, 5, 3, 4, 5, 4]\n",
    "\n",
    "branch_b_scores = [3, 4, 2, 3, 4, 3, 4, 2, 3, 3, 4, 3, 3, 2, 3, 4, 4, 3, 2, 3, 4, 3, 2, 4, 3, 3, 4, 2, 3, 4, 3]\n",
    "\n",
    "# t-test \n",
    "# null hypothesis : satisfaction has a significant differennce\n",
    "# alternative hypothesis : satisfaction has not a significant differennce\n",
    "import scipy.stats as stats\n",
    "t_stat, p_value = stats.ttest_ind(branch_a_scores, branch_b_scores)\n",
    "t_critical = stats.t.ppf(df = 9, q=0.95)\n",
    "# df = degree of freedom\n",
    "print(\"t-critical :\",t_critical)\n",
    "print(\"t-statistic:\", t_stat)\n",
    "print(\"p-value:\", p_value)\n",
    "if p_value>=0.5:\n",
    "    print('reject H0')\n",
    "else :\n",
    "    print('fail to reject H0')\n"
   ]
  },
  {
   "cell_type": "markdown",
   "metadata": {},
   "source": [
    "### 21. A political analyst wants to determine if there is a significant association between age groups and voter preferences Candidate A or Candidate B. They collect data from a sample of 500 voters and classify them into different age groups and candidate preferences. Perform a Chi-Square test to determine if there is a significant association between age groups and voter preferences."
   ]
  },
  {
   "cell_type": "code",
   "execution_count": 1,
   "metadata": {},
   "outputs": [
    {
     "name": "stdout",
     "output_type": "stream",
     "text": [
      "Contingency Table:\n",
      "Voter Preference  Candidate A  Candidate B\n",
      "Age Group                                 \n",
      "18-30                      95           87\n",
      "31-50                      87           82\n",
      "51+                        84           65\n",
      "\n",
      "Chi-Square Statistic: 0.8780\n",
      "P-value: 0.6447\n",
      "Degrees of Freedom: 2\n",
      "Expected Frequencies:\n",
      "[[96.824 85.176]\n",
      " [89.908 79.092]\n",
      " [79.268 69.732]]\n",
      "\n",
      "Significance level: 0.05\n",
      "There is no significant association between age groups and voter preferences.\n"
     ]
    }
   ],
   "source": [
    "import numpy as np\n",
    "import pandas as pd\n",
    "from scipy.stats import chi2_contingency\n",
    "\n",
    "np.random.seed(0)\n",
    "\n",
    "# Generate data for age groups and voter preferences\n",
    "age_groups = np.random.choice(['18-30', '31-50', '51+'], size=500)\n",
    "voter_preferences = np.random.choice(['Candidate A', 'Candidate B'], size=500)\n",
    "\n",
    "# Create a DataFrame\n",
    "data = pd.DataFrame({'Age Group': age_groups, 'Voter Preference': voter_preferences})\n",
    "\n",
    "# Create a contingency table (cross-tabulation)\n",
    "contingency_table = pd.crosstab(data['Age Group'], data['Voter Preference'])\n",
    "\n",
    "print(\"Contingency Table:\")\n",
    "print(contingency_table)\n",
    "print()\n",
    "\n",
    "# Perform Chi-Square test\n",
    "chi2, p, dof, expected = chi2_contingency(contingency_table)\n",
    "\n",
    "print(f\"Chi-Square Statistic: {chi2:.4f}\")\n",
    "print(f\"P-value: {p:.4f}\")\n",
    "print(f\"Degrees of Freedom: {dof}\")\n",
    "print(\"Expected Frequencies:\")\n",
    "print(expected)\n",
    "print()\n",
    "\n",
    "# Interpret the results\n",
    "alpha = 0.05\n",
    "print(f\"Significance level: {alpha}\")\n",
    "if p < alpha:\n",
    "    print(\"There is a significant association between age groups and voter preferences.\")\n",
    "else:\n",
    "    print(\"There is no significant association between age groups and voter preferences.\")\n"
   ]
  },
  {
   "cell_type": "markdown",
   "metadata": {},
   "source": [
    "### 22. A company conducted a customer satisfaction survey to determine if there is a significant relationship between product satisfaction levels (Satisfied, Neutral, Dissatisfied) and the region where customers are located (East, West, North, South). The survey data is summarized in a contingency table. Conduct a ChiSquare test to determine if there is a significant relationship between product satisfaction levels and customer regions."
   ]
  },
  {
   "cell_type": "code",
   "execution_count": 2,
   "metadata": {},
   "outputs": [
    {
     "name": "stdout",
     "output_type": "stream",
     "text": [
      "Chi-Square Statistic: 27.777056277056275\n",
      "P-value: 0.00010349448486004387\n",
      "Degrees of Freedom: 6\n",
      "Expected Frequencies:\n",
      "[[34.14634146 34.14634146 37.56097561 34.14634146]\n",
      " [36.58536585 36.58536585 40.24390244 36.58536585]\n",
      " [29.26829268 29.26829268 32.19512195 29.26829268]]\n",
      "\n",
      "Significance level: 0.05\n",
      "There is a significant relationship between product satisfaction levels and customer regions.\n"
     ]
    }
   ],
   "source": [
    "import numpy as np\n",
    "from scipy.stats import chi2_contingency\n",
    "\n",
    "# Given contingency table\n",
    "data = np.array([[50, 30, 40, 20], \n",
    "                 [30, 40, 30, 50], \n",
    "                 [20, 30, 40, 30]])\n",
    "\n",
    "# Perform Chi-Square test\n",
    "chi2, p, dof, expected = chi2_contingency(data)\n",
    "\n",
    "# Print results\n",
    "print(\"Chi-Square Statistic:\", chi2)\n",
    "print(\"P-value:\", p)\n",
    "print(\"Degrees of Freedom:\", dof)\n",
    "print(\"Expected Frequencies:\")\n",
    "print(expected)\n",
    "\n",
    "# Interpret the results\n",
    "alpha = 0.05\n",
    "print(f\"\\nSignificance level: {alpha}\")\n",
    "if p < alpha:\n",
    "    print(\"There is a significant relationship between product satisfaction levels and customer regions.\")\n",
    "else:\n",
    "    print(\"There is no significant relationship between product satisfaction levels and customer regions.\")\n"
   ]
  },
  {
   "cell_type": "markdown",
   "metadata": {},
   "source": [
    "###  23. A company implemented an employee training program to improve job performance (Effective, Neutral, Ineffective). After the training, they collected data from a sample of employees and classified them based on their job performance before and after the training. Perform a Chi-Square test to determine if there is a significant difference between job performance levels before and after the training."
   ]
  },
  {
   "cell_type": "code",
   "execution_count": 4,
   "metadata": {},
   "outputs": [
    {
     "name": "stdout",
     "output_type": "stream",
     "text": [
      "Chi-Square Statistic: 22.161728395061726\n",
      "P-value: 0.00018609719479882557\n",
      "Degrees of Freedom: 4\n",
      "Expected Frequencies:\n",
      "[[34.48275862 34.48275862 31.03448276]\n",
      " [34.48275862 34.48275862 31.03448276]\n",
      " [31.03448276 31.03448276 27.93103448]]\n",
      "\n",
      "Significance level: 0.05\n",
      "There is a significant difference between job performance levels before and after training.\n"
     ]
    }
   ],
   "source": [
    "# Sample data: Job performance levels before (rows) and after (columns) training\n",
    "\n",
    "data = np.array([[50, 30, 20], [30, 40, 30], [20, 30, 40]])\n",
    "\n",
    "# Perform Chi-Square test\n",
    "chi2, p, dof, expected = chi2_contingency(data)\n",
    "\n",
    "# Print results\n",
    "print(\"Chi-Square Statistic:\", chi2)\n",
    "print(\"P-value:\", p)\n",
    "print(\"Degrees of Freedom:\", dof)\n",
    "print(\"Expected Frequencies:\")\n",
    "print(expected)\n",
    "\n",
    "# Interpret the results\n",
    "alpha = 0.05\n",
    "print(f\"\\nSignificance level: {alpha}\")\n",
    "if p < alpha:\n",
    "    print(\"There is a significant difference between job performance levels before and after training.\")\n",
    "else:\n",
    "    print(\"There is no significant\")\n"
   ]
  },
  {
   "cell_type": "markdown",
   "metadata": {},
   "source": [
    "###  24. A company produces three different versions of a product: Standard, Premium, and Deluxe. The company wants to determine if there is a significant difference in customer satisfaction scores among the three product versions. They conducted a survey and collected customer satisfaction scores for each version from a random sample of customers. Perform an ANOVA test to determine if there is a significant difference in customer satisfaction scores."
   ]
  },
  {
   "cell_type": "code",
   "execution_count": 5,
   "metadata": {},
   "outputs": [
    {
     "name": "stdout",
     "output_type": "stream",
     "text": [
      "F-statistic: 27.03556231003039\n",
      "P-value: 3.5786328857349003e-07\n"
     ]
    }
   ],
   "source": [
    "import scipy.stats as stats\n",
    "\n",
    "# Sample data\n",
    "standard_scores = [80, 85, 90, 78, 88, 82, 92, 78, 85, 87]\n",
    "premium_scores = [90, 92, 88, 92, 95, 91, 96, 93, 89, 93]\n",
    "deluxe_scores = [95, 98, 92, 97, 96, 94, 98, 97, 92, 99]\n",
    "\n",
    "# Perform ANOVA\n",
    "statistic, p_value = stats.f_oneway(standard_scores, premium_scores, deluxe_scores)\n",
    "\n",
    "print(\"F-statistic:\", statistic)\n",
    "print(\"P-value:\", p_value)\n"
   ]
  },
  {
   "cell_type": "markdown",
   "metadata": {},
   "source": [
    "**Conclusion:** The p-value (2.24e-05) is much smaller than 0.05 (commonly chosen significance level), indicating strong evidence against the null hypothesis. Therefore, we reject the null hypothesis and conclude that there is a significant difference in customer satisfaction scores among the three product versions (Standard, Premium, and Deluxe)."
   ]
  },
  {
   "cell_type": "code",
   "execution_count": null,
   "metadata": {},
   "outputs": [],
   "source": []
  }
 ],
 "metadata": {
  "kernelspec": {
   "display_name": "Python 3",
   "language": "python",
   "name": "python3"
  },
  "language_info": {
   "codemirror_mode": {
    "name": "ipython",
    "version": 3
   },
   "file_extension": ".py",
   "mimetype": "text/x-python",
   "name": "python",
   "nbconvert_exporter": "python",
   "pygments_lexer": "ipython3",
   "version": "3.12.4"
  }
 },
 "nbformat": 4,
 "nbformat_minor": 2
}
