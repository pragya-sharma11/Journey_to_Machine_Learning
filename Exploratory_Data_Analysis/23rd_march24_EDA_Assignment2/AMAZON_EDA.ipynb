{
 "cells": [
  {
   "cell_type": "code",
   "execution_count": 2,
   "metadata": {},
   "outputs": [],
   "source": [
    "import pandas as pd \n",
    "import numpy as np \n",
    "import matplotlib.pyplot as plt \n",
    "import seaborn as sns \n",
    "\n",
    "%matplotlib inline\n",
    "\n",
    "import warnings\n",
    "warnings.filterwarnings('ignore')\n"
   ]
  },
  {
   "cell_type": "code",
   "execution_count": 3,
   "metadata": {},
   "outputs": [
    {
     "data": {
      "text/html": [
       "<div>\n",
       "<style scoped>\n",
       "    .dataframe tbody tr th:only-of-type {\n",
       "        vertical-align: middle;\n",
       "    }\n",
       "\n",
       "    .dataframe tbody tr th {\n",
       "        vertical-align: top;\n",
       "    }\n",
       "\n",
       "    .dataframe thead th {\n",
       "        text-align: right;\n",
       "    }\n",
       "</style>\n",
       "<table border=\"1\" class=\"dataframe\">\n",
       "  <thead>\n",
       "    <tr style=\"text-align: right;\">\n",
       "      <th></th>\n",
       "      <th>product_id</th>\n",
       "      <th>product_name</th>\n",
       "      <th>category</th>\n",
       "      <th>discounted_price</th>\n",
       "      <th>actual_price</th>\n",
       "      <th>discount_percentage</th>\n",
       "      <th>rating</th>\n",
       "      <th>rating_count</th>\n",
       "      <th>about_product</th>\n",
       "      <th>user_id</th>\n",
       "      <th>user_name</th>\n",
       "      <th>review_id</th>\n",
       "      <th>review_title</th>\n",
       "      <th>review_content</th>\n",
       "      <th>img_link</th>\n",
       "      <th>product_link</th>\n",
       "    </tr>\n",
       "  </thead>\n",
       "  <tbody>\n",
       "    <tr>\n",
       "      <th>0</th>\n",
       "      <td>B07JW9H4J1</td>\n",
       "      <td>Wayona Nylon Braided USB to Lightning Fast Cha...</td>\n",
       "      <td>Computers&amp;Accessories|Accessories&amp;Peripherals|...</td>\n",
       "      <td>₹399</td>\n",
       "      <td>₹1,099</td>\n",
       "      <td>64%</td>\n",
       "      <td>4.2</td>\n",
       "      <td>24,269</td>\n",
       "      <td>High Compatibility : Compatible With iPhone 12...</td>\n",
       "      <td>AG3D6O4STAQKAY2UVGEUV46KN35Q,AHMY5CWJMMK5BJRBB...</td>\n",
       "      <td>Manav,Adarsh gupta,Sundeep,S.Sayeed Ahmed,jasp...</td>\n",
       "      <td>R3HXWT0LRP0NMF,R2AJM3LFTLZHFO,R6AQJGUP6P86,R1K...</td>\n",
       "      <td>Satisfied,Charging is really fast,Value for mo...</td>\n",
       "      <td>Looks durable Charging is fine tooNo complains...</td>\n",
       "      <td>https://m.media-amazon.com/images/W/WEBP_40237...</td>\n",
       "      <td>https://www.amazon.in/Wayona-Braided-WN3LG1-Sy...</td>\n",
       "    </tr>\n",
       "    <tr>\n",
       "      <th>1</th>\n",
       "      <td>B098NS6PVG</td>\n",
       "      <td>Ambrane Unbreakable 60W / 3A Fast Charging 1.5...</td>\n",
       "      <td>Computers&amp;Accessories|Accessories&amp;Peripherals|...</td>\n",
       "      <td>₹199</td>\n",
       "      <td>₹349</td>\n",
       "      <td>43%</td>\n",
       "      <td>4.0</td>\n",
       "      <td>43,994</td>\n",
       "      <td>Compatible with all Type C enabled devices, be...</td>\n",
       "      <td>AECPFYFQVRUWC3KGNLJIOREFP5LQ,AGYYVPDD7YG7FYNBX...</td>\n",
       "      <td>ArdKn,Nirbhay kumar,Sagar Viswanathan,Asp,Plac...</td>\n",
       "      <td>RGIQEG07R9HS2,R1SMWZQ86XIN8U,R2J3Y1WL29GWDE,RY...</td>\n",
       "      <td>A Good Braided Cable for Your Type C Device,Go...</td>\n",
       "      <td>I ordered this cable to connect my phone to An...</td>\n",
       "      <td>https://m.media-amazon.com/images/W/WEBP_40237...</td>\n",
       "      <td>https://www.amazon.in/Ambrane-Unbreakable-Char...</td>\n",
       "    </tr>\n",
       "    <tr>\n",
       "      <th>2</th>\n",
       "      <td>B096MSW6CT</td>\n",
       "      <td>Sounce Fast Phone Charging Cable &amp; Data Sync U...</td>\n",
       "      <td>Computers&amp;Accessories|Accessories&amp;Peripherals|...</td>\n",
       "      <td>₹199</td>\n",
       "      <td>₹1,899</td>\n",
       "      <td>90%</td>\n",
       "      <td>3.9</td>\n",
       "      <td>7,928</td>\n",
       "      <td>【 Fast Charger&amp; Data Sync】-With built-in safet...</td>\n",
       "      <td>AGU3BBQ2V2DDAMOAKGFAWDDQ6QHA,AESFLDV2PT363T2AQ...</td>\n",
       "      <td>Kunal,Himanshu,viswanath,sai niharka,saqib mal...</td>\n",
       "      <td>R3J3EQQ9TZI5ZJ,R3E7WBGK7ID0KV,RWU79XKQ6I1QF,R2...</td>\n",
       "      <td>Good speed for earlier versions,Good Product,W...</td>\n",
       "      <td>Not quite durable and sturdy,https://m.media-a...</td>\n",
       "      <td>https://m.media-amazon.com/images/W/WEBP_40237...</td>\n",
       "      <td>https://www.amazon.in/Sounce-iPhone-Charging-C...</td>\n",
       "    </tr>\n",
       "    <tr>\n",
       "      <th>3</th>\n",
       "      <td>B08HDJ86NZ</td>\n",
       "      <td>boAt Deuce USB 300 2 in 1 Type-C &amp; Micro USB S...</td>\n",
       "      <td>Computers&amp;Accessories|Accessories&amp;Peripherals|...</td>\n",
       "      <td>₹329</td>\n",
       "      <td>₹699</td>\n",
       "      <td>53%</td>\n",
       "      <td>4.2</td>\n",
       "      <td>94,363</td>\n",
       "      <td>The boAt Deuce USB 300 2 in 1 cable is compati...</td>\n",
       "      <td>AEWAZDZZJLQUYVOVGBEUKSLXHQ5A,AG5HTSFRRE6NL3M5S...</td>\n",
       "      <td>Omkar dhale,JD,HEMALATHA,Ajwadh a.,amar singh ...</td>\n",
       "      <td>R3EEUZKKK9J36I,R3HJVYCLYOY554,REDECAZ7AMPQC,R1...</td>\n",
       "      <td>Good product,Good one,Nice,Really nice product...</td>\n",
       "      <td>Good product,long wire,Charges good,Nice,I bou...</td>\n",
       "      <td>https://m.media-amazon.com/images/I/41V5FtEWPk...</td>\n",
       "      <td>https://www.amazon.in/Deuce-300-Resistant-Tang...</td>\n",
       "    </tr>\n",
       "    <tr>\n",
       "      <th>4</th>\n",
       "      <td>B08CF3B7N1</td>\n",
       "      <td>Portronics Konnect L 1.2M Fast Charging 3A 8 P...</td>\n",
       "      <td>Computers&amp;Accessories|Accessories&amp;Peripherals|...</td>\n",
       "      <td>₹154</td>\n",
       "      <td>₹399</td>\n",
       "      <td>61%</td>\n",
       "      <td>4.2</td>\n",
       "      <td>16,905</td>\n",
       "      <td>[CHARGE &amp; SYNC FUNCTION]- This cable comes wit...</td>\n",
       "      <td>AE3Q6KSUK5P75D5HFYHCRAOLODSA,AFUGIFH5ZAFXRDSZH...</td>\n",
       "      <td>rahuls6099,Swasat Borah,Ajay Wadke,Pranali,RVK...</td>\n",
       "      <td>R1BP4L2HH9TFUP,R16PVJEXKV6QZS,R2UPDB81N66T4P,R...</td>\n",
       "      <td>As good as original,Decent,Good one for second...</td>\n",
       "      <td>Bought this instead of original apple, does th...</td>\n",
       "      <td>https://m.media-amazon.com/images/W/WEBP_40237...</td>\n",
       "      <td>https://www.amazon.in/Portronics-Konnect-POR-1...</td>\n",
       "    </tr>\n",
       "  </tbody>\n",
       "</table>\n",
       "</div>"
      ],
      "text/plain": [
       "   product_id                                       product_name  \\\n",
       "0  B07JW9H4J1  Wayona Nylon Braided USB to Lightning Fast Cha...   \n",
       "1  B098NS6PVG  Ambrane Unbreakable 60W / 3A Fast Charging 1.5...   \n",
       "2  B096MSW6CT  Sounce Fast Phone Charging Cable & Data Sync U...   \n",
       "3  B08HDJ86NZ  boAt Deuce USB 300 2 in 1 Type-C & Micro USB S...   \n",
       "4  B08CF3B7N1  Portronics Konnect L 1.2M Fast Charging 3A 8 P...   \n",
       "\n",
       "                                            category discounted_price  \\\n",
       "0  Computers&Accessories|Accessories&Peripherals|...             ₹399   \n",
       "1  Computers&Accessories|Accessories&Peripherals|...             ₹199   \n",
       "2  Computers&Accessories|Accessories&Peripherals|...             ₹199   \n",
       "3  Computers&Accessories|Accessories&Peripherals|...             ₹329   \n",
       "4  Computers&Accessories|Accessories&Peripherals|...             ₹154   \n",
       "\n",
       "  actual_price discount_percentage rating rating_count  \\\n",
       "0       ₹1,099                 64%    4.2       24,269   \n",
       "1         ₹349                 43%    4.0       43,994   \n",
       "2       ₹1,899                 90%    3.9        7,928   \n",
       "3         ₹699                 53%    4.2       94,363   \n",
       "4         ₹399                 61%    4.2       16,905   \n",
       "\n",
       "                                       about_product  \\\n",
       "0  High Compatibility : Compatible With iPhone 12...   \n",
       "1  Compatible with all Type C enabled devices, be...   \n",
       "2  【 Fast Charger& Data Sync】-With built-in safet...   \n",
       "3  The boAt Deuce USB 300 2 in 1 cable is compati...   \n",
       "4  [CHARGE & SYNC FUNCTION]- This cable comes wit...   \n",
       "\n",
       "                                             user_id  \\\n",
       "0  AG3D6O4STAQKAY2UVGEUV46KN35Q,AHMY5CWJMMK5BJRBB...   \n",
       "1  AECPFYFQVRUWC3KGNLJIOREFP5LQ,AGYYVPDD7YG7FYNBX...   \n",
       "2  AGU3BBQ2V2DDAMOAKGFAWDDQ6QHA,AESFLDV2PT363T2AQ...   \n",
       "3  AEWAZDZZJLQUYVOVGBEUKSLXHQ5A,AG5HTSFRRE6NL3M5S...   \n",
       "4  AE3Q6KSUK5P75D5HFYHCRAOLODSA,AFUGIFH5ZAFXRDSZH...   \n",
       "\n",
       "                                           user_name  \\\n",
       "0  Manav,Adarsh gupta,Sundeep,S.Sayeed Ahmed,jasp...   \n",
       "1  ArdKn,Nirbhay kumar,Sagar Viswanathan,Asp,Plac...   \n",
       "2  Kunal,Himanshu,viswanath,sai niharka,saqib mal...   \n",
       "3  Omkar dhale,JD,HEMALATHA,Ajwadh a.,amar singh ...   \n",
       "4  rahuls6099,Swasat Borah,Ajay Wadke,Pranali,RVK...   \n",
       "\n",
       "                                           review_id  \\\n",
       "0  R3HXWT0LRP0NMF,R2AJM3LFTLZHFO,R6AQJGUP6P86,R1K...   \n",
       "1  RGIQEG07R9HS2,R1SMWZQ86XIN8U,R2J3Y1WL29GWDE,RY...   \n",
       "2  R3J3EQQ9TZI5ZJ,R3E7WBGK7ID0KV,RWU79XKQ6I1QF,R2...   \n",
       "3  R3EEUZKKK9J36I,R3HJVYCLYOY554,REDECAZ7AMPQC,R1...   \n",
       "4  R1BP4L2HH9TFUP,R16PVJEXKV6QZS,R2UPDB81N66T4P,R...   \n",
       "\n",
       "                                        review_title  \\\n",
       "0  Satisfied,Charging is really fast,Value for mo...   \n",
       "1  A Good Braided Cable for Your Type C Device,Go...   \n",
       "2  Good speed for earlier versions,Good Product,W...   \n",
       "3  Good product,Good one,Nice,Really nice product...   \n",
       "4  As good as original,Decent,Good one for second...   \n",
       "\n",
       "                                      review_content  \\\n",
       "0  Looks durable Charging is fine tooNo complains...   \n",
       "1  I ordered this cable to connect my phone to An...   \n",
       "2  Not quite durable and sturdy,https://m.media-a...   \n",
       "3  Good product,long wire,Charges good,Nice,I bou...   \n",
       "4  Bought this instead of original apple, does th...   \n",
       "\n",
       "                                            img_link  \\\n",
       "0  https://m.media-amazon.com/images/W/WEBP_40237...   \n",
       "1  https://m.media-amazon.com/images/W/WEBP_40237...   \n",
       "2  https://m.media-amazon.com/images/W/WEBP_40237...   \n",
       "3  https://m.media-amazon.com/images/I/41V5FtEWPk...   \n",
       "4  https://m.media-amazon.com/images/W/WEBP_40237...   \n",
       "\n",
       "                                        product_link  \n",
       "0  https://www.amazon.in/Wayona-Braided-WN3LG1-Sy...  \n",
       "1  https://www.amazon.in/Ambrane-Unbreakable-Char...  \n",
       "2  https://www.amazon.in/Sounce-iPhone-Charging-C...  \n",
       "3  https://www.amazon.in/Deuce-300-Resistant-Tang...  \n",
       "4  https://www.amazon.in/Portronics-Konnect-POR-1...  "
      ]
     },
     "execution_count": 3,
     "metadata": {},
     "output_type": "execute_result"
    }
   ],
   "source": [
    "df = pd.read_csv(\"amazon.csv\")\n",
    "df.head()"
   ]
  },
  {
   "cell_type": "code",
   "execution_count": 4,
   "metadata": {},
   "outputs": [
    {
     "data": {
      "text/html": [
       "<div>\n",
       "<style scoped>\n",
       "    .dataframe tbody tr th:only-of-type {\n",
       "        vertical-align: middle;\n",
       "    }\n",
       "\n",
       "    .dataframe tbody tr th {\n",
       "        vertical-align: top;\n",
       "    }\n",
       "\n",
       "    .dataframe thead th {\n",
       "        text-align: right;\n",
       "    }\n",
       "</style>\n",
       "<table border=\"1\" class=\"dataframe\">\n",
       "  <thead>\n",
       "    <tr style=\"text-align: right;\">\n",
       "      <th></th>\n",
       "      <th>product_id</th>\n",
       "      <th>product_name</th>\n",
       "      <th>category</th>\n",
       "      <th>discounted_price</th>\n",
       "      <th>actual_price</th>\n",
       "      <th>discount_percentage</th>\n",
       "      <th>rating</th>\n",
       "      <th>rating_count</th>\n",
       "      <th>about_product</th>\n",
       "      <th>user_id</th>\n",
       "      <th>user_name</th>\n",
       "      <th>review_id</th>\n",
       "      <th>review_title</th>\n",
       "      <th>review_content</th>\n",
       "      <th>img_link</th>\n",
       "      <th>product_link</th>\n",
       "    </tr>\n",
       "  </thead>\n",
       "  <tbody>\n",
       "    <tr>\n",
       "      <th>count</th>\n",
       "      <td>1465</td>\n",
       "      <td>1465</td>\n",
       "      <td>1465</td>\n",
       "      <td>1465</td>\n",
       "      <td>1465</td>\n",
       "      <td>1465</td>\n",
       "      <td>1465</td>\n",
       "      <td>1463</td>\n",
       "      <td>1465</td>\n",
       "      <td>1465</td>\n",
       "      <td>1465</td>\n",
       "      <td>1465</td>\n",
       "      <td>1465</td>\n",
       "      <td>1465</td>\n",
       "      <td>1465</td>\n",
       "      <td>1465</td>\n",
       "    </tr>\n",
       "    <tr>\n",
       "      <th>unique</th>\n",
       "      <td>1351</td>\n",
       "      <td>1337</td>\n",
       "      <td>211</td>\n",
       "      <td>550</td>\n",
       "      <td>449</td>\n",
       "      <td>92</td>\n",
       "      <td>28</td>\n",
       "      <td>1143</td>\n",
       "      <td>1293</td>\n",
       "      <td>1194</td>\n",
       "      <td>1194</td>\n",
       "      <td>1194</td>\n",
       "      <td>1194</td>\n",
       "      <td>1212</td>\n",
       "      <td>1412</td>\n",
       "      <td>1465</td>\n",
       "    </tr>\n",
       "    <tr>\n",
       "      <th>top</th>\n",
       "      <td>B07JW9H4J1</td>\n",
       "      <td>Fire-Boltt Ninja Call Pro Plus 1.83\" Smart Wat...</td>\n",
       "      <td>Computers&amp;Accessories|Accessories&amp;Peripherals|...</td>\n",
       "      <td>₹199</td>\n",
       "      <td>₹999</td>\n",
       "      <td>50%</td>\n",
       "      <td>4.1</td>\n",
       "      <td>9,378</td>\n",
       "      <td>[CHARGE &amp; SYNC FUNCTION]- This cable comes wit...</td>\n",
       "      <td>AHIKJUDTVJ4T6DV6IUGFYZ5LXMPA,AE55KTFVNXYFD5FPY...</td>\n",
       "      <td>$@|\\|TO$|-|,Sethu madhav,Akash Thakur,Burger P...</td>\n",
       "      <td>R3F4T5TRYPTMIG,R3DQIEC603E7AY,R1O4Z15FD40PV5,R...</td>\n",
       "      <td>Worked on iPhone 7 and didn’t work on XR,Good ...</td>\n",
       "      <td>I am not big on camera usage, personally. I wa...</td>\n",
       "      <td>https://m.media-amazon.com/images/I/413sCRKobN...</td>\n",
       "      <td>https://www.amazon.in/Wayona-Braided-WN3LG1-Sy...</td>\n",
       "    </tr>\n",
       "    <tr>\n",
       "      <th>freq</th>\n",
       "      <td>3</td>\n",
       "      <td>5</td>\n",
       "      <td>233</td>\n",
       "      <td>53</td>\n",
       "      <td>120</td>\n",
       "      <td>56</td>\n",
       "      <td>244</td>\n",
       "      <td>9</td>\n",
       "      <td>6</td>\n",
       "      <td>10</td>\n",
       "      <td>10</td>\n",
       "      <td>10</td>\n",
       "      <td>10</td>\n",
       "      <td>8</td>\n",
       "      <td>3</td>\n",
       "      <td>1</td>\n",
       "    </tr>\n",
       "  </tbody>\n",
       "</table>\n",
       "</div>"
      ],
      "text/plain": [
       "        product_id                                       product_name  \\\n",
       "count         1465                                               1465   \n",
       "unique        1351                                               1337   \n",
       "top     B07JW9H4J1  Fire-Boltt Ninja Call Pro Plus 1.83\" Smart Wat...   \n",
       "freq             3                                                  5   \n",
       "\n",
       "                                                 category discounted_price  \\\n",
       "count                                                1465             1465   \n",
       "unique                                                211              550   \n",
       "top     Computers&Accessories|Accessories&Peripherals|...             ₹199   \n",
       "freq                                                  233               53   \n",
       "\n",
       "       actual_price discount_percentage rating rating_count  \\\n",
       "count          1465                1465   1465         1463   \n",
       "unique          449                  92     28         1143   \n",
       "top            ₹999                 50%    4.1        9,378   \n",
       "freq            120                  56    244            9   \n",
       "\n",
       "                                            about_product  \\\n",
       "count                                                1465   \n",
       "unique                                               1293   \n",
       "top     [CHARGE & SYNC FUNCTION]- This cable comes wit...   \n",
       "freq                                                    6   \n",
       "\n",
       "                                                  user_id  \\\n",
       "count                                                1465   \n",
       "unique                                               1194   \n",
       "top     AHIKJUDTVJ4T6DV6IUGFYZ5LXMPA,AE55KTFVNXYFD5FPY...   \n",
       "freq                                                   10   \n",
       "\n",
       "                                                user_name  \\\n",
       "count                                                1465   \n",
       "unique                                               1194   \n",
       "top     $@|\\|TO$|-|,Sethu madhav,Akash Thakur,Burger P...   \n",
       "freq                                                   10   \n",
       "\n",
       "                                                review_id  \\\n",
       "count                                                1465   \n",
       "unique                                               1194   \n",
       "top     R3F4T5TRYPTMIG,R3DQIEC603E7AY,R1O4Z15FD40PV5,R...   \n",
       "freq                                                   10   \n",
       "\n",
       "                                             review_title  \\\n",
       "count                                                1465   \n",
       "unique                                               1194   \n",
       "top     Worked on iPhone 7 and didn’t work on XR,Good ...   \n",
       "freq                                                   10   \n",
       "\n",
       "                                           review_content  \\\n",
       "count                                                1465   \n",
       "unique                                               1212   \n",
       "top     I am not big on camera usage, personally. I wa...   \n",
       "freq                                                    8   \n",
       "\n",
       "                                                 img_link  \\\n",
       "count                                                1465   \n",
       "unique                                               1412   \n",
       "top     https://m.media-amazon.com/images/I/413sCRKobN...   \n",
       "freq                                                    3   \n",
       "\n",
       "                                             product_link  \n",
       "count                                                1465  \n",
       "unique                                               1465  \n",
       "top     https://www.amazon.in/Wayona-Braided-WN3LG1-Sy...  \n",
       "freq                                                    1  "
      ]
     },
     "execution_count": 4,
     "metadata": {},
     "output_type": "execute_result"
    }
   ],
   "source": [
    "df.describe()"
   ]
  },
  {
   "cell_type": "code",
   "execution_count": 5,
   "metadata": {},
   "outputs": [
    {
     "data": {
      "text/plain": [
       "product_id             0\n",
       "product_name           0\n",
       "category               0\n",
       "discounted_price       0\n",
       "actual_price           0\n",
       "discount_percentage    0\n",
       "rating                 0\n",
       "rating_count           2\n",
       "about_product          0\n",
       "user_id                0\n",
       "user_name              0\n",
       "review_id              0\n",
       "review_title           0\n",
       "review_content         0\n",
       "img_link               0\n",
       "product_link           0\n",
       "dtype: int64"
      ]
     },
     "execution_count": 5,
     "metadata": {},
     "output_type": "execute_result"
    }
   ],
   "source": [
    "df.isnull().sum()"
   ]
  },
  {
   "cell_type": "code",
   "execution_count": 6,
   "metadata": {},
   "outputs": [
    {
     "data": {
      "text/plain": [
       "(1465, 16)"
      ]
     },
     "execution_count": 6,
     "metadata": {},
     "output_type": "execute_result"
    }
   ],
   "source": [
    "df.shape"
   ]
  },
  {
   "cell_type": "code",
   "execution_count": 7,
   "metadata": {},
   "outputs": [
    {
     "name": "stdout",
     "output_type": "stream",
     "text": [
      "<class 'pandas.core.frame.DataFrame'>\n",
      "RangeIndex: 1465 entries, 0 to 1464\n",
      "Data columns (total 16 columns):\n",
      " #   Column               Non-Null Count  Dtype \n",
      "---  ------               --------------  ----- \n",
      " 0   product_id           1465 non-null   object\n",
      " 1   product_name         1465 non-null   object\n",
      " 2   category             1465 non-null   object\n",
      " 3   discounted_price     1465 non-null   object\n",
      " 4   actual_price         1465 non-null   object\n",
      " 5   discount_percentage  1465 non-null   object\n",
      " 6   rating               1465 non-null   object\n",
      " 7   rating_count         1463 non-null   object\n",
      " 8   about_product        1465 non-null   object\n",
      " 9   user_id              1465 non-null   object\n",
      " 10  user_name            1465 non-null   object\n",
      " 11  review_id            1465 non-null   object\n",
      " 12  review_title         1465 non-null   object\n",
      " 13  review_content       1465 non-null   object\n",
      " 14  img_link             1465 non-null   object\n",
      " 15  product_link         1465 non-null   object\n",
      "dtypes: object(16)\n",
      "memory usage: 183.3+ KB\n"
     ]
    }
   ],
   "source": [
    "df.info()"
   ]
  },
  {
   "cell_type": "markdown",
   "metadata": {},
   "source": [
    "## DATA CLEANING"
   ]
  },
  {
   "cell_type": "markdown",
   "metadata": {},
   "source": [
    "### Clean Rating column"
   ]
  },
  {
   "cell_type": "code",
   "execution_count": 8,
   "metadata": {},
   "outputs": [
    {
     "data": {
      "text/plain": [
       "array(['4.2', '4.0', '3.9', '4.1', '4.3', '4.4', '4.5', '3.7', '3.3',\n",
       "       '3.6', '3.4', '3.8', '3.5', '4.6', '3.2', '5.0', '4.7', '3.0',\n",
       "       '2.8', '4', '3.1', '4.8', '2.3', '|', '2', '3', '2.6', '2.9'],\n",
       "      dtype=object)"
      ]
     },
     "execution_count": 8,
     "metadata": {},
     "output_type": "execute_result"
    }
   ],
   "source": [
    "df['rating'].unique()"
   ]
  },
  {
   "cell_type": "code",
   "execution_count": 9,
   "metadata": {},
   "outputs": [],
   "source": [
    "df['rating']= df['rating'].apply(lambda x: np.nan if x=='|' else x)\n",
    "df['rating'] = round(df['rating'].astype(float),2)\n",
    "df['rating'].fillna(df['rating'].mean(), inplace=True)"
   ]
  },
  {
   "cell_type": "code",
   "execution_count": 10,
   "metadata": {},
   "outputs": [
    {
     "data": {
      "text/plain": [
       "array([4.2      , 4.       , 3.9      , 4.1      , 4.3      , 4.4      ,\n",
       "       4.5      , 3.7      , 3.3      , 3.6      , 3.4      , 3.8      ,\n",
       "       3.5      , 4.6      , 3.2      , 5.       , 4.7      , 3.       ,\n",
       "       2.8      , 3.1      , 4.8      , 2.3      , 4.0965847, 2.       ,\n",
       "       2.6      , 2.9      ])"
      ]
     },
     "execution_count": 10,
     "metadata": {},
     "output_type": "execute_result"
    }
   ],
   "source": [
    "df['rating'].unique()"
   ]
  },
  {
   "cell_type": "markdown",
   "metadata": {},
   "source": [
    "### Clean Rating column"
   ]
  },
  {
   "cell_type": "code",
   "execution_count": 11,
   "metadata": {},
   "outputs": [
    {
     "data": {
      "text/plain": [
       "array(['24269', '43994', '7928', ..., '468', '8031', '6987'], dtype=object)"
      ]
     },
     "execution_count": 11,
     "metadata": {},
     "output_type": "execute_result"
    }
   ],
   "source": [
    "def get_num(val):\n",
    "    x = ''\n",
    "    for i in str(val):\n",
    "        if i in \"0123456789.\":\n",
    "            x += i\n",
    "\n",
    "    return x if x!='' and x!='.' else np.nan\n",
    "\n",
    "df['rating_count'] = df['rating_count'].apply(get_num)\n",
    "df['rating_count'].unique()"
   ]
  },
  {
   "cell_type": "code",
   "execution_count": 12,
   "metadata": {},
   "outputs": [],
   "source": [
    "df['rating_count'] = df['rating_count'].astype(float)\n",
    "df['rating_count'].fillna(df['rating_count'].median(), inplace = True)"
   ]
  },
  {
   "cell_type": "markdown",
   "metadata": {},
   "source": [
    "### Clean Discount Percentage"
   ]
  },
  {
   "cell_type": "code",
   "execution_count": 13,
   "metadata": {},
   "outputs": [
    {
     "data": {
      "text/plain": [
       "array(['64%', '43%', '90%', '53%', '61%', '85%', '65%', '23%', '50%',\n",
       "       '33%', '55%', '63%', '69%', '60%', '13%', '44%', '38%', '39%',\n",
       "       '46%', '41%', '70%', '42%', '72%', '25%', '51%', '73%', '0%',\n",
       "       '80%', '28%', '67%', '58%', '35%', '45%', '62%', '54%', '27%',\n",
       "       '77%', '56%', '78%', '31%', '86%', '47%', '37%', '75%', '32%',\n",
       "       '68%', '66%', '22%', '57%', '17%', '52%', '88%', '20%', '59%',\n",
       "       '40%', '26%', '29%', '83%', '71%', '15%', '76%', '48%', '82%',\n",
       "       '36%', '89%', '87%', '24%', '34%', '11%', '91%', '7%', '19%',\n",
       "       '79%', '21%', '81%', '18%', '49%', '30%', '84%', '10%', '6%',\n",
       "       '14%', '74%', '4%', '5%', '16%', '8%', '2%', '94%', '12%', '3%',\n",
       "       '9%'], dtype=object)"
      ]
     },
     "execution_count": 13,
     "metadata": {},
     "output_type": "execute_result"
    }
   ],
   "source": [
    "df['discount_percentage'].unique()"
   ]
  },
  {
   "cell_type": "code",
   "execution_count": 14,
   "metadata": {},
   "outputs": [],
   "source": [
    "df['discount_percentage'] = df['discount_percentage'].apply(get_num)"
   ]
  },
  {
   "cell_type": "code",
   "execution_count": 15,
   "metadata": {},
   "outputs": [
    {
     "data": {
      "text/plain": [
       "array(['64', '43', '90', '53', '61', '85', '65', '23', '50', '33', '55',\n",
       "       '63', '69', '60', '13', '44', '38', '39', '46', '41', '70', '42',\n",
       "       '72', '25', '51', '73', '0', '80', '28', '67', '58', '35', '45',\n",
       "       '62', '54', '27', '77', '56', '78', '31', '86', '47', '37', '75',\n",
       "       '32', '68', '66', '22', '57', '17', '52', '88', '20', '59', '40',\n",
       "       '26', '29', '83', '71', '15', '76', '48', '82', '36', '89', '87',\n",
       "       '24', '34', '11', '91', '7', '19', '79', '21', '81', '18', '49',\n",
       "       '30', '84', '10', '6', '14', '74', '4', '5', '16', '8', '2', '94',\n",
       "       '12', '3', '9'], dtype=object)"
      ]
     },
     "execution_count": 15,
     "metadata": {},
     "output_type": "execute_result"
    }
   ],
   "source": [
    "df['discount_percentage'].unique()"
   ]
  },
  {
   "cell_type": "code",
   "execution_count": 16,
   "metadata": {},
   "outputs": [],
   "source": [
    "df['discount_percentage'] = df['discount_percentage'].astype(int)"
   ]
  },
  {
   "cell_type": "markdown",
   "metadata": {},
   "source": [
    "### Clean Discounted Price"
   ]
  },
  {
   "cell_type": "code",
   "execution_count": 17,
   "metadata": {},
   "outputs": [
    {
     "data": {
      "text/plain": [
       "array(['₹399', '₹199', '₹329', '₹154', '₹149', '₹176.63', '₹229', '₹499',\n",
       "       '₹299', '₹219', '₹350', '₹159', '₹349', '₹13,999', '₹249',\n",
       "       '₹13,490', '₹970', '₹279', '₹59', '₹11,499', '₹14,999', '₹179',\n",
       "       '₹389', '₹599', '₹99', '₹899', '₹32,999', '₹209', '₹19,999',\n",
       "       '₹999', '₹333', '₹507', '₹309', '₹1,199', '₹799', '₹6,999', '₹230',\n",
       "       '₹649', '₹15,999', '₹348', '₹32,990', '₹139', '₹263', '₹7,999',\n",
       "       '₹1,599', '₹26,999', '₹115', '₹10,901', '₹1,434', '₹7,299', '₹325',\n",
       "       '₹29,999', '₹27,999', '₹30,990', '₹269', '₹24,999', '₹18,990',\n",
       "       '₹290', '₹345', '₹1,099', '₹719', '₹849', '₹21,999', '₹449',\n",
       "       '₹37,999', '₹7,390', '₹273.10', '₹15,990', '₹210', '₹1,299',\n",
       "       '₹347', '₹228', '₹1,499', '₹8,499', '₹20,990', '₹9,999', '₹489',\n",
       "       '₹23,999', '₹689', '₹1,699', '₹655', '₹749', '₹195', '₹416',\n",
       "       '₹368', '₹29,990', '₹339', '₹15,490', '₹9,490', '₹637', '₹1,089',\n",
       "       '₹12,499', '₹1,399', '₹88', '₹57.89', '₹205', '₹949', '₹379',\n",
       "       '₹8,990', '₹486', '₹5,699', '₹709', '₹47,990', '₹320', '₹129',\n",
       "       '₹225', '₹547', '₹259', '₹239', '₹467', '₹11,990', '₹252', '₹204',\n",
       "       '₹6,490', '₹235', '₹42,999', '₹173', '₹848.99', '₹1,249', '₹213',\n",
       "       '₹598', '₹31,999', '₹128.31', '₹254', '₹89', '₹549', '₹77,990',\n",
       "       '₹182', '₹96', '₹54,990', '₹439', '₹789', '₹790', '₹4,699',\n",
       "       '₹18,999', '₹1,990', '₹2,299', '₹35,999', '₹8,999', '₹917',\n",
       "       '₹45,999', '₹119', '₹21,990', '₹417.44', '₹215', '₹1,289', '₹609',\n",
       "       '₹1,850', '₹13,990', '₹185', '₹218', '₹893', '₹10,990', '₹16,999',\n",
       "       '₹699', '₹2,699', '₹246', '₹247', '₹1,369', '₹24,990', '₹61,999',\n",
       "       '₹24,499', '₹10,499', '₹197', '₹1,519', '₹46,999', '₹1,799',\n",
       "       '₹1,998', '₹1,999', '₹2,049', '₹6,499', '₹28,999', '₹569',\n",
       "       '₹1,898', '₹9,499', '₹959', '₹1,149', '₹1,219', '₹18,499', '₹369',\n",
       "       '₹12,999', '₹2,199', '₹16,499', '₹3,999', '₹2,998', '₹15,499',\n",
       "       '₹873', '₹539', '₹1,075', '₹529', '₹4,790', '₹33,999', '₹10,999',\n",
       "       '₹34,999', '₹2,999', '₹20,999', '₹22,999', '₹134', '₹7,499',\n",
       "       '₹1,324', '₹12,490', '₹17,999', '₹2,099', '₹337', '₹251', '₹95',\n",
       "       '₹4,499', '₹1,989', '₹4,999', '₹2,499', '₹79', '₹2,179', '₹44,999',\n",
       "       '₹2,599', '₹2,799', '₹3,799', '₹281', '₹7,998', '₹120', '₹7,915',\n",
       "       '₹1,055', '₹150', '₹474', '₹265', '₹37,990', '₹314', '₹365',\n",
       "       '₹289', '₹217', '₹1,220', '₹475', '₹798', '₹266', '₹50', '₹130',\n",
       "       '₹4,098', '₹519', '₹1,295', '₹1,889', '₹455', '₹1,059', '₹717',\n",
       "       '₹39', '₹889', '₹191', '₹522', '₹681', '₹429', '₹100', '₹1,049',\n",
       "       '₹656', '₹1,109', '₹169', '₹157', '₹479', '₹1,598', '₹294', '₹828',\n",
       "       '₹745', '₹1,549', '₹1,469', '₹198', '₹12,000', '₹6,299', '₹571',\n",
       "       '₹448', '₹579', '₹137', '₹1,495', '₹440', '₹1,329', '₹570',\n",
       "       '₹1,529', '₹190', '₹729', '₹480', '₹238', '₹1,349', '₹1,792',\n",
       "       '₹3,299', '₹125', '₹561', '₹5,599', '₹69', '₹478', '₹425', '₹378',\n",
       "       '₹1,815', '₹67', '₹5,799', '₹4,449', '₹629', '₹2,595', '₹90',\n",
       "       '₹1,345', '₹287', '₹879', '₹250', '₹469', '₹1,187', '₹328', '₹114',\n",
       "       '₹1,490', '₹575', '₹178', '₹939', '₹1,439', '₹175', '₹3,303',\n",
       "       '₹1,890', '₹310', '₹1,709', '₹2,025', '₹900', '₹2,490', '₹116',\n",
       "       '₹200', '₹2,649', '₹596', '₹330', '₹1,234', '₹272', '₹3,498',\n",
       "       '₹10,099', '₹397', '₹1,679', '₹354', '₹10,389', '₹1,409', '₹5,998',\n",
       "       '₹300', '₹535', '₹341', '₹5,899', '₹1,565', '₹326', '₹657',\n",
       "       '₹1,995', '₹1,500', '₹2,640', '₹5,299', '₹165', '₹398', '₹770',\n",
       "       '₹420', '₹8,349', '₹3,307', '₹380', '₹37,247', '₹298', '₹293',\n",
       "       '₹1,043', '₹1,464', '₹625', '₹1,290', '₹3,600', '₹6,549', '₹1,625',\n",
       "       '₹5,499', '₹2,148', '₹3,599', '₹351', '₹1,614', '₹678', '₹809',\n",
       "       '₹1,969', '₹1,665', '₹3,229', '₹1,260', '₹3,499', '₹1,321', '₹775',\n",
       "       '₹3,190', '₹6,199', '₹1,819', '₹3,249', '₹1,400', '₹355', '₹2,169',\n",
       "       '₹653', '₹4,789', '₹753', '₹353', '₹8,799', '₹2,095', '₹1,498',\n",
       "       '₹3,699', '₹177', '₹244', '₹1,959', '₹319', '₹9,590', '₹292',\n",
       "       '₹160', '₹600', '₹1,130', '₹3,199', '₹616', '₹610', '₹453',\n",
       "       '₹2,464', '₹2,719', '₹2,088', '₹2,399', '₹308', '₹245', '₹3,569',\n",
       "       '₹2,089', '₹2,339', '₹784', '₹1,695', '₹1,448', '₹6,990', '₹2,698',\n",
       "       '₹1,414', '₹5,999', '₹9,970', '₹698', '₹14,400', '₹664', '₹260',\n",
       "       '₹1,484', '₹4,280', '₹189', '₹1,449', '₹3,657.66', '₹1,849',\n",
       "       '₹8,199', '₹1,595', '₹1,182', '₹1,052', '₹1,547', '₹510', '₹1,899',\n",
       "       '₹14,499', '₹950', '₹7,199', '₹2,439', '₹7,799', '₹2,899',\n",
       "       '₹9,799', '₹669', '₹5,890', '₹9,199', '₹6,236', '₹2,742', '₹721',\n",
       "       '₹2,903', '₹1,656', '₹2,079', '₹3,179', '₹4,799', '₹948', '₹850',\n",
       "       '₹3,711', '₹980', '₹3,349', '₹2,249', '₹1,235', '₹6,800', '₹1,069',\n",
       "       '₹2,092', '₹3,859', '₹1,804', '₹6,525', '₹1,189', '₹2,590', '₹998',\n",
       "       '₹998.06', '₹8,886', '₹4,995', '₹395', '₹635', '₹27,900', '₹193',\n",
       "       '₹2,449', '₹2,286', '₹5,395', '₹559', '₹660', '₹419', '₹7,349',\n",
       "       '₹1,474', '₹3,645', '₹375', '₹2,976', '₹2,575', '₹1,649', '₹765',\n",
       "       '₹587', '₹12,609', '₹640', '₹979', '₹5,365', '₹929', '₹3,710',\n",
       "       '₹2,033', '₹9,495', '₹2,790', '₹645', '₹2,237.81', '₹8,699',\n",
       "       '₹42,990', '₹825', '₹161', '₹697', '₹688', '₹6,850', '₹1,090',\n",
       "       '₹295', '₹2,949', '₹335', '₹778', '₹1,190', '₹6,120', '₹3,685',\n",
       "       '₹8,599', '₹1,110', '₹759', '₹2,669', '₹85', '₹5,865', '₹1,928',\n",
       "       '₹1,456', '₹4,899', '₹3,290', '₹5,490', '₹3,041.67', '₹1,745',\n",
       "       '₹3,180', '₹390', '₹1,624', '₹184', '₹445', '₹1,601', '₹231',\n",
       "       '₹6,790', '₹1,982.84', '₹1,180', '₹253', '₹457', '₹426', '₹2,320',\n",
       "       '₹1,563', '₹3,487.77', '₹498', '₹2,695', '₹2,280', '₹2,219',\n",
       "       '₹2,863'], dtype=object)"
      ]
     },
     "execution_count": 17,
     "metadata": {},
     "output_type": "execute_result"
    }
   ],
   "source": [
    "df['discounted_price'].unique()"
   ]
  },
  {
   "cell_type": "code",
   "execution_count": 18,
   "metadata": {},
   "outputs": [
    {
     "data": {
      "text/plain": [
       "array(['399', '199', '329', '154', '149', '176.63', '229', '499', '299',\n",
       "       '219', '350', '159', '349', '13999', '249', '13490', '970', '279',\n",
       "       '59', '11499', '14999', '179', '389', '599', '99', '899', '32999',\n",
       "       '209', '19999', '999', '333', '507', '309', '1199', '799', '6999',\n",
       "       '230', '649', '15999', '348', '32990', '139', '263', '7999',\n",
       "       '1599', '26999', '115', '10901', '1434', '7299', '325', '29999',\n",
       "       '27999', '30990', '269', '24999', '18990', '290', '345', '1099',\n",
       "       '719', '849', '21999', '449', '37999', '7390', '273.10', '15990',\n",
       "       '210', '1299', '347', '228', '1499', '8499', '20990', '9999',\n",
       "       '489', '23999', '689', '1699', '655', '749', '195', '416', '368',\n",
       "       '29990', '339', '15490', '9490', '637', '1089', '12499', '1399',\n",
       "       '88', '57.89', '205', '949', '379', '8990', '486', '5699', '709',\n",
       "       '47990', '320', '129', '225', '547', '259', '239', '467', '11990',\n",
       "       '252', '204', '6490', '235', '42999', '173', '848.99', '1249',\n",
       "       '213', '598', '31999', '128.31', '254', '89', '549', '77990',\n",
       "       '182', '96', '54990', '439', '789', '790', '4699', '18999', '1990',\n",
       "       '2299', '35999', '8999', '917', '45999', '119', '21990', '417.44',\n",
       "       '215', '1289', '609', '1850', '13990', '185', '218', '893',\n",
       "       '10990', '16999', '699', '2699', '246', '247', '1369', '24990',\n",
       "       '61999', '24499', '10499', '197', '1519', '46999', '1799', '1998',\n",
       "       '1999', '2049', '6499', '28999', '569', '1898', '9499', '959',\n",
       "       '1149', '1219', '18499', '369', '12999', '2199', '16499', '3999',\n",
       "       '2998', '15499', '873', '539', '1075', '529', '4790', '33999',\n",
       "       '10999', '34999', '2999', '20999', '22999', '134', '7499', '1324',\n",
       "       '12490', '17999', '2099', '337', '251', '95', '4499', '1989',\n",
       "       '4999', '2499', '79', '2179', '44999', '2599', '2799', '3799',\n",
       "       '281', '7998', '120', '7915', '1055', '150', '474', '265', '37990',\n",
       "       '314', '365', '289', '217', '1220', '475', '798', '266', '50',\n",
       "       '130', '4098', '519', '1295', '1889', '455', '1059', '717', '39',\n",
       "       '889', '191', '522', '681', '429', '100', '1049', '656', '1109',\n",
       "       '169', '157', '479', '1598', '294', '828', '745', '1549', '1469',\n",
       "       '198', '12000', '6299', '571', '448', '579', '137', '1495', '440',\n",
       "       '1329', '570', '1529', '190', '729', '480', '238', '1349', '1792',\n",
       "       '3299', '125', '561', '5599', '69', '478', '425', '378', '1815',\n",
       "       '67', '5799', '4449', '629', '2595', '90', '1345', '287', '879',\n",
       "       '250', '469', '1187', '328', '114', '1490', '575', '178', '939',\n",
       "       '1439', '175', '3303', '1890', '310', '1709', '2025', '900',\n",
       "       '2490', '116', '200', '2649', '596', '330', '1234', '272', '3498',\n",
       "       '10099', '397', '1679', '354', '10389', '1409', '5998', '300',\n",
       "       '535', '341', '5899', '1565', '326', '657', '1995', '1500', '2640',\n",
       "       '5299', '165', '398', '770', '420', '8349', '3307', '380', '37247',\n",
       "       '298', '293', '1043', '1464', '625', '1290', '3600', '6549',\n",
       "       '1625', '5499', '2148', '3599', '351', '1614', '678', '809',\n",
       "       '1969', '1665', '3229', '1260', '3499', '1321', '775', '3190',\n",
       "       '6199', '1819', '3249', '1400', '355', '2169', '653', '4789',\n",
       "       '753', '353', '8799', '2095', '1498', '3699', '177', '244', '1959',\n",
       "       '319', '9590', '292', '160', '600', '1130', '3199', '616', '610',\n",
       "       '453', '2464', '2719', '2088', '2399', '308', '245', '3569',\n",
       "       '2089', '2339', '784', '1695', '1448', '6990', '2698', '1414',\n",
       "       '5999', '9970', '698', '14400', '664', '260', '1484', '4280',\n",
       "       '189', '1449', '3657.66', '1849', '8199', '1595', '1182', '1052',\n",
       "       '1547', '510', '1899', '14499', '950', '7199', '2439', '7799',\n",
       "       '2899', '9799', '669', '5890', '9199', '6236', '2742', '721',\n",
       "       '2903', '1656', '2079', '3179', '4799', '948', '850', '3711',\n",
       "       '980', '3349', '2249', '1235', '6800', '1069', '2092', '3859',\n",
       "       '1804', '6525', '1189', '2590', '998', '998.06', '8886', '4995',\n",
       "       '395', '635', '27900', '193', '2449', '2286', '5395', '559', '660',\n",
       "       '419', '7349', '1474', '3645', '375', '2976', '2575', '1649',\n",
       "       '765', '587', '12609', '640', '979', '5365', '929', '3710', '2033',\n",
       "       '9495', '2790', '645', '2237.81', '8699', '42990', '825', '161',\n",
       "       '697', '688', '6850', '1090', '295', '2949', '335', '778', '1190',\n",
       "       '6120', '3685', '8599', '1110', '759', '2669', '85', '5865',\n",
       "       '1928', '1456', '4899', '3290', '5490', '3041.67', '1745', '3180',\n",
       "       '390', '1624', '184', '445', '1601', '231', '6790', '1982.84',\n",
       "       '1180', '253', '457', '426', '2320', '1563', '3487.77', '498',\n",
       "       '2695', '2280', '2219', '2863'], dtype=object)"
      ]
     },
     "execution_count": 18,
     "metadata": {},
     "output_type": "execute_result"
    }
   ],
   "source": [
    "df['discounted_price'] = df['discounted_price'].apply(get_num)\n",
    "df['discounted_price'].unique()"
   ]
  },
  {
   "cell_type": "code",
   "execution_count": 19,
   "metadata": {},
   "outputs": [],
   "source": [
    "df['discounted_price'] = df['discounted_price'].astype(float)"
   ]
  },
  {
   "cell_type": "markdown",
   "metadata": {},
   "source": [
    "### Clean Actual Price"
   ]
  },
  {
   "cell_type": "code",
   "execution_count": 20,
   "metadata": {},
   "outputs": [],
   "source": [
    "df['actual_price'] = df['actual_price'].apply(get_num)\n",
    "df['actual_price'] = df['actual_price'].astype(float)"
   ]
  },
  {
   "cell_type": "markdown",
   "metadata": {},
   "source": [
    "### 1. What is the average rating for each product category?"
   ]
  },
  {
   "cell_type": "code",
   "execution_count": 21,
   "metadata": {},
   "outputs": [
    {
     "data": {
      "text/html": [
       "<div>\n",
       "<style scoped>\n",
       "    .dataframe tbody tr th:only-of-type {\n",
       "        vertical-align: middle;\n",
       "    }\n",
       "\n",
       "    .dataframe tbody tr th {\n",
       "        vertical-align: top;\n",
       "    }\n",
       "\n",
       "    .dataframe thead th {\n",
       "        text-align: right;\n",
       "    }\n",
       "</style>\n",
       "<table border=\"1\" class=\"dataframe\">\n",
       "  <thead>\n",
       "    <tr style=\"text-align: right;\">\n",
       "      <th></th>\n",
       "      <th>category</th>\n",
       "      <th>Avg_Rating</th>\n",
       "    </tr>\n",
       "  </thead>\n",
       "  <tbody>\n",
       "    <tr>\n",
       "      <th>0</th>\n",
       "      <td>Car&amp;Motorbike|CarAccessories|InteriorAccessori...</td>\n",
       "      <td>3.800000</td>\n",
       "    </tr>\n",
       "    <tr>\n",
       "      <th>1</th>\n",
       "      <td>Computers&amp;Accessories|Accessories&amp;Peripherals|...</td>\n",
       "      <td>4.150000</td>\n",
       "    </tr>\n",
       "    <tr>\n",
       "      <th>2</th>\n",
       "      <td>Computers&amp;Accessories|Accessories&amp;Peripherals|...</td>\n",
       "      <td>3.500000</td>\n",
       "    </tr>\n",
       "    <tr>\n",
       "      <th>3</th>\n",
       "      <td>Computers&amp;Accessories|Accessories&amp;Peripherals|...</td>\n",
       "      <td>3.600000</td>\n",
       "    </tr>\n",
       "    <tr>\n",
       "      <th>4</th>\n",
       "      <td>Computers&amp;Accessories|Accessories&amp;Peripherals|...</td>\n",
       "      <td>4.050000</td>\n",
       "    </tr>\n",
       "    <tr>\n",
       "      <th>...</th>\n",
       "      <td>...</td>\n",
       "      <td>...</td>\n",
       "    </tr>\n",
       "    <tr>\n",
       "      <th>206</th>\n",
       "      <td>OfficeProducts|OfficePaperProducts|Paper|Stati...</td>\n",
       "      <td>4.250000</td>\n",
       "    </tr>\n",
       "    <tr>\n",
       "      <th>207</th>\n",
       "      <td>OfficeProducts|OfficePaperProducts|Paper|Stati...</td>\n",
       "      <td>4.150000</td>\n",
       "    </tr>\n",
       "    <tr>\n",
       "      <th>208</th>\n",
       "      <td>OfficeProducts|OfficePaperProducts|Paper|Stati...</td>\n",
       "      <td>4.300000</td>\n",
       "    </tr>\n",
       "    <tr>\n",
       "      <th>209</th>\n",
       "      <td>OfficeProducts|OfficePaperProducts|Paper|Stati...</td>\n",
       "      <td>4.133333</td>\n",
       "    </tr>\n",
       "    <tr>\n",
       "      <th>210</th>\n",
       "      <td>Toys&amp;Games|Arts&amp;Crafts|Drawing&amp;PaintingSupplie...</td>\n",
       "      <td>4.300000</td>\n",
       "    </tr>\n",
       "  </tbody>\n",
       "</table>\n",
       "<p>211 rows × 2 columns</p>\n",
       "</div>"
      ],
      "text/plain": [
       "                                              category  Avg_Rating\n",
       "0    Car&Motorbike|CarAccessories|InteriorAccessori...    3.800000\n",
       "1    Computers&Accessories|Accessories&Peripherals|...    4.150000\n",
       "2    Computers&Accessories|Accessories&Peripherals|...    3.500000\n",
       "3    Computers&Accessories|Accessories&Peripherals|...    3.600000\n",
       "4    Computers&Accessories|Accessories&Peripherals|...    4.050000\n",
       "..                                                 ...         ...\n",
       "206  OfficeProducts|OfficePaperProducts|Paper|Stati...    4.250000\n",
       "207  OfficeProducts|OfficePaperProducts|Paper|Stati...    4.150000\n",
       "208  OfficeProducts|OfficePaperProducts|Paper|Stati...    4.300000\n",
       "209  OfficeProducts|OfficePaperProducts|Paper|Stati...    4.133333\n",
       "210  Toys&Games|Arts&Crafts|Drawing&PaintingSupplie...    4.300000\n",
       "\n",
       "[211 rows x 2 columns]"
      ]
     },
     "execution_count": 21,
     "metadata": {},
     "output_type": "execute_result"
    }
   ],
   "source": [
    "ans = df.groupby('category', as_index = False)['rating'].mean()\n",
    "ans.rename(columns = {'rating':'Avg_Rating'}, inplace = True)\n",
    "ans"
   ]
  },
  {
   "cell_type": "markdown",
   "metadata": {},
   "source": [
    "### 2. What are the top rating_count products by category?"
   ]
  },
  {
   "cell_type": "code",
   "execution_count": 22,
   "metadata": {},
   "outputs": [
    {
     "data": {
      "text/html": [
       "<div>\n",
       "<style scoped>\n",
       "    .dataframe tbody tr th:only-of-type {\n",
       "        vertical-align: middle;\n",
       "    }\n",
       "\n",
       "    .dataframe tbody tr th {\n",
       "        vertical-align: top;\n",
       "    }\n",
       "\n",
       "    .dataframe thead th {\n",
       "        text-align: right;\n",
       "    }\n",
       "</style>\n",
       "<table border=\"1\" class=\"dataframe\">\n",
       "  <thead>\n",
       "    <tr style=\"text-align: right;\">\n",
       "      <th></th>\n",
       "      <th>category</th>\n",
       "      <th>product_name</th>\n",
       "    </tr>\n",
       "  </thead>\n",
       "  <tbody>\n",
       "    <tr>\n",
       "      <th>0</th>\n",
       "      <td>Electronics|HomeTheater,TV&amp;Video|Accessories|C...</td>\n",
       "      <td>AmazonBasics Flexible Premium HDMI Cable (Blac...</td>\n",
       "    </tr>\n",
       "    <tr>\n",
       "      <th>1</th>\n",
       "      <td>Electronics|HomeTheater,TV&amp;Video|Accessories|C...</td>\n",
       "      <td>Amazon Basics High-Speed HDMI Cable, 6 Feet - ...</td>\n",
       "    </tr>\n",
       "    <tr>\n",
       "      <th>2</th>\n",
       "      <td>Electronics|HomeTheater,TV&amp;Video|Televisions|S...</td>\n",
       "      <td>VW 80 cm (32 inches) Frameless Series HD Ready...</td>\n",
       "    </tr>\n",
       "    <tr>\n",
       "      <th>3</th>\n",
       "      <td>Electronics|HomeTheater,TV&amp;Video|Televisions|S...</td>\n",
       "      <td>Redmi 80 cm (32 inches) Android 11 Series HD R...</td>\n",
       "    </tr>\n",
       "    <tr>\n",
       "      <th>4</th>\n",
       "      <td>Electronics|HomeTheater,TV&amp;Video|Accessories|C...</td>\n",
       "      <td>Amazon Basics High-Speed HDMI Cable, 6 Feet (2...</td>\n",
       "    </tr>\n",
       "    <tr>\n",
       "      <th>...</th>\n",
       "      <td>...</td>\n",
       "      <td>...</td>\n",
       "    </tr>\n",
       "    <tr>\n",
       "      <th>224</th>\n",
       "      <td>Home&amp;Kitchen|Kitchen&amp;HomeAppliances|SmallKitch...</td>\n",
       "      <td>AGARO Royal Stand 1000W Mixer with 5L SS Bowl ...</td>\n",
       "    </tr>\n",
       "    <tr>\n",
       "      <th>225</th>\n",
       "      <td>Home&amp;Kitchen|Kitchen&amp;HomeAppliances|SmallKitch...</td>\n",
       "      <td>Lifelong LLWM105 750-Watt Belgian Waffle Maker...</td>\n",
       "    </tr>\n",
       "    <tr>\n",
       "      <th>226</th>\n",
       "      <td>Home&amp;Kitchen|Kitchen&amp;HomeAppliances|Vacuum,Cle...</td>\n",
       "      <td>Karcher WD3 EU Wet and Dry Vacuum Cleaner, 100...</td>\n",
       "    </tr>\n",
       "    <tr>\n",
       "      <th>227</th>\n",
       "      <td>Home&amp;Kitchen|Heating,Cooling&amp;AirQuality|Fans|P...</td>\n",
       "      <td>AmazonBasics High Speed 55 Watt Oscillating Pe...</td>\n",
       "    </tr>\n",
       "    <tr>\n",
       "      <th>228</th>\n",
       "      <td>Home&amp;Kitchen|Kitchen&amp;HomeAppliances|Vacuum,Cle...</td>\n",
       "      <td>Eureka Forbes Euroclean Paper Vacuum Cleaner D...</td>\n",
       "    </tr>\n",
       "  </tbody>\n",
       "</table>\n",
       "<p>229 rows × 2 columns</p>\n",
       "</div>"
      ],
      "text/plain": [
       "                                              category  \\\n",
       "0    Electronics|HomeTheater,TV&Video|Accessories|C...   \n",
       "1    Electronics|HomeTheater,TV&Video|Accessories|C...   \n",
       "2    Electronics|HomeTheater,TV&Video|Televisions|S...   \n",
       "3    Electronics|HomeTheater,TV&Video|Televisions|S...   \n",
       "4    Electronics|HomeTheater,TV&Video|Accessories|C...   \n",
       "..                                                 ...   \n",
       "224  Home&Kitchen|Kitchen&HomeAppliances|SmallKitch...   \n",
       "225  Home&Kitchen|Kitchen&HomeAppliances|SmallKitch...   \n",
       "226  Home&Kitchen|Kitchen&HomeAppliances|Vacuum,Cle...   \n",
       "227  Home&Kitchen|Heating,Cooling&AirQuality|Fans|P...   \n",
       "228  Home&Kitchen|Kitchen&HomeAppliances|Vacuum,Cle...   \n",
       "\n",
       "                                          product_name  \n",
       "0    AmazonBasics Flexible Premium HDMI Cable (Blac...  \n",
       "1    Amazon Basics High-Speed HDMI Cable, 6 Feet - ...  \n",
       "2    VW 80 cm (32 inches) Frameless Series HD Ready...  \n",
       "3    Redmi 80 cm (32 inches) Android 11 Series HD R...  \n",
       "4    Amazon Basics High-Speed HDMI Cable, 6 Feet (2...  \n",
       "..                                                 ...  \n",
       "224  AGARO Royal Stand 1000W Mixer with 5L SS Bowl ...  \n",
       "225  Lifelong LLWM105 750-Watt Belgian Waffle Maker...  \n",
       "226  Karcher WD3 EU Wet and Dry Vacuum Cleaner, 100...  \n",
       "227  AmazonBasics High Speed 55 Watt Oscillating Pe...  \n",
       "228  Eureka Forbes Euroclean Paper Vacuum Cleaner D...  \n",
       "\n",
       "[229 rows x 2 columns]"
      ]
     },
     "execution_count": 22,
     "metadata": {},
     "output_type": "execute_result"
    }
   ],
   "source": [
    "ans = df.groupby('category', as_index = False)['rating_count'].max()\n",
    "df.merge(ans, on = ['category','rating_count'], how = 'inner')[['category', 'product_name']]"
   ]
  },
  {
   "cell_type": "markdown",
   "metadata": {},
   "source": [
    "### 3. What is the distribution of discounted prices vs. actual prices?"
   ]
  },
  {
   "cell_type": "code",
   "execution_count": 23,
   "metadata": {},
   "outputs": [
    {
     "data": {
      "text/plain": [
       "Text(0, 0.5, 'Frequency')"
      ]
     },
     "execution_count": 23,
     "metadata": {},
     "output_type": "execute_result"
    },
    {
     "data": {
      "image/png": "[encoded data removed]",
      "text/plain": [
       "<Figure size 1500x1500 with 2 Axes>"
      ]
     },
     "metadata": {},
     "output_type": "display_data"
    }
   ],
   "source": [
    "plt.figure(figsize=(15,15))\n",
    "plt.subplot(2,1,1)\n",
    "sns.histplot(df['discounted_price'].dropna(), kde=True, color='red')\n",
    "plt.title('Distribution of Discounted Price')\n",
    "plt.xlabel('Discounted Price')\n",
    "plt.ylabel('Frequency')\n",
    "plt.subplot(2,1,2)\n",
    "sns.histplot(df['actual_price'].dropna(), kde=True, color='blue')\n",
    "plt.title('Distribution of Actual Price')\n",
    "plt.xlabel('Actual Price')\n",
    "plt.ylabel('Frequency')\n"
   ]
  },
  {
   "cell_type": "markdown",
   "metadata": {},
   "source": [
    "### 4. How does the average discount percentage vary across categories?"
   ]
  },
  {
   "cell_type": "code",
   "execution_count": 28,
   "metadata": {},
   "outputs": [
    {
     "data": {
      "text/html": [
       "<div>\n",
       "<style scoped>\n",
       "    .dataframe tbody tr th:only-of-type {\n",
       "        vertical-align: middle;\n",
       "    }\n",
       "\n",
       "    .dataframe tbody tr th {\n",
       "        vertical-align: top;\n",
       "    }\n",
       "\n",
       "    .dataframe thead th {\n",
       "        text-align: right;\n",
       "    }\n",
       "</style>\n",
       "<table border=\"1\" class=\"dataframe\">\n",
       "  <thead>\n",
       "    <tr style=\"text-align: right;\">\n",
       "      <th></th>\n",
       "      <th>category</th>\n",
       "      <th>discount_percentage</th>\n",
       "    </tr>\n",
       "  </thead>\n",
       "  <tbody>\n",
       "    <tr>\n",
       "      <th>6</th>\n",
       "      <td>Computers&amp;Accessories|Accessories&amp;Peripherals|...</td>\n",
       "      <td>90.0</td>\n",
       "    </tr>\n",
       "    <tr>\n",
       "      <th>106</th>\n",
       "      <td>Electronics|Mobiles&amp;Accessories|MobileAccessor...</td>\n",
       "      <td>90.0</td>\n",
       "    </tr>\n",
       "    <tr>\n",
       "      <th>75</th>\n",
       "      <td>Electronics|Headphones,Earbuds&amp;Accessories|Ear...</td>\n",
       "      <td>90.0</td>\n",
       "    </tr>\n",
       "    <tr>\n",
       "      <th>73</th>\n",
       "      <td>Electronics|Headphones,Earbuds&amp;Accessories|Ada...</td>\n",
       "      <td>88.0</td>\n",
       "    </tr>\n",
       "    <tr>\n",
       "      <th>14</th>\n",
       "      <td>Computers&amp;Accessories|Accessories&amp;Peripherals|...</td>\n",
       "      <td>87.5</td>\n",
       "    </tr>\n",
       "    <tr>\n",
       "      <th>...</th>\n",
       "      <td>...</td>\n",
       "      <td>...</td>\n",
       "    </tr>\n",
       "    <tr>\n",
       "      <th>206</th>\n",
       "      <td>OfficeProducts|OfficePaperProducts|Paper|Stati...</td>\n",
       "      <td>0.0</td>\n",
       "    </tr>\n",
       "    <tr>\n",
       "      <th>171</th>\n",
       "      <td>Home&amp;Kitchen|Kitchen&amp;HomeAppliances|SmallKitch...</td>\n",
       "      <td>0.0</td>\n",
       "    </tr>\n",
       "    <tr>\n",
       "      <th>33</th>\n",
       "      <td>Computers&amp;Accessories|Accessories&amp;Peripherals|...</td>\n",
       "      <td>0.0</td>\n",
       "    </tr>\n",
       "    <tr>\n",
       "      <th>123</th>\n",
       "      <td>Home&amp;Kitchen|CraftMaterials|PaintingMaterials</td>\n",
       "      <td>0.0</td>\n",
       "    </tr>\n",
       "    <tr>\n",
       "      <th>210</th>\n",
       "      <td>Toys&amp;Games|Arts&amp;Crafts|Drawing&amp;PaintingSupplie...</td>\n",
       "      <td>0.0</td>\n",
       "    </tr>\n",
       "  </tbody>\n",
       "</table>\n",
       "<p>211 rows × 2 columns</p>\n",
       "</div>"
      ],
      "text/plain": [
       "                                              category  discount_percentage\n",
       "6    Computers&Accessories|Accessories&Peripherals|...                 90.0\n",
       "106  Electronics|Mobiles&Accessories|MobileAccessor...                 90.0\n",
       "75   Electronics|Headphones,Earbuds&Accessories|Ear...                 90.0\n",
       "73   Electronics|Headphones,Earbuds&Accessories|Ada...                 88.0\n",
       "14   Computers&Accessories|Accessories&Peripherals|...                 87.5\n",
       "..                                                 ...                  ...\n",
       "206  OfficeProducts|OfficePaperProducts|Paper|Stati...                  0.0\n",
       "171  Home&Kitchen|Kitchen&HomeAppliances|SmallKitch...                  0.0\n",
       "33   Computers&Accessories|Accessories&Peripherals|...                  0.0\n",
       "123      Home&Kitchen|CraftMaterials|PaintingMaterials                  0.0\n",
       "210  Toys&Games|Arts&Crafts|Drawing&PaintingSupplie...                  0.0\n",
       "\n",
       "[211 rows x 2 columns]"
      ]
     },
     "execution_count": 28,
     "metadata": {},
     "output_type": "execute_result"
    }
   ],
   "source": [
    "ans = df.groupby('category', as_index = False)['discount_percentage'].median()\n",
    "ans.sort_values(by = 'discount_percentage', ascending = False)\n"
   ]
  },
  {
   "cell_type": "markdown",
   "metadata": {},
   "source": [
    "### 5. What are the most popular product names?"
   ]
  },
  {
   "cell_type": "code",
   "execution_count": 25,
   "metadata": {},
   "outputs": [
    {
     "data": {
      "text/plain": [
       "174    Syncwire LTG to USB Cable for Fast Charging Co...\n",
       "324    REDTECH USB-C to Lightning Cable 3.3FT, [Apple...\n",
       "775    Amazon Basics Wireless Mouse | 2.4 GHz Connect...\n",
       "Name: product_name, dtype: object"
      ]
     },
     "execution_count": 25,
     "metadata": {},
     "output_type": "execute_result"
    }
   ],
   "source": [
    "df[df['rating'] == max(df.rating)]['product_name']"
   ]
  },
  {
   "cell_type": "markdown",
   "metadata": {},
   "source": [
    "### 6. What are the most popular product keywords?"
   ]
  },
  {
   "cell_type": "code",
   "execution_count": 36,
   "metadata": {},
   "outputs": [
    {
     "data": {
      "text/plain": [
       "0       Computers&Accessories\n",
       "1       Computers&Accessories\n",
       "2       Computers&Accessories\n",
       "3       Computers&Accessories\n",
       "4       Computers&Accessories\n",
       "                ...          \n",
       "1460             Home&Kitchen\n",
       "1461             Home&Kitchen\n",
       "1462             Home&Kitchen\n",
       "1463             Home&Kitchen\n",
       "1464             Home&Kitchen\n",
       "Name: product_keywords, Length: 1465, dtype: object"
      ]
     },
     "execution_count": 36,
     "metadata": {},
     "output_type": "execute_result"
    }
   ],
   "source": [
    "df['product_keywords'] = df.category.apply(lambda x : list(x.split('|'))[0])\n",
    "df['product_keywords']"
   ]
  },
  {
   "cell_type": "code",
   "execution_count": 37,
   "metadata": {},
   "outputs": [
    {
     "data": {
      "text/plain": [
       "product_keywords    Computers&Accessories\n",
       "rating                                5.0\n",
       "Name: 1, dtype: object"
      ]
     },
     "execution_count": 37,
     "metadata": {},
     "output_type": "execute_result"
    }
   ],
   "source": [
    "ans = df.groupby('product_keywords', as_index = False)['rating'].max()\n",
    "ans.sort_values(by = 'rating', ascending = False).loc[1]"
   ]
  },
  {
   "cell_type": "markdown",
   "metadata": {},
   "source": [
    "### 7. What are the most popular product reviews?"
   ]
  },
  {
   "cell_type": "code",
   "execution_count": 39,
   "metadata": {},
   "outputs": [],
   "source": [
    "df['reviews_title_list'] = df['review_title'].apply(lambda x: list(x.split(',')))"
   ]
  },
  {
   "cell_type": "code",
   "execution_count": 47,
   "metadata": {},
   "outputs": [
    {
     "data": {
      "text/html": [
       "<div>\n",
       "<style scoped>\n",
       "    .dataframe tbody tr th:only-of-type {\n",
       "        vertical-align: middle;\n",
       "    }\n",
       "\n",
       "    .dataframe tbody tr th {\n",
       "        vertical-align: top;\n",
       "    }\n",
       "\n",
       "    .dataframe thead th {\n",
       "        text-align: right;\n",
       "    }\n",
       "</style>\n",
       "<table border=\"1\" class=\"dataframe\">\n",
       "  <thead>\n",
       "    <tr style=\"text-align: right;\">\n",
       "      <th></th>\n",
       "      <th>reviews</th>\n",
       "      <th>reviews_count</th>\n",
       "    </tr>\n",
       "  </thead>\n",
       "  <tbody>\n",
       "    <tr>\n",
       "      <th>16</th>\n",
       "      <td>good</td>\n",
       "      <td>758</td>\n",
       "    </tr>\n",
       "    <tr>\n",
       "      <th>5</th>\n",
       "      <td>good product</td>\n",
       "      <td>538</td>\n",
       "    </tr>\n",
       "    <tr>\n",
       "      <th>2</th>\n",
       "      <td>value for money</td>\n",
       "      <td>217</td>\n",
       "    </tr>\n",
       "    <tr>\n",
       "      <th>76</th>\n",
       "      <td>nice product</td>\n",
       "      <td>185</td>\n",
       "    </tr>\n",
       "    <tr>\n",
       "      <th>21</th>\n",
       "      <td>nice</td>\n",
       "      <td>184</td>\n",
       "    </tr>\n",
       "    <tr>\n",
       "      <th>4</th>\n",
       "      <td>good quality</td>\n",
       "      <td>117</td>\n",
       "    </tr>\n",
       "    <tr>\n",
       "      <th>196</th>\n",
       "      <td>ok</td>\n",
       "      <td>87</td>\n",
       "    </tr>\n",
       "    <tr>\n",
       "      <th>20</th>\n",
       "      <td>good one</td>\n",
       "      <td>83</td>\n",
       "    </tr>\n",
       "    <tr>\n",
       "      <th>435</th>\n",
       "      <td>very good product</td>\n",
       "      <td>57</td>\n",
       "    </tr>\n",
       "    <tr>\n",
       "      <th>61</th>\n",
       "      <td>very good</td>\n",
       "      <td>47</td>\n",
       "    </tr>\n",
       "  </tbody>\n",
       "</table>\n",
       "</div>"
      ],
      "text/plain": [
       "               reviews  reviews_count\n",
       "16                good            758\n",
       "5         good product            538\n",
       "2      value for money            217\n",
       "76        nice product            185\n",
       "21                nice            184\n",
       "4         good quality            117\n",
       "196                 ok             87\n",
       "20            good one             83\n",
       "435  very good product             57\n",
       "61           very good             47"
      ]
     },
     "execution_count": 47,
     "metadata": {},
     "output_type": "execute_result"
    }
   ],
   "source": [
    "all_titles = list()\n",
    "for i in df['reviews_title_list']:\n",
    "    all_titles.extend(i)\n",
    "titles_dict = dict()\n",
    "for i in all_titles:\n",
    "    if i.lower() in titles_dict:\n",
    "        titles_dict[i.lower()] += 1\n",
    "    else :\n",
    "        titles_dict[i.lower()] = 0\n",
    "ans = pd.DataFrame({'reviews': titles_dict.keys(), 'reviews_count': titles_dict.values()})\n",
    "ans.sort_values(by = 'reviews_count', ascending= False).head(10)\n"
   ]
  },
  {
   "cell_type": "markdown",
   "metadata": {},
   "source": [
    "### 8. What is the correlation between discounted_price and rating?"
   ]
  },
  {
   "cell_type": "code",
   "execution_count": 26,
   "metadata": {},
   "outputs": [
    {
     "data": {
      "text/html": [
       "<div>\n",
       "<style scoped>\n",
       "    .dataframe tbody tr th:only-of-type {\n",
       "        vertical-align: middle;\n",
       "    }\n",
       "\n",
       "    .dataframe tbody tr th {\n",
       "        vertical-align: top;\n",
       "    }\n",
       "\n",
       "    .dataframe thead th {\n",
       "        text-align: right;\n",
       "    }\n",
       "</style>\n",
       "<table border=\"1\" class=\"dataframe\">\n",
       "  <thead>\n",
       "    <tr style=\"text-align: right;\">\n",
       "      <th></th>\n",
       "      <th>discounted_price</th>\n",
       "      <th>rating</th>\n",
       "    </tr>\n",
       "  </thead>\n",
       "  <tbody>\n",
       "    <tr>\n",
       "      <th>discounted_price</th>\n",
       "      <td>1.000000</td>\n",
       "      <td>0.120337</td>\n",
       "    </tr>\n",
       "    <tr>\n",
       "      <th>rating</th>\n",
       "      <td>0.120337</td>\n",
       "      <td>1.000000</td>\n",
       "    </tr>\n",
       "  </tbody>\n",
       "</table>\n",
       "</div>"
      ],
      "text/plain": [
       "                  discounted_price    rating\n",
       "discounted_price          1.000000  0.120337\n",
       "rating                    0.120337  1.000000"
      ]
     },
     "execution_count": 26,
     "metadata": {},
     "output_type": "execute_result"
    }
   ],
   "source": [
    "df[['discounted_price','rating']].corr()"
   ]
  },
  {
   "cell_type": "markdown",
   "metadata": {},
   "source": [
    "### 9. What are the Top 5 categories based on the highest ratings?"
   ]
  },
  {
   "cell_type": "code",
   "execution_count": 27,
   "metadata": {},
   "outputs": [
    {
     "data": {
      "text/plain": [
       "18     Computers&Accessories|Accessories&Peripherals|...\n",
       "10     Computers&Accessories|Accessories&Peripherals|...\n",
       "159    Home&Kitchen|Kitchen&HomeAppliances|SmallKitch...\n",
       "140    Home&Kitchen|Heating,Cooling&AirQuality|WaterH...\n",
       "155    Home&Kitchen|Kitchen&HomeAppliances|SmallKitch...\n",
       "Name: category, dtype: object"
      ]
     },
     "execution_count": 27,
     "metadata": {},
     "output_type": "execute_result"
    }
   ],
   "source": [
    "ans = df.groupby('category', as_index = False)['rating'].max()\n",
    "ans.sort_values(by='rating', ascending = False).head(5)['category']"
   ]
  },
  {
   "cell_type": "markdown",
   "metadata": {},
   "source": [
    "### 10. Identify any potential areas for improvement or optimization based on the data analysis."
   ]
  },
  {
   "cell_type": "markdown",
   "metadata": {},
   "source": [
    "### **Ans:** Potential Areas - \n",
    "* Try to give some discounts on the categories where rating is 0 or purchase is less.\n",
    "* Try to create a super category for the category to define the products in an efficient way.\n"
   ]
  },
  {
   "cell_type": "code",
   "execution_count": null,
   "metadata": {},
   "outputs": [],
   "source": []
  }
 ],
 "metadata": {
  "kernelspec": {
   "display_name": "Python 3",
   "language": "python",
   "name": "python3"
  },
  "language_info": {
   "codemirror_mode": {
    "name": "ipython",
    "version": 3
   },
   "file_extension": ".py",
   "mimetype": "text/x-python",
   "name": "python",
   "nbconvert_exporter": "python",
   "pygments_lexer": "ipython3",
   "version": "3.12.0"
  }
 },
 "nbformat": 4,
 "nbformat_minor": 2
}
