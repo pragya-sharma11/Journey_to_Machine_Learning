{
 "cells": [
  {
   "cell_type": "code",
   "execution_count": 28,
   "metadata": {},
   "outputs": [],
   "source": [
    "import numpy as np\n",
    "import pandas as pd\n",
    "import matplotlib.pyplot as plt\n",
    "import seaborn as sns\n",
    "import plotly.express as px\n",
    " \n",
    "import warnings\n",
    "warnings.filterwarnings('ignore')\n",
    "\n",
    "plt.style.use('fivethirtyeight')\n",
    "%matplotlib inline"
   ]
  },
  {
   "cell_type": "code",
   "execution_count": 29,
   "metadata": {},
   "outputs": [
    {
     "data": {
      "text/plain": [
       "3.5"
      ]
     },
     "execution_count": 29,
     "metadata": {},
     "output_type": "execute_result"
    }
   ],
   "source": [
    "data = [1,2,3,4,5,6]\n",
    "np.mean(data)"
   ]
  },
  {
   "cell_type": "code",
   "execution_count": 30,
   "metadata": {},
   "outputs": [],
   "source": [
    "df = sns.load_dataset('tips')"
   ]
  },
  {
   "cell_type": "code",
   "execution_count": 31,
   "metadata": {},
   "outputs": [
    {
     "data": {
      "text/html": [
       "<div>\n",
       "<style scoped>\n",
       "    .dataframe tbody tr th:only-of-type {\n",
       "        vertical-align: middle;\n",
       "    }\n",
       "\n",
       "    .dataframe tbody tr th {\n",
       "        vertical-align: top;\n",
       "    }\n",
       "\n",
       "    .dataframe thead th {\n",
       "        text-align: right;\n",
       "    }\n",
       "</style>\n",
       "<table border=\"1\" class=\"dataframe\">\n",
       "  <thead>\n",
       "    <tr style=\"text-align: right;\">\n",
       "      <th></th>\n",
       "      <th>total_bill</th>\n",
       "      <th>tip</th>\n",
       "      <th>sex</th>\n",
       "      <th>smoker</th>\n",
       "      <th>day</th>\n",
       "      <th>time</th>\n",
       "      <th>size</th>\n",
       "    </tr>\n",
       "  </thead>\n",
       "  <tbody>\n",
       "    <tr>\n",
       "      <th>0</th>\n",
       "      <td>16.99</td>\n",
       "      <td>1.01</td>\n",
       "      <td>Female</td>\n",
       "      <td>No</td>\n",
       "      <td>Sun</td>\n",
       "      <td>Dinner</td>\n",
       "      <td>2</td>\n",
       "    </tr>\n",
       "    <tr>\n",
       "      <th>1</th>\n",
       "      <td>10.34</td>\n",
       "      <td>1.66</td>\n",
       "      <td>Male</td>\n",
       "      <td>No</td>\n",
       "      <td>Sun</td>\n",
       "      <td>Dinner</td>\n",
       "      <td>3</td>\n",
       "    </tr>\n",
       "    <tr>\n",
       "      <th>2</th>\n",
       "      <td>21.01</td>\n",
       "      <td>3.50</td>\n",
       "      <td>Male</td>\n",
       "      <td>No</td>\n",
       "      <td>Sun</td>\n",
       "      <td>Dinner</td>\n",
       "      <td>3</td>\n",
       "    </tr>\n",
       "    <tr>\n",
       "      <th>3</th>\n",
       "      <td>23.68</td>\n",
       "      <td>3.31</td>\n",
       "      <td>Male</td>\n",
       "      <td>No</td>\n",
       "      <td>Sun</td>\n",
       "      <td>Dinner</td>\n",
       "      <td>2</td>\n",
       "    </tr>\n",
       "    <tr>\n",
       "      <th>4</th>\n",
       "      <td>24.59</td>\n",
       "      <td>3.61</td>\n",
       "      <td>Female</td>\n",
       "      <td>No</td>\n",
       "      <td>Sun</td>\n",
       "      <td>Dinner</td>\n",
       "      <td>4</td>\n",
       "    </tr>\n",
       "  </tbody>\n",
       "</table>\n",
       "</div>"
      ],
      "text/plain": [
       "   total_bill   tip     sex smoker  day    time  size\n",
       "0       16.99  1.01  Female     No  Sun  Dinner     2\n",
       "1       10.34  1.66    Male     No  Sun  Dinner     3\n",
       "2       21.01  3.50    Male     No  Sun  Dinner     3\n",
       "3       23.68  3.31    Male     No  Sun  Dinner     2\n",
       "4       24.59  3.61  Female     No  Sun  Dinner     4"
      ]
     },
     "execution_count": 31,
     "metadata": {},
     "output_type": "execute_result"
    }
   ],
   "source": [
    "df.head()"
   ]
  },
  {
   "cell_type": "code",
   "execution_count": 32,
   "metadata": {},
   "outputs": [
    {
     "data": {
      "text/html": [
       "<div>\n",
       "<style scoped>\n",
       "    .dataframe tbody tr th:only-of-type {\n",
       "        vertical-align: middle;\n",
       "    }\n",
       "\n",
       "    .dataframe tbody tr th {\n",
       "        vertical-align: top;\n",
       "    }\n",
       "\n",
       "    .dataframe thead th {\n",
       "        text-align: right;\n",
       "    }\n",
       "</style>\n",
       "<table border=\"1\" class=\"dataframe\">\n",
       "  <thead>\n",
       "    <tr style=\"text-align: right;\">\n",
       "      <th></th>\n",
       "      <th>total_bill</th>\n",
       "      <th>tip</th>\n",
       "      <th>size</th>\n",
       "    </tr>\n",
       "  </thead>\n",
       "  <tbody>\n",
       "    <tr>\n",
       "      <th>count</th>\n",
       "      <td>244.000000</td>\n",
       "      <td>244.000000</td>\n",
       "      <td>244.000000</td>\n",
       "    </tr>\n",
       "    <tr>\n",
       "      <th>mean</th>\n",
       "      <td>19.785943</td>\n",
       "      <td>2.998279</td>\n",
       "      <td>2.569672</td>\n",
       "    </tr>\n",
       "    <tr>\n",
       "      <th>std</th>\n",
       "      <td>8.902412</td>\n",
       "      <td>1.383638</td>\n",
       "      <td>0.951100</td>\n",
       "    </tr>\n",
       "    <tr>\n",
       "      <th>min</th>\n",
       "      <td>3.070000</td>\n",
       "      <td>1.000000</td>\n",
       "      <td>1.000000</td>\n",
       "    </tr>\n",
       "    <tr>\n",
       "      <th>25%</th>\n",
       "      <td>13.347500</td>\n",
       "      <td>2.000000</td>\n",
       "      <td>2.000000</td>\n",
       "    </tr>\n",
       "    <tr>\n",
       "      <th>50%</th>\n",
       "      <td>17.795000</td>\n",
       "      <td>2.900000</td>\n",
       "      <td>2.000000</td>\n",
       "    </tr>\n",
       "    <tr>\n",
       "      <th>75%</th>\n",
       "      <td>24.127500</td>\n",
       "      <td>3.562500</td>\n",
       "      <td>3.000000</td>\n",
       "    </tr>\n",
       "    <tr>\n",
       "      <th>max</th>\n",
       "      <td>50.810000</td>\n",
       "      <td>10.000000</td>\n",
       "      <td>6.000000</td>\n",
       "    </tr>\n",
       "  </tbody>\n",
       "</table>\n",
       "</div>"
      ],
      "text/plain": [
       "       total_bill         tip        size\n",
       "count  244.000000  244.000000  244.000000\n",
       "mean    19.785943    2.998279    2.569672\n",
       "std      8.902412    1.383638    0.951100\n",
       "min      3.070000    1.000000    1.000000\n",
       "25%     13.347500    2.000000    2.000000\n",
       "50%     17.795000    2.900000    2.000000\n",
       "75%     24.127500    3.562500    3.000000\n",
       "max     50.810000   10.000000    6.000000"
      ]
     },
     "execution_count": 32,
     "metadata": {},
     "output_type": "execute_result"
    }
   ],
   "source": [
    "df.describe()"
   ]
  },
  {
   "cell_type": "code",
   "execution_count": 33,
   "metadata": {},
   "outputs": [
    {
     "data": {
      "text/plain": [
       "3.5"
      ]
     },
     "execution_count": 33,
     "metadata": {},
     "output_type": "execute_result"
    }
   ],
   "source": [
    "np.median(data)"
   ]
  },
  {
   "cell_type": "code",
   "execution_count": 34,
   "metadata": {},
   "outputs": [
    {
     "data": {
      "text/plain": [
       "19.166666666666668"
      ]
     },
     "execution_count": 34,
     "metadata": {},
     "output_type": "execute_result"
    }
   ],
   "source": [
    "data = [1,2,3,4,5,100]\n",
    "np.mean(data)"
   ]
  },
  {
   "cell_type": "code",
   "execution_count": 35,
   "metadata": {},
   "outputs": [
    {
     "data": {
      "text/plain": [
       "3.5"
      ]
     },
     "execution_count": 35,
     "metadata": {},
     "output_type": "execute_result"
    }
   ],
   "source": [
    "np.median(data)"
   ]
  },
  {
   "cell_type": "markdown",
   "metadata": {},
   "source": [
    "* mean is affected by outlier but median doesn't"
   ]
  },
  {
   "cell_type": "code",
   "execution_count": 36,
   "metadata": {},
   "outputs": [],
   "source": [
    "data = [1,2,3,4,4,4,5,6]"
   ]
  },
  {
   "cell_type": "code",
   "execution_count": 37,
   "metadata": {},
   "outputs": [],
   "source": [
    "# mode \n",
    "dic = {i: data.count(i) for i in data }"
   ]
  },
  {
   "cell_type": "code",
   "execution_count": 38,
   "metadata": {},
   "outputs": [],
   "source": [
    "# max(dic.keys, key=dic.values)"
   ]
  },
  {
   "cell_type": "code",
   "execution_count": 39,
   "metadata": {},
   "outputs": [
    {
     "data": {
      "text/plain": [
       "4"
      ]
     },
     "execution_count": 39,
     "metadata": {},
     "output_type": "execute_result"
    }
   ],
   "source": [
    "import statistics\n",
    "statistics.mode(data)"
   ]
  },
  {
   "cell_type": "code",
   "execution_count": 40,
   "metadata": {},
   "outputs": [
    {
     "data": {
      "text/plain": [
       "array([2.75])"
      ]
     },
     "execution_count": 40,
     "metadata": {},
     "output_type": "execute_result"
    }
   ],
   "source": [
    "np.percentile(data, [25])"
   ]
  },
  {
   "cell_type": "markdown",
   "metadata": {},
   "source": [
    "* 25% data lies below 2.75"
   ]
  },
  {
   "cell_type": "code",
   "execution_count": 41,
   "metadata": {},
   "outputs": [
    {
     "data": {
      "text/plain": [
       "array([2.75, 4.  , 4.25, 4.6 , 5.3 ])"
      ]
     },
     "execution_count": 41,
     "metadata": {},
     "output_type": "execute_result"
    }
   ],
   "source": [
    "np.percentile(data, [25,50,75,80,90])"
   ]
  },
  {
   "cell_type": "code",
   "execution_count": 42,
   "metadata": {},
   "outputs": [
    {
     "data": {
      "text/plain": [
       "[1, 2, 3, 4, 5, 6, 500, -500]"
      ]
     },
     "execution_count": 42,
     "metadata": {},
     "output_type": "execute_result"
    }
   ],
   "source": [
    "data=[1,2,3,4,5,6,500,-500]\n",
    "data"
   ]
  },
  {
   "cell_type": "code",
   "execution_count": 43,
   "metadata": {},
   "outputs": [
    {
     "data": {
      "text/plain": [
       "<Axes: >"
      ]
     },
     "execution_count": 43,
     "metadata": {},
     "output_type": "execute_result"
    },
    {
     "data": {
      "image/png": "[encoded data removed]",
      "text/plain": [
       "<Figure size 640x480 with 1 Axes>"
      ]
     },
     "metadata": {},
     "output_type": "display_data"
    }
   ],
   "source": [
    "sns.boxplot(data)"
   ]
  },
  {
   "cell_type": "code",
   "execution_count": 44,
   "metadata": {},
   "outputs": [
    {
     "data": {
      "text/plain": [
       "185.60999999999996"
      ]
     },
     "execution_count": 44,
     "metadata": {},
     "output_type": "execute_result"
    }
   ],
   "source": [
    "# centre of dispersion\n",
    "data = [1,3,6,8,9,45,32,12,2,9]\n",
    "np.var(data)"
   ]
  },
  {
   "cell_type": "code",
   "execution_count": 45,
   "metadata": {},
   "outputs": [
    {
     "data": {
      "text/plain": [
       "13.623876100434853"
      ]
     },
     "execution_count": 45,
     "metadata": {},
     "output_type": "execute_result"
    }
   ],
   "source": [
    "np.std(data)"
   ]
  },
  {
   "cell_type": "code",
   "execution_count": 46,
   "metadata": {},
   "outputs": [
    {
     "data": {
      "text/plain": [
       "206.23333333333332"
      ]
     },
     "execution_count": 46,
     "metadata": {},
     "output_type": "execute_result"
    }
   ],
   "source": [
    "statistics.variance(data)  # by default it calculate sample variance -> n-1"
   ]
  },
  {
   "cell_type": "code",
   "execution_count": 47,
   "metadata": {},
   "outputs": [
    {
     "data": {
      "text/plain": [
       "185.61"
      ]
     },
     "execution_count": 47,
     "metadata": {},
     "output_type": "execute_result"
    }
   ],
   "source": [
    "statistics.pvariance(data) # population variance"
   ]
  },
  {
   "cell_type": "code",
   "execution_count": 48,
   "metadata": {},
   "outputs": [
    {
     "data": {
      "text/plain": [
       "13.623876100434854"
      ]
     },
     "execution_count": 48,
     "metadata": {},
     "output_type": "execute_result"
    }
   ],
   "source": [
    "# std deviation\n",
    "import math\n",
    "math.sqrt(statistics.pvariance(data))"
   ]
  },
  {
   "cell_type": "code",
   "execution_count": 49,
   "metadata": {},
   "outputs": [
    {
     "data": {
      "text/plain": [
       "14.360826345769011"
      ]
     },
     "execution_count": 49,
     "metadata": {},
     "output_type": "execute_result"
    }
   ],
   "source": [
    "math.sqrt(statistics.variance(data))"
   ]
  },
  {
   "cell_type": "code",
   "execution_count": 50,
   "metadata": {},
   "outputs": [
    {
     "data": {
      "text/html": [
       "<div>\n",
       "<style scoped>\n",
       "    .dataframe tbody tr th:only-of-type {\n",
       "        vertical-align: middle;\n",
       "    }\n",
       "\n",
       "    .dataframe tbody tr th {\n",
       "        vertical-align: top;\n",
       "    }\n",
       "\n",
       "    .dataframe thead th {\n",
       "        text-align: right;\n",
       "    }\n",
       "</style>\n",
       "<table border=\"1\" class=\"dataframe\">\n",
       "  <thead>\n",
       "    <tr style=\"text-align: right;\">\n",
       "      <th></th>\n",
       "      <th>total_bill</th>\n",
       "      <th>tip</th>\n",
       "      <th>size</th>\n",
       "    </tr>\n",
       "  </thead>\n",
       "  <tbody>\n",
       "    <tr>\n",
       "      <th>total_bill</th>\n",
       "      <td>1.000000</td>\n",
       "      <td>0.675734</td>\n",
       "      <td>0.598315</td>\n",
       "    </tr>\n",
       "    <tr>\n",
       "      <th>tip</th>\n",
       "      <td>0.675734</td>\n",
       "      <td>1.000000</td>\n",
       "      <td>0.489299</td>\n",
       "    </tr>\n",
       "    <tr>\n",
       "      <th>size</th>\n",
       "      <td>0.598315</td>\n",
       "      <td>0.489299</td>\n",
       "      <td>1.000000</td>\n",
       "    </tr>\n",
       "  </tbody>\n",
       "</table>\n",
       "</div>"
      ],
      "text/plain": [
       "            total_bill       tip      size\n",
       "total_bill    1.000000  0.675734  0.598315\n",
       "tip           0.675734  1.000000  0.489299\n",
       "size          0.598315  0.489299  1.000000"
      ]
     },
     "execution_count": 50,
     "metadata": {},
     "output_type": "execute_result"
    }
   ],
   "source": [
    "# relationship b/w 2 features\n",
    "# correlation & covariance\n",
    "df[['total_bill','tip','size']].corr()"
   ]
  },
  {
   "cell_type": "code",
   "execution_count": 51,
   "metadata": {},
   "outputs": [
    {
     "data": {
      "text/html": [
       "<div>\n",
       "<style scoped>\n",
       "    .dataframe tbody tr th:only-of-type {\n",
       "        vertical-align: middle;\n",
       "    }\n",
       "\n",
       "    .dataframe tbody tr th {\n",
       "        vertical-align: top;\n",
       "    }\n",
       "\n",
       "    .dataframe thead th {\n",
       "        text-align: right;\n",
       "    }\n",
       "</style>\n",
       "<table border=\"1\" class=\"dataframe\">\n",
       "  <thead>\n",
       "    <tr style=\"text-align: right;\">\n",
       "      <th></th>\n",
       "      <th>total_bill</th>\n",
       "      <th>tip</th>\n",
       "      <th>size</th>\n",
       "    </tr>\n",
       "  </thead>\n",
       "  <tbody>\n",
       "    <tr>\n",
       "      <th>total_bill</th>\n",
       "      <td>1.000000</td>\n",
       "      <td>0.675734</td>\n",
       "      <td>0.598315</td>\n",
       "    </tr>\n",
       "    <tr>\n",
       "      <th>tip</th>\n",
       "      <td>0.675734</td>\n",
       "      <td>1.000000</td>\n",
       "      <td>0.489299</td>\n",
       "    </tr>\n",
       "    <tr>\n",
       "      <th>size</th>\n",
       "      <td>0.598315</td>\n",
       "      <td>0.489299</td>\n",
       "      <td>1.000000</td>\n",
       "    </tr>\n",
       "  </tbody>\n",
       "</table>\n",
       "</div>"
      ],
      "text/plain": [
       "            total_bill       tip      size\n",
       "total_bill    1.000000  0.675734  0.598315\n",
       "tip           0.675734  1.000000  0.489299\n",
       "size          0.598315  0.489299  1.000000"
      ]
     },
     "execution_count": 51,
     "metadata": {},
     "output_type": "execute_result"
    }
   ],
   "source": [
    "corrl = df.corr(numeric_only=True)\n",
    "corrl"
   ]
  },
  {
   "cell_type": "code",
   "execution_count": 52,
   "metadata": {},
   "outputs": [
    {
     "data": {
      "text/plain": [
       "<Axes: >"
      ]
     },
     "execution_count": 52,
     "metadata": {},
     "output_type": "execute_result"
    },
    {
     "data": {
      "image/png": "[encoded data removed]",
      "text/plain": [
       "<Figure size 640x480 with 2 Axes>"
      ]
     },
     "metadata": {},
     "output_type": "display_data"
    }
   ],
   "source": [
    "sns.heatmap(corrl)"
   ]
  },
  {
   "cell_type": "code",
   "execution_count": 53,
   "metadata": {},
   "outputs": [
    {
     "data": {
      "text/html": [
       "<div>\n",
       "<style scoped>\n",
       "    .dataframe tbody tr th:only-of-type {\n",
       "        vertical-align: middle;\n",
       "    }\n",
       "\n",
       "    .dataframe tbody tr th {\n",
       "        vertical-align: top;\n",
       "    }\n",
       "\n",
       "    .dataframe thead th {\n",
       "        text-align: right;\n",
       "    }\n",
       "</style>\n",
       "<table border=\"1\" class=\"dataframe\">\n",
       "  <thead>\n",
       "    <tr style=\"text-align: right;\">\n",
       "      <th></th>\n",
       "      <th>total_bill</th>\n",
       "      <th>tip</th>\n",
       "      <th>size</th>\n",
       "    </tr>\n",
       "  </thead>\n",
       "  <tbody>\n",
       "    <tr>\n",
       "      <th>total_bill</th>\n",
       "      <td>79.252939</td>\n",
       "      <td>8.323502</td>\n",
       "      <td>5.065983</td>\n",
       "    </tr>\n",
       "    <tr>\n",
       "      <th>tip</th>\n",
       "      <td>8.323502</td>\n",
       "      <td>1.914455</td>\n",
       "      <td>0.643906</td>\n",
       "    </tr>\n",
       "    <tr>\n",
       "      <th>size</th>\n",
       "      <td>5.065983</td>\n",
       "      <td>0.643906</td>\n",
       "      <td>0.904591</td>\n",
       "    </tr>\n",
       "  </tbody>\n",
       "</table>\n",
       "</div>"
      ],
      "text/plain": [
       "            total_bill       tip      size\n",
       "total_bill   79.252939  8.323502  5.065983\n",
       "tip           8.323502  1.914455  0.643906\n",
       "size          5.065983  0.643906  0.904591"
      ]
     },
     "execution_count": 53,
     "metadata": {},
     "output_type": "execute_result"
    }
   ],
   "source": [
    "covr = df.cov(numeric_only=True)\n",
    "covr"
   ]
  },
  {
   "cell_type": "code",
   "execution_count": 54,
   "metadata": {},
   "outputs": [
    {
     "data": {
      "text/plain": [
       "<seaborn.axisgrid.PairGrid at 0x2cf5575dd50>"
      ]
     },
     "execution_count": 54,
     "metadata": {},
     "output_type": "execute_result"
    },
    {
     "data": {
      "image/png": "[encoded data removed]",
      "text/plain": [
       "<Figure size 750x750 with 12 Axes>"
      ]
     },
     "metadata": {},
     "output_type": "display_data"
    }
   ],
   "source": [
    "sns.pairplot(df)"
   ]
  },
  {
   "cell_type": "markdown",
   "metadata": {},
   "source": [
    "## Central Limit Theorem"
   ]
  },
  {
   "cell_type": "code",
   "execution_count": 55,
   "metadata": {},
   "outputs": [
    {
     "data": {
      "text/plain": [
       "array([18, 17, 14, 10, 10, 16, 19, 12, 11, 10, 11, 10, 12, 12, 17, 17, 17,\n",
       "       19, 19, 19, 18, 18, 10, 18, 15, 18, 19, 19, 18, 16, 17, 14, 11, 11,\n",
       "       12, 15, 19, 14, 16, 10, 13, 18, 13, 10, 19, 15, 15, 19, 17, 14])"
      ]
     },
     "execution_count": 55,
     "metadata": {},
     "output_type": "execute_result"
    }
   ],
   "source": [
    "population = np.random.randint(10,20,50)\n",
    "population"
   ]
  },
  {
   "cell_type": "code",
   "execution_count": 56,
   "metadata": {},
   "outputs": [
    {
     "data": {
      "text/plain": [
       "15.02"
      ]
     },
     "execution_count": 56,
     "metadata": {},
     "output_type": "execute_result"
    }
   ],
   "source": [
    "np.mean(population)"
   ]
  },
  {
   "cell_type": "code",
   "execution_count": 57,
   "metadata": {},
   "outputs": [],
   "source": [
    "sample1 = np.random.choice(population, 20)\n",
    "sample2 = np.random.choice(population, 20)\n",
    "sample3 = np.random.choice(population, 20)\n",
    "sample4 = np.random.choice(population, 20)"
   ]
  },
  {
   "cell_type": "code",
   "execution_count": 58,
   "metadata": {},
   "outputs": [],
   "source": [
    "all_samples = [sample1, sample2, sample3, sample4]\n",
    "mean_of_samples = [np.mean(i) for i in all_samples]"
   ]
  },
  {
   "cell_type": "code",
   "execution_count": 59,
   "metadata": {},
   "outputs": [
    {
     "data": {
      "text/plain": [
       "[14.45, 14.55, 15.8, 14.5]"
      ]
     },
     "execution_count": 59,
     "metadata": {},
     "output_type": "execute_result"
    }
   ],
   "source": [
    "mean_of_samples"
   ]
  },
  {
   "cell_type": "code",
   "execution_count": 60,
   "metadata": {},
   "outputs": [
    {
     "data": {
      "text/plain": [
       "<Axes: ylabel='Count'>"
      ]
     },
     "execution_count": 60,
     "metadata": {},
     "output_type": "execute_result"
    },
    {
     "data": {
      "image/png": "[encoded data removed]",
      "text/plain": [
       "<Figure size 640x480 with 1 Axes>"
      ]
     },
     "metadata": {},
     "output_type": "display_data"
    }
   ],
   "source": [
    "sns.histplot(mean_of_samples, kde=True)"
   ]
  },
  {
   "cell_type": "code",
   "execution_count": 61,
   "metadata": {},
   "outputs": [],
   "source": [
    "population = np.random.binomial(10,0.5,10000)"
   ]
  },
  {
   "cell_type": "code",
   "execution_count": 62,
   "metadata": {},
   "outputs": [
    {
     "data": {
      "text/plain": [
       "<seaborn.axisgrid.FacetGrid at 0x2cf556ac090>"
      ]
     },
     "execution_count": 62,
     "metadata": {},
     "output_type": "execute_result"
    },
    {
     "data": {
      "image/png": "[encoded data removed]",
      "text/plain": [
       "<Figure size 500x500 with 1 Axes>"
      ]
     },
     "metadata": {},
     "output_type": "display_data"
    }
   ],
   "source": [
    "sns.displot(population)"
   ]
  },
  {
   "cell_type": "code",
   "execution_count": 63,
   "metadata": {},
   "outputs": [
    {
     "data": {
      "text/plain": [
       "<seaborn.axisgrid.FacetGrid at 0x2cf5776a950>"
      ]
     },
     "execution_count": 63,
     "metadata": {},
     "output_type": "execute_result"
    },
    {
     "data": {
      "image/png": "[encoded data removed]",
      "text/plain": [
       "<Figure size 500x500 with 1 Axes>"
      ]
     },
     "metadata": {},
     "output_type": "display_data"
    }
   ],
   "source": [
    "population = np.random.pareto(10,1000)\n",
    "sns.displot(population)"
   ]
  },
  {
   "cell_type": "code",
   "execution_count": 64,
   "metadata": {},
   "outputs": [
    {
     "data": {
      "text/plain": [
       "<Axes: ylabel='Count'>"
      ]
     },
     "execution_count": 64,
     "metadata": {},
     "output_type": "execute_result"
    },
    {
     "data": {
      "image/png": "[encoded data removed]",
      "text/plain": [
       "<Figure size 640x480 with 1 Axes>"
      ]
     },
     "metadata": {},
     "output_type": "display_data"
    }
   ],
   "source": [
    "population = np.random.binomial(10,0.5,10000)\n",
    "sample_size = 2000\n",
    "mean_of_samples = []\n",
    "for i in range(1,10000):\n",
    "    sample = np.random.choice(population, size=sample_size)\n",
    "    mean_of_samples.append(np.mean(sample))\n",
    "sns.histplot(mean_of_samples, kde=True)\n"
   ]
  },
  {
   "cell_type": "code",
   "execution_count": 65,
   "metadata": {},
   "outputs": [
    {
     "data": {
      "text/plain": [
       "<Axes: ylabel='Density'>"
      ]
     },
     "execution_count": 65,
     "metadata": {},
     "output_type": "execute_result"
    },
    {
     "data": {
      "image/png": "[encoded data removed]",
      "text/plain": [
       "<Figure size 640x480 with 1 Axes>"
      ]
     },
     "metadata": {},
     "output_type": "display_data"
    }
   ],
   "source": [
    "sns.distplot(mean_of_samples, kde=True, color='red')"
   ]
  },
  {
   "cell_type": "markdown",
   "metadata": {},
   "source": [
    "* to prove it is a normal distribution, we will prove mean=mode=median"
   ]
  },
  {
   "cell_type": "code",
   "execution_count": 66,
   "metadata": {},
   "outputs": [
    {
     "data": {
      "text/plain": [
       "4.989756675667567"
      ]
     },
     "execution_count": 66,
     "metadata": {},
     "output_type": "execute_result"
    }
   ],
   "source": [
    "np.mean(mean_of_samples)"
   ]
  },
  {
   "cell_type": "code",
   "execution_count": 67,
   "metadata": {},
   "outputs": [
    {
     "data": {
      "text/plain": [
       "4.9895"
      ]
     },
     "execution_count": 67,
     "metadata": {},
     "output_type": "execute_result"
    }
   ],
   "source": [
    "np.median(mean_of_samples)"
   ]
  },
  {
   "cell_type": "code",
   "execution_count": 68,
   "metadata": {},
   "outputs": [
    {
     "data": {
      "text/plain": [
       "5.0025"
      ]
     },
     "execution_count": 68,
     "metadata": {},
     "output_type": "execute_result"
    }
   ],
   "source": [
    "statistics.mode(mean_of_samples)"
   ]
  },
  {
   "cell_type": "markdown",
   "metadata": {},
   "source": [
    "* hence mean = median = mode"
   ]
  },
  {
   "cell_type": "markdown",
   "metadata": {},
   "source": [
    "### where x% data lies or one tail/two tail test"
   ]
  },
  {
   "cell_type": "code",
   "execution_count": 69,
   "metadata": {},
   "outputs": [],
   "source": [
    "import scipy.stats as stats"
   ]
  },
  {
   "cell_type": "code",
   "execution_count": 70,
   "metadata": {},
   "outputs": [
    {
     "data": {
      "text/plain": [
       "1.6448536269514722"
      ]
     },
     "execution_count": 70,
     "metadata": {},
     "output_type": "execute_result"
    }
   ],
   "source": [
    "# z table value\n",
    "z_critical = stats.norm.ppf(q = 0.95)\n",
    "# 0.95 is confidence interval\n",
    "z_critical\n"
   ]
  },
  {
   "cell_type": "code",
   "execution_count": 71,
   "metadata": {},
   "outputs": [
    {
     "data": {
      "text/plain": [
       "1.7108820799094275"
      ]
     },
     "execution_count": 71,
     "metadata": {},
     "output_type": "execute_result"
    }
   ],
   "source": [
    "#  t table value\n",
    "t_critical = stats.t.ppf(df = 24, q=0.95)\n",
    "# df = degree of freedom\n",
    "t_critical\n"
   ]
  },
  {
   "cell_type": "code",
   "execution_count": 72,
   "metadata": {},
   "outputs": [
    {
     "data": {
      "text/plain": [
       "0.0013010009094304728"
      ]
     },
     "execution_count": 72,
     "metadata": {},
     "output_type": "execute_result"
    }
   ],
   "source": [
    "# z test\n",
    "margin_of_error = z_critical * np.std(mean_of_samples)/np.sqrt(2000)\n",
    "# to calculate confidence interval\n",
    "margin_of_error"
   ]
  },
  {
   "cell_type": "code",
   "execution_count": 73,
   "metadata": {},
   "outputs": [
    {
     "data": {
      "text/plain": [
       "(4.988455674758137, 4.991057676576998)"
      ]
     },
     "execution_count": 73,
     "metadata": {},
     "output_type": "execute_result"
    }
   ],
   "source": [
    "# confidence interval -\n",
    "np.mean(mean_of_samples)-margin_of_error, np.mean(mean_of_samples)+margin_of_error"
   ]
  },
  {
   "cell_type": "code",
   "execution_count": 74,
   "metadata": {},
   "outputs": [
    {
     "data": {
      "text/plain": [
       "array([-1.62766454e+00, -4.16548193e-01,  1.75900056e+00,  4.65879996e-01,\n",
       "       -5.70540966e-01, -9.78468603e-01,  6.35872031e-01,  1.98344005e-01,\n",
       "        1.58175663e+00,  6.66232218e-01, -1.17016839e+00,  1.31011462e+00,\n",
       "        1.89749313e+00,  1.05536842e-02,  8.55877107e-01,  6.65960808e-01,\n",
       "        1.92835920e+00,  5.09151420e-01,  4.36016695e-01, -1.97607211e-01,\n",
       "       -1.15924336e+00, -4.07702540e-01,  1.17928058e+00,  9.27258003e-01,\n",
       "       -4.69715579e-01,  1.63648683e-01,  3.73845182e-03, -1.03928735e+00,\n",
       "       -6.08488941e-01, -9.40496406e-01, -8.09848608e-01, -1.80051804e-02,\n",
       "        1.20440944e+00, -4.37168818e-01,  1.70158218e+00,  5.94246333e-01,\n",
       "       -1.12631838e+00, -1.49913952e+00,  7.18761989e-01, -7.00386099e-01,\n",
       "        1.13574996e+00, -2.13698673e+00,  4.11408122e-01,  2.45546453e-01,\n",
       "       -9.91286940e-02, -1.15378948e+00, -3.70879027e-01,  1.33820967e+00,\n",
       "        7.24406334e-01, -5.31461752e-01,  1.24840528e+00, -2.44972626e-01,\n",
       "       -5.51760845e-01, -1.14478462e+00,  2.21930730e+00, -1.65147865e+00,\n",
       "       -6.28206646e-02, -8.01219285e-01,  2.40233747e+00,  7.41027044e-02,\n",
       "       -6.35322232e-01, -1.94041013e+00, -4.19643060e-01, -2.28702204e-01,\n",
       "       -7.84037163e-01,  1.20655178e+00,  5.17238809e-01, -1.51540149e-01,\n",
       "       -4.98881136e-01,  4.05271370e-01,  3.76575071e-01, -2.32119638e-01,\n",
       "        1.61921960e+00, -3.44235289e+00, -9.42415358e-01,  5.29148928e-01,\n",
       "       -2.40928308e-01,  1.25189554e+00,  1.02889095e+00, -2.44445986e+00,\n",
       "        7.89031385e-01, -1.31617819e+00, -9.37483762e-01, -2.09909562e+00,\n",
       "       -1.65809600e+00,  2.53705093e-01,  3.47358823e-01,  5.14735491e-02,\n",
       "       -9.12366884e-01,  3.69741767e-01,  2.28356954e-01, -3.60140465e-02,\n",
       "        8.63197802e-02, -1.06117066e-02, -1.33990476e+00, -1.91830347e-01,\n",
       "        7.93227233e-01, -4.04859401e-01, -9.95135463e-01,  2.38462359e-01,\n",
       "       -1.04293419e+00,  3.11778221e-01,  8.52524688e-01,  5.50228076e-02,\n",
       "       -5.79619085e-01,  1.21195784e+00, -6.91668190e-01, -3.76459852e-01,\n",
       "        5.21878353e-01, -1.31167618e+00, -6.54276607e-01,  1.35956546e+00,\n",
       "        3.07842600e-01, -1.74197425e+00, -4.46735070e-02,  1.18846724e+00,\n",
       "       -2.02190482e+00, -4.09934606e-02,  7.42778056e-01, -1.21014656e+00,\n",
       "        6.51277192e-01,  2.57127136e-01,  4.80130137e-01, -1.88979200e-01,\n",
       "        2.77065229e-01,  5.52443024e-01,  5.47674318e-02,  4.45503105e-01,\n",
       "        5.49140125e-01,  8.37820298e-01, -9.75751462e-01, -1.04972815e+00,\n",
       "       -1.56496757e-01, -1.09701618e+00, -3.22543460e-01,  3.64143070e-01,\n",
       "        2.71613108e-01, -7.39376663e-01, -4.09212333e-01,  4.88150628e-01,\n",
       "       -2.09249583e-01,  8.41689798e-01, -3.51109420e-01, -1.08344364e+00,\n",
       "       -1.03941857e-01, -3.52971709e-01,  1.72546450e-01,  4.94980881e-01,\n",
       "       -8.07990121e-01,  5.89203266e-01,  1.57006706e+00,  6.00096082e-01,\n",
       "        9.65657038e-01,  7.11244094e-01,  1.26213684e-01,  2.37428798e+00,\n",
       "       -9.76500283e-01, -1.22976144e+00,  8.69335946e-02, -9.45490049e-01,\n",
       "       -5.26198136e-01,  6.75193669e-02,  9.76437749e-01, -4.29453607e-01,\n",
       "        5.24317244e-01, -8.20386916e-02,  8.03799588e-01, -4.70426856e-01,\n",
       "        2.46503865e-01,  3.50904063e-01, -4.90526480e-01,  2.34533667e-01,\n",
       "        1.11628597e+00,  1.81225018e+00, -9.95814248e-01, -4.59088320e-01,\n",
       "       -1.14866753e-01, -4.30784015e-01,  8.46863088e-01, -6.47327792e-01,\n",
       "       -8.48082552e-01, -2.87929302e+00,  1.26346338e+00, -2.94803095e-01,\n",
       "       -1.12363726e+00, -9.85860744e-01, -4.61094505e-01,  2.26738581e-01,\n",
       "        8.40968782e-01, -4.02076640e-01,  1.26672063e+00, -1.06507486e+00,\n",
       "        4.38818594e-01, -1.08312314e-01,  1.14311086e+00,  2.65413097e-01,\n",
       "       -1.98222019e+00, -1.20605984e+00,  6.56819991e-01,  1.71004510e+00,\n",
       "        7.84585957e-03, -1.91238077e+00, -5.30856742e-01, -1.21459783e+00,\n",
       "        2.59123314e-01,  4.90998248e-01,  3.13092299e-02, -8.06182980e-02,\n",
       "       -4.59032162e-01,  9.91925640e-02,  2.07828943e-01, -7.02575195e-01,\n",
       "       -8.85560293e-01, -1.89091532e-02, -1.61133797e-01,  1.73336925e-01,\n",
       "       -1.23214734e+00, -3.15193262e-01,  3.36855311e-01,  5.09658920e-01,\n",
       "        3.80299127e-02, -1.03970924e+00,  1.00849011e-02,  1.86781555e-01,\n",
       "        5.30615668e-01,  1.54321686e+00, -1.56565111e+00,  9.05576997e-01,\n",
       "       -8.49750289e-01, -1.61033883e+00, -3.82031175e-01,  1.57277182e+00,\n",
       "       -1.95199926e+00, -8.36372500e-01,  7.98728675e-01, -6.93587064e-01,\n",
       "       -8.00653611e-01,  8.84446390e-01, -5.80686047e-01,  6.15950222e-01,\n",
       "        1.44270603e+00,  7.74924653e-01,  2.85121150e-01, -1.58395521e+00,\n",
       "       -4.91243355e-01, -8.78632670e-01, -5.59806348e-01, -1.69841217e-01,\n",
       "        9.79405523e-01,  3.30021495e-01, -3.42503901e-01,  2.30713459e+00,\n",
       "        8.52078763e-03,  2.90621507e-01, -1.41125717e+00, -5.54134967e-01,\n",
       "       -9.59923207e-02, -1.23468751e-01,  2.89038235e-01, -1.56552019e+00,\n",
       "        4.31639030e-01,  3.66277327e-01, -9.53710250e-01,  1.44612951e-01,\n",
       "        9.71978611e-02,  4.32383105e-01,  6.97621993e-01, -3.50789981e-01,\n",
       "        9.08516093e-01,  6.74895527e-01,  1.55352113e+00, -8.59820862e-03,\n",
       "       -9.71540480e-01,  1.34632159e-02,  1.88234863e-01, -2.70796075e-01,\n",
       "       -1.24688302e+00, -1.15784203e+00,  9.00415080e-02, -9.60009495e-01,\n",
       "        2.26881768e+00, -9.09539064e-01,  2.99137257e-01, -1.84948545e+00,\n",
       "       -1.86174417e-02,  1.36170041e+00,  7.33207634e-01, -3.20968903e-01,\n",
       "        5.14982979e-01, -1.50512309e+00,  3.72354202e-01,  1.15154753e+00,\n",
       "        7.07568219e-01, -9.56080139e-02,  3.24324333e-01, -1.60487279e+00,\n",
       "        1.00827279e+00,  9.28407555e-01,  1.33969294e-01, -7.92141526e-01,\n",
       "        3.42034981e-01, -3.70126852e-03,  4.76090687e-01, -1.53723157e+00,\n",
       "        3.71266863e-01,  4.19716680e-01,  5.20741474e-01, -1.09512539e+00,\n",
       "       -1.80885791e-01,  1.00958784e+00,  1.10352372e+00, -1.62484229e+00,\n",
       "        7.59645576e-01,  1.49691783e+00,  2.79367096e+00, -5.33325910e-02,\n",
       "        3.70805657e-01, -9.42907811e-01,  7.11359290e-02,  4.32966095e-01,\n",
       "       -9.81738961e-01,  9.02653435e-03, -7.96919866e-01, -8.39649613e-02,\n",
       "        5.44617356e-01, -2.19288057e-01,  1.30774706e+00, -7.06112538e-01,\n",
       "       -6.57428748e-02, -1.42988588e+00, -5.10666428e-01,  3.48377542e-02,\n",
       "        9.57543959e-01,  2.93660145e-01,  1.22197687e+00, -1.63629855e+00,\n",
       "        7.96193699e-01,  6.78707303e-01,  1.29827103e+00, -7.15411382e-01,\n",
       "        9.10324004e-01, -7.04887577e-01, -1.39208922e+00,  5.51126826e-01,\n",
       "        3.10309933e-02,  3.19224226e-01, -5.81252872e-01,  1.59271992e+00,\n",
       "        3.59024312e-01,  3.86677430e-01, -5.95826777e-01, -6.16281690e-01,\n",
       "       -1.01066760e+00, -5.34681952e-01,  2.01159166e-01, -4.64016113e-03,\n",
       "       -1.57456014e+00, -5.88293461e-01, -6.92085936e-02,  8.03412798e-04,\n",
       "        9.08256518e-03, -4.87334104e-01, -6.46093233e-01, -4.45844576e-01,\n",
       "        1.70508327e+00, -1.82301621e-02, -7.15989688e-01,  9.23447233e-01,\n",
       "        2.60054326e-02, -7.52564212e-01,  1.02978429e+00, -2.03179200e-01,\n",
       "        1.92833647e-01,  1.37358394e+00,  5.14541671e-01, -1.57344974e-01,\n",
       "       -8.17910686e-01, -1.89599580e-01, -6.42517019e-01,  1.52275892e+00,\n",
       "       -6.18659392e-01, -3.71795825e-02, -3.74639751e-01,  3.00577687e-01,\n",
       "       -4.01513427e-01,  1.26762773e+00, -5.58737929e-01, -1.55247620e+00,\n",
       "       -2.09500007e+00,  6.80288907e-01, -1.79711704e-01, -1.16614160e+00,\n",
       "       -4.26084049e-01,  1.46389986e+00, -3.22131537e-01,  1.19940353e+00,\n",
       "        2.24804606e+00,  5.92408946e-01,  1.95388898e-02, -1.46670443e+00,\n",
       "       -1.11771515e-01, -2.24681968e+00, -5.79253007e-01,  9.48644858e-01,\n",
       "       -6.53748925e-02,  2.31386583e-01,  1.23646577e+00,  1.89543701e-01,\n",
       "        6.41258280e-01, -2.33572089e-01,  7.68152399e-02,  2.93488059e-02,\n",
       "       -1.94633556e+00, -5.72698680e-01, -1.15295615e+00, -1.27945774e+00,\n",
       "        7.29048846e-01, -1.05937650e+00,  2.23027670e-01, -4.27472515e-01,\n",
       "       -7.09652821e-01,  1.33407533e-01, -1.10771849e+00, -8.48065128e-01,\n",
       "        1.21222652e-02, -6.53586703e-01, -1.06263590e+00, -4.31465685e-01,\n",
       "        7.09057112e-01,  1.40064934e+00, -6.46698750e-01,  1.22600757e+00,\n",
       "       -1.68737155e+00, -6.98805228e-01, -1.51829618e+00, -1.99930570e-01,\n",
       "       -1.32473547e+00,  7.55210901e-01,  8.60859609e-01, -1.24083758e+00,\n",
       "       -1.11021056e+00,  1.52047704e+00, -1.05706233e+00, -1.10000047e+00,\n",
       "        9.45351057e-02, -1.72730900e-02,  1.39590026e+00,  1.94312476e+00,\n",
       "       -9.25925889e-01, -1.11782050e+00, -5.09953592e-01, -8.67871174e-01,\n",
       "       -7.24684742e-01,  1.56782585e+00, -1.19294470e+00, -1.65888117e+00,\n",
       "        3.06911655e-01, -1.11694670e+00, -2.24354900e+00,  4.15945821e-02,\n",
       "       -7.95051565e-01, -3.57012040e-01, -8.39948162e-02,  8.43927348e-02,\n",
       "        8.39314540e-01, -7.67291695e-02,  1.92411296e-01,  3.50920670e-01,\n",
       "        7.33010919e-01, -2.43984677e-02, -4.50852038e-01,  1.83474943e-01,\n",
       "       -1.87837138e+00, -6.30868466e-01, -5.54173139e-01, -2.83242714e-01,\n",
       "        1.20495178e+00, -3.74799414e-01,  1.79552006e+00, -4.04202386e-01,\n",
       "       -1.81917992e+00, -1.32862197e+00, -1.55657553e+00,  1.24815996e+00,\n",
       "        5.14260594e-01,  8.32074074e-01,  8.67444029e-02, -5.62632204e-01,\n",
       "       -7.45912719e-02,  3.34079237e-01, -3.19210397e-02,  1.52307014e+00,\n",
       "       -3.02666288e-01,  7.96391648e-01, -8.30035669e-02, -1.65961190e+00,\n",
       "       -1.13999459e+00,  9.18422025e-01,  1.89500783e+00,  4.14727950e-01,\n",
       "        2.25251633e-01, -8.88484717e-01, -1.07618420e-01,  1.21404524e-02,\n",
       "       -3.33943525e-01,  1.05642255e+00,  4.32816825e-01,  1.27622645e+00,\n",
       "       -6.09175268e-01, -1.76387679e+00, -1.07353935e+00, -1.72236392e+00,\n",
       "       -1.45481614e+00,  5.90398965e-01,  1.09078217e+00,  2.72614212e-01,\n",
       "        6.99025171e-01, -1.52062185e+00, -1.62674948e+00,  5.70830010e-01,\n",
       "       -3.75926772e-01, -6.39905642e-01, -7.33783266e-01, -6.43632975e-01,\n",
       "       -1.55089451e+00, -7.86084650e-01, -4.49011252e-01, -2.46135053e-01,\n",
       "       -3.73671267e-01,  9.40313424e-01, -5.90661464e-01,  8.87343665e-02,\n",
       "       -1.10243336e+00, -5.97194486e-01, -4.99785230e-01,  6.30742131e-02,\n",
       "       -5.93382107e-01,  1.38387719e+00,  6.32855886e-01, -3.21816137e-02,\n",
       "       -5.02843302e-01, -2.46454182e+00, -4.88010778e-01, -1.39522821e+00,\n",
       "        5.92650049e-01,  1.39043073e+00, -1.77888660e-01, -8.61204378e-01,\n",
       "        3.46410918e-02,  4.13012903e-01, -2.70767539e-01, -1.77559327e-01,\n",
       "        1.23181788e-01, -1.10946017e-01, -4.93491837e-01, -1.99023927e+00,\n",
       "        9.99445656e-01, -1.46708170e+00, -7.83404213e-02,  3.09619702e-01,\n",
       "       -1.59685984e+00, -1.18949100e+00,  1.13570937e+00, -5.83488231e-01,\n",
       "       -5.34819554e-01,  4.84483041e-01, -7.03930493e-01,  1.80670018e-02,\n",
       "        7.91925355e-01, -1.03117955e+00, -4.11434030e-01,  8.37694224e-01,\n",
       "       -5.74807185e-01, -4.07483359e-01,  5.96263761e-01, -1.76815690e+00,\n",
       "        1.21616170e+00, -5.42006730e-01,  2.08660772e-01, -8.68851271e-01,\n",
       "        1.26318205e+00, -3.06348392e-01,  1.66118236e+00, -1.01872597e+00,\n",
       "        2.26271488e+00, -4.17724659e-01,  7.64745479e-01,  4.19921477e-01,\n",
       "        1.97078132e+00, -1.09565779e+00,  6.83363222e-01, -2.08083608e-01,\n",
       "        2.54507645e+00,  8.01150409e-01,  6.61345344e-01,  1.48448637e+00,\n",
       "        1.35736908e+00, -4.37331567e-01,  8.30121223e-01,  1.84348479e+00,\n",
       "       -2.78313908e-01, -1.24979986e+00, -1.65331261e+00, -4.93696279e-01,\n",
       "       -4.19430538e-01, -1.68194314e-01,  1.35264191e+00, -1.57792979e-01,\n",
       "       -3.76534934e-01, -4.56982469e-01,  5.04197119e-01, -9.59628537e-01,\n",
       "        1.15020635e+00, -4.98046950e-01, -8.38572155e-01,  4.25480091e-01,\n",
       "        1.44671562e+00, -2.34511968e-01, -8.47478362e-01, -8.07728583e-01,\n",
       "       -5.82334084e-01, -1.17793818e-01, -1.50602090e+00, -2.43032358e-01,\n",
       "        1.37389774e+00, -1.64706696e+00, -5.97746721e-01,  2.62999685e+00,\n",
       "       -1.50461567e+00,  9.92548373e-02, -1.91216052e-01,  1.29278050e+00,\n",
       "       -1.93583048e-01, -3.00134181e-01,  6.98238226e-01, -1.56294642e-01,\n",
       "        3.01902419e-01, -1.55037137e+00, -1.14853859e+00, -1.86245379e+00,\n",
       "        2.72041254e+00, -1.03517613e+00,  2.83362764e-01, -1.19590493e-01,\n",
       "       -1.90127233e-01, -1.07149545e-01,  1.44451017e+00, -9.18549471e-02,\n",
       "        7.29003529e-01,  1.77279451e-01, -4.73753944e-01, -2.96901014e-02,\n",
       "       -4.33254961e-01,  1.58246193e+00,  6.60561619e-02, -1.64604809e-02,\n",
       "       -5.91142281e-01, -1.24885185e+00, -1.38921704e+00,  9.66446521e-01,\n",
       "        1.15287248e-01,  1.88278355e+00,  4.21880838e-01,  1.38555916e+00,\n",
       "        4.50245867e-01, -8.63944040e-01, -8.60014575e-01,  2.10530785e+00,\n",
       "       -2.35083534e-01,  4.35729784e-02,  2.67248483e-01,  4.88219454e-01,\n",
       "        7.62042420e-01, -3.70605259e-01, -9.54401299e-01, -2.16146467e+00,\n",
       "       -1.02678378e-01,  7.28769477e-01, -7.34210176e-01,  1.13642125e+00,\n",
       "       -1.73592447e+00,  2.09865587e+00,  1.41684967e+00,  3.88865831e-01,\n",
       "        1.78484701e-01,  6.82328335e-02, -1.44811860e-01, -1.36953636e+00,\n",
       "       -1.85452833e-01, -1.20532995e+00, -1.77895035e+00,  6.89448066e-01,\n",
       "       -1.68886554e-01, -1.44653378e-01, -2.80774585e-02, -1.49349122e+00,\n",
       "        8.62477174e-02,  7.09430896e-02, -1.42166234e+00,  4.17226770e-01,\n",
       "        4.57455636e-01, -8.80968422e-01,  1.20320600e+00,  2.77906418e+00,\n",
       "       -1.81477426e-01, -2.45426102e+00,  1.01651052e+00, -6.60817241e-01,\n",
       "       -3.64390003e-01, -1.97183678e+00, -9.61678737e-01,  2.45940856e-01,\n",
       "        2.63321769e-01,  5.98393229e-01,  6.05772436e-01,  8.08270972e-01,\n",
       "        1.73542156e+00,  6.54397846e-01,  2.84865772e-01, -2.34053899e+00,\n",
       "       -3.72287974e-01, -2.63202100e-01, -1.05105565e+00,  6.98112637e-01,\n",
       "        1.38070649e+00, -2.05832248e-01,  1.43984765e+00, -1.26997990e-01,\n",
       "        1.05163994e-01,  1.85875278e-01, -1.59837876e-01,  8.48270052e-01,\n",
       "        1.74748104e+00, -1.72474495e+00, -9.92855273e-01, -7.53481026e-01,\n",
       "       -1.80739767e-01, -8.56823452e-01, -3.15124854e-01,  1.70002719e+00,\n",
       "       -3.53370986e-01, -8.58471229e-01,  1.99264057e+00,  1.22250293e+00,\n",
       "       -2.01070558e+00, -7.92983848e-01, -1.73800917e-01,  1.46517185e+00,\n",
       "       -1.34451052e+00,  6.74103980e-01, -7.54809908e-01,  2.00596316e+00,\n",
       "       -5.63785297e-01,  5.88070122e-01, -1.17173315e+00, -1.30321843e-01,\n",
       "       -6.91614447e-01,  1.02357937e+00,  3.71744791e-01, -3.48274418e-02,\n",
       "        7.57229060e-02, -1.29115107e-01,  1.36643291e-01,  7.00068464e-01,\n",
       "       -1.76766918e+00, -5.62798960e-01,  1.06576600e+00,  1.86737835e+00,\n",
       "       -5.09011686e-01, -8.40649307e-01, -3.26491567e-01, -2.59895203e-01,\n",
       "       -5.70397758e-01, -1.44878387e-01, -7.62776901e-01,  1.14541234e+00,\n",
       "       -1.17879830e+00,  1.32210226e+00,  1.19053615e+00, -7.78861133e-01,\n",
       "       -1.00073831e+00,  1.06527449e+00,  8.03281572e-01, -4.91107014e-02,\n",
       "        9.79043368e-01,  3.16009503e-01, -3.55648328e-01, -6.08568864e-01,\n",
       "       -7.59934359e-02,  1.15274751e+00,  1.45340696e+00, -2.64291774e-01,\n",
       "        5.43532380e-01, -1.84633398e+00, -1.87672332e+00,  4.12810015e-01,\n",
       "       -1.54714089e+00, -8.42834408e-01,  1.11635427e-01, -2.20661601e-01,\n",
       "        8.37233064e-01, -9.75792276e-01,  3.95631377e-01, -8.93872845e-01,\n",
       "       -3.98105262e-01, -2.84769464e-01,  1.66675795e+00,  3.00905338e-01,\n",
       "       -6.04761279e-01, -3.05957058e-01, -8.00586667e-01, -6.67352889e-01,\n",
       "        4.01982551e-01, -8.40438500e-01,  9.34752225e-01,  5.97695904e-01,\n",
       "       -4.18580599e-01,  8.69188612e-01,  1.60147026e+00,  9.49223375e-01,\n",
       "       -1.23271517e+00, -1.44564104e+00,  3.13118067e+00,  3.21110750e-01,\n",
       "       -6.08580616e-01,  1.57869322e+00,  1.95406615e+00, -3.29862788e-01,\n",
       "       -5.51485264e-01,  1.38675591e-01,  5.55130247e-01, -2.59397678e-01,\n",
       "       -1.40505635e+00,  1.96001436e-01,  7.33429914e-01,  3.04688343e-01,\n",
       "       -1.81005448e+00, -1.47196935e+00, -6.58631993e-02,  1.97498191e-01,\n",
       "       -2.64474422e-01,  4.71855365e-01, -1.63246391e-01,  5.84926953e-01,\n",
       "       -1.59722200e-01, -5.72504503e-01,  8.91393584e-01,  4.23017183e-01,\n",
       "        9.76782344e-01,  2.15445450e+00,  3.44089085e+00, -5.63885632e-01,\n",
       "        1.42767209e+00, -5.73004469e-01, -5.28406933e-02, -2.06269522e-01,\n",
       "       -1.73997193e+00,  3.68273743e-01, -1.56902815e+00, -1.85492815e-01,\n",
       "       -1.17091818e+00,  1.21644213e+00, -1.91651362e-01,  6.82091714e-01,\n",
       "        5.94509341e-02, -8.48912969e-01, -9.63441909e-01,  4.91956466e-01,\n",
       "       -1.17424837e+00, -3.06018710e-01, -3.04393553e-01, -5.78244979e-02,\n",
       "        9.35028887e-01,  2.07539205e-01, -6.54367561e-01,  1.17052277e+00,\n",
       "        6.48089543e-01, -4.43843269e-01,  1.69774441e+00,  1.19765768e+00,\n",
       "       -2.55397310e-01, -1.00746866e+00,  3.51998041e-01,  4.21536981e-01,\n",
       "       -3.25448306e-01,  1.42031940e-01, -1.86026096e-02,  7.94567383e-01,\n",
       "       -1.64570599e-01, -9.53319149e-01, -4.82338174e-01,  2.80279491e-01,\n",
       "       -1.71063589e+00, -1.25481580e+00,  1.16410647e+00, -4.93362819e-02,\n",
       "        7.77454887e-01,  9.85005687e-01,  7.66198461e-02, -6.78620913e-02,\n",
       "        7.69678432e-02,  1.89246488e-01, -1.12843654e+00, -1.36463146e+00,\n",
       "       -3.85789264e-02,  9.89837325e-01, -6.79890684e-01,  1.66316669e-01,\n",
       "       -1.18679322e-01, -1.29849290e-01, -1.68558772e+00,  9.53459528e-01,\n",
       "        5.82128512e-01, -7.76112839e-01,  7.89251438e-01, -1.22503895e+00,\n",
       "       -2.00249052e+00,  3.49580710e-01, -2.38620053e-02, -4.65798274e-01,\n",
       "       -1.05366097e+00,  1.10427119e+00,  6.70746522e-01, -2.05146011e+00,\n",
       "       -5.39637156e-01,  1.18634095e-01, -9.74011457e-01,  1.43709796e+00,\n",
       "       -6.04356502e-01, -8.63849544e-01, -8.03806737e-01,  5.16942385e-01,\n",
       "        2.20280038e+00, -1.22005085e+00, -8.25031966e-01, -6.10856527e-01,\n",
       "       -3.17119633e-01, -6.40320482e-01, -2.59354287e+00,  1.41450161e+00,\n",
       "       -5.84787828e-02, -3.58637432e-01,  2.11834539e+00, -2.80409296e-02,\n",
       "        5.61925130e-01,  1.55972714e+00, -4.15269501e-01,  9.51490900e-01,\n",
       "        2.66280486e-01, -7.21353316e-01,  2.29018988e+00,  1.86979211e+00,\n",
       "        1.23227986e-01, -1.30087888e+00, -2.63474319e-01, -3.75130213e-01,\n",
       "       -1.39408959e+00,  3.65735377e-01,  4.23307761e-01, -2.91802220e-01,\n",
       "        2.61082146e-01, -8.15830544e-01, -2.79983425e-01,  5.11698131e-02,\n",
       "       -3.86178135e-01, -1.39294150e+00, -5.54625916e-01, -3.22403627e-01,\n",
       "        4.07227916e-01, -7.32514736e-01,  3.97983536e-01,  1.29605813e+00,\n",
       "        3.41873294e-01, -5.74975237e-01, -2.82364933e-01, -2.34575766e-01,\n",
       "       -1.72629699e-01,  6.77179023e-01, -1.82397767e+00, -6.05577963e-01,\n",
       "       -9.62578668e-01, -4.38577169e-01, -1.11787736e+00,  4.35324502e-01,\n",
       "       -1.48399302e-01, -5.75687734e-01, -2.00033657e-02, -7.73023162e-01,\n",
       "       -2.92790430e-01,  4.00097098e-01,  7.96591348e-01, -3.32829422e-01,\n",
       "       -5.12599767e-01, -1.29783753e+00, -1.95567344e-01, -1.30108808e+00,\n",
       "        5.24128007e-01,  8.76639745e-01, -1.03575578e+00,  1.63708056e-01])"
      ]
     },
     "execution_count": 74,
     "metadata": {},
     "output_type": "execute_result"
    }
   ],
   "source": [
    "#  z-test\n",
    "from numpy.random import randn\n",
    "population = randn(1000)\n",
    "population"
   ]
  },
  {
   "cell_type": "code",
   "execution_count": 75,
   "metadata": {},
   "outputs": [
    {
     "data": {
      "text/plain": [
       "<Axes: ylabel='Density'>"
      ]
     },
     "execution_count": 75,
     "metadata": {},
     "output_type": "execute_result"
    },
    {
     "data": {
      "image/png": "[encoded data removed]",
      "text/plain": [
       "<Figure size 640x480 with 1 Axes>"
      ]
     },
     "metadata": {},
     "output_type": "display_data"
    }
   ],
   "source": [
    "sns.distplot(population, kde = True)"
   ]
  },
  {
   "cell_type": "code",
   "execution_count": 76,
   "metadata": {},
   "outputs": [
    {
     "data": {
      "text/plain": [
       "(-0.05593916328594268,\n",
       " 0.9737405377219447,\n",
       " -0.08348426409198831,\n",
       " -1.627664541722198)"
      ]
     },
     "execution_count": 76,
     "metadata": {},
     "output_type": "execute_result"
    }
   ],
   "source": [
    "np.mean(population),np.std(population), np.median(population), statistics.mode(population)"
   ]
  },
  {
   "cell_type": "code",
   "execution_count": 77,
   "metadata": {},
   "outputs": [],
   "source": [
    "# claim : h0 that mean = 0.05\n",
    "null_mean = 0.05\n",
    "# if p_value<= 0.05, reject H0 otherwise fail to reject H0\n",
    "\n",
    "from statsmodels.stats.weightstats import ztest\n",
    "zscore, pvalue = ztest(population, value= null_mean, alternative='larger')\n",
    "# alternative - means opp of H0 i.e means is larger"
   ]
  },
  {
   "cell_type": "code",
   "execution_count": 78,
   "metadata": {},
   "outputs": [
    {
     "data": {
      "text/plain": [
       "(-3.4387138051954205, 0.9997077576054443)"
      ]
     },
     "execution_count": 78,
     "metadata": {},
     "output_type": "execute_result"
    }
   ],
   "source": [
    "zscore, pvalue"
   ]
  },
  {
   "cell_type": "code",
   "execution_count": 91,
   "metadata": {},
   "outputs": [
    {
     "name": "stdout",
     "output_type": "stream",
     "text": [
      "reject null hypothesis\n"
     ]
    }
   ],
   "source": [
    "if pvalue>=0.05:\n",
    "    print('reject null hypothesis')\n",
    "else:\n",
    "    print('fail to reject null hypothesis')"
   ]
  },
  {
   "cell_type": "markdown",
   "metadata": {},
   "source": [
    "### school calculated IQ scores of 50 students, the avg IQ is 100. mean of population IQ is 90. std deviation = 16. State whether the claim by school that IQ increases is student study more than avg of school with 5% of significance level.\n",
    "* H0 : mean_IQ = 90\n",
    "* Ḥ1 : mean_IQ > 90"
   ]
  },
  {
   "cell_type": "code",
   "execution_count": 92,
   "metadata": {},
   "outputs": [
    {
     "data": {
      "text/plain": [
       "4.419417382415922"
      ]
     },
     "execution_count": 92,
     "metadata": {},
     "output_type": "execute_result"
    }
   ],
   "source": [
    "#  zcritical approach\n",
    "\n",
    "import scipy.stats as stats\n",
    "\n",
    "sample_mean = 100\n",
    "population_mean = 90\n",
    "population_std = 16\n",
    "sample_size = 50 \n",
    "alph = 0.05\n",
    "\n",
    "zscore = (sample_mean-population_mean)/(population_std/np.sqrt(sample_size))\n",
    "zscore"
   ]
  },
  {
   "cell_type": "code",
   "execution_count": 97,
   "metadata": {},
   "outputs": [
    {
     "data": {
      "text/plain": [
       "1.6448536269514722"
      ]
     },
     "execution_count": 97,
     "metadata": {},
     "output_type": "execute_result"
    }
   ],
   "source": [
    "# using stats\n",
    "# percent point concern - ppf (inverse of cdf cumulative distribution function)\n",
    "# it will give you area\n",
    "zcritical = stats.norm.ppf(1-alph)\n",
    "zcritical"
   ]
  },
  {
   "cell_type": "code",
   "execution_count": 96,
   "metadata": {},
   "outputs": [
    {
     "name": "stdout",
     "output_type": "stream",
     "text": [
      "reject H0\n"
     ]
    }
   ],
   "source": [
    "if zscore>=zcritical:\n",
    "    print('reject H0')\n",
    "else :\n",
    "    print('fail to reject H0')"
   ]
  },
  {
   "cell_type": "code",
   "execution_count": 83,
   "metadata": {},
   "outputs": [
    {
     "data": {
      "text/plain": [
       "4.948367312573865e-06"
      ]
     },
     "execution_count": 83,
     "metadata": {},
     "output_type": "execute_result"
    }
   ],
   "source": [
    "# p value approach using scipy\n",
    "pvalue = 1- stats.norm.cdf(zscore)\n",
    "pvalue"
   ]
  },
  {
   "cell_type": "code",
   "execution_count": 84,
   "metadata": {},
   "outputs": [
    {
     "name": "stdout",
     "output_type": "stream",
     "text": [
      "reject H0\n"
     ]
    }
   ],
   "source": [
    "if alph>=pvalue:\n",
    "    print('reject H0')\n",
    "else :\n",
    "    print('fail to reject H0')"
   ]
  },
  {
   "cell_type": "markdown",
   "metadata": {},
   "source": [
    "### T-Test\n",
    "* sample size<30\n",
    "* OR\n",
    "* population std is not given\n",
    "\n",
    "* one smaple t test (wrt one independent sample)\n",
    "* two smaple t test (wrt two independent sample)\n",
    "* paired smaple t test (two samples from same population from different time interval)\n"
   ]
  },
  {
   "cell_type": "code",
   "execution_count": 85,
   "metadata": {},
   "outputs": [
    {
     "data": {
      "text/plain": [
       "array([31, 39, 30, 32, 14, 15, 47, 16, 20, 32, 37, 21, 48, 13, 34, 44, 44,\n",
       "       30, 42, 12, 33, 32, 10, 34, 49, 23, 20, 25, 22, 15, 43, 15, 33, 10,\n",
       "       36, 28, 42, 15, 25, 10, 10, 21, 34, 11, 22, 21, 15, 35, 18, 44])"
      ]
     },
     "execution_count": 85,
     "metadata": {},
     "output_type": "execute_result"
    }
   ],
   "source": [
    "#  one sample T-test\n",
    "\n",
    "population = np.random.randint(10,50,50)\n",
    "population"
   ]
  },
  {
   "cell_type": "code",
   "execution_count": 86,
   "metadata": {},
   "outputs": [
    {
     "data": {
      "text/plain": [
       "array([16, 28, 15, 15, 47, 25, 32, 37, 14, 21, 15, 10, 28, 33, 44, 34, 31,\n",
       "       25, 37, 43])"
      ]
     },
     "execution_count": 86,
     "metadata": {},
     "output_type": "execute_result"
    }
   ],
   "source": [
    "sample = np.random.choice(population, size = 20)\n",
    "sample"
   ]
  },
  {
   "cell_type": "code",
   "execution_count": 87,
   "metadata": {},
   "outputs": [
    {
     "data": {
      "text/plain": [
       "27.5"
      ]
     },
     "execution_count": 87,
     "metadata": {},
     "output_type": "execute_result"
    }
   ],
   "source": [
    "sample_mean = np.mean(sample)\n",
    "sample_mean"
   ]
  },
  {
   "cell_type": "code",
   "execution_count": 88,
   "metadata": {},
   "outputs": [
    {
     "data": {
      "text/plain": [
       "(1.0111304797998972, 0.32465818329964824)"
      ]
     },
     "execution_count": 88,
     "metadata": {},
     "output_type": "execute_result"
    }
   ],
   "source": [
    "# H0\n",
    "null_value = 25\n",
    "tvalue , pvalue = stats.ttest_1samp(sample, null_value)\n",
    "tvalue , pvalue"
   ]
  },
  {
   "cell_type": "code",
   "execution_count": 89,
   "metadata": {},
   "outputs": [
    {
     "name": "stdout",
     "output_type": "stream",
     "text": [
      "fail to reject H0\n"
     ]
    }
   ],
   "source": [
    "if 0.05>=pvalue:\n",
    "    print('reject H0')\n",
    "else :\n",
    "    print('fail to reject H0')"
   ]
  },
  {
   "cell_type": "code",
   "execution_count": 98,
   "metadata": {},
   "outputs": [
    {
     "data": {
      "text/plain": [
       "array([11, 25, 15, 22, 44, 15, 20, 22, 35, 20, 18, 44, 20, 10, 43, 42, 43,\n",
       "       21, 15, 10])"
      ]
     },
     "execution_count": 98,
     "metadata": {},
     "output_type": "execute_result"
    }
   ],
   "source": [
    "#  two sample t-test\n",
    "virat_kohli_score = np.random.choice(population, 20)\n",
    "virat_kohli_score"
   ]
  },
  {
   "cell_type": "code",
   "execution_count": 99,
   "metadata": {},
   "outputs": [],
   "source": [
    "rohit_sharma_score = [13, 25, 48, 28, 19, 12, 13, 18, 98, 40, 18, 23, 34, 33, 45, 58, 46, 27, 50, 49]"
   ]
  },
  {
   "cell_type": "code",
   "execution_count": 100,
   "metadata": {},
   "outputs": [
    {
     "data": {
      "text/plain": [
       "(24.75, 34.85)"
      ]
     },
     "execution_count": 100,
     "metadata": {},
     "output_type": "execute_result"
    }
   ],
   "source": [
    "np.mean(virat_kohli_score), np.mean(rohit_sharma_score)"
   ]
  },
  {
   "cell_type": "code",
   "execution_count": 101,
   "metadata": {},
   "outputs": [
    {
     "data": {
      "text/plain": [
       "Ttest_indResult(statistic=-1.8868315648596687, pvalue=0.06684055321623125)"
      ]
     },
     "execution_count": 101,
     "metadata": {},
     "output_type": "execute_result"
    }
   ],
   "source": [
    "stats.ttest_ind(virat_kohli_score, rohit_sharma_score)"
   ]
  },
  {
   "cell_type": "code",
   "execution_count": 102,
   "metadata": {},
   "outputs": [],
   "source": [
    "#if pvalue > 0.05, fail to reject the h0\n"
   ]
  },
  {
   "cell_type": "code",
   "execution_count": 103,
   "metadata": {},
   "outputs": [
    {
     "data": {
      "text/plain": [
       "TtestResult(statistic=-1.4256648712805027, pvalue=0.17018806846147658, df=19)"
      ]
     },
     "execution_count": 103,
     "metadata": {},
     "output_type": "execute_result"
    }
   ],
   "source": [
    "#paired t test >> two sample from same population at different time interval\n",
    "rohit_score_first_inning = [31, 36, 46, 24, 48, 46, 47, 47, 16, 35, 45, 37, 24, 29, 27, 42, 49, 37, 47, 46]\n",
    "rohit_score_second_inning = [31, 76, 46, 24, 48, 23, 49, 47, 37, 35, 45, 37, 74, 39, 27, 42, 49, 37, 47, 46]\n",
    "stats.ttest_rel(rohit_score_first_inning, rohit_score_second_inning)"
   ]
  },
  {
   "cell_type": "code",
   "execution_count": 104,
   "metadata": {},
   "outputs": [],
   "source": [
    "#chi square test>> through two ways"
   ]
  },
  {
   "cell_type": "code",
   "execution_count": 105,
   "metadata": {},
   "outputs": [
    {
     "data": {
      "text/html": [
       "<div>\n",
       "<style scoped>\n",
       "    .dataframe tbody tr th:only-of-type {\n",
       "        vertical-align: middle;\n",
       "    }\n",
       "\n",
       "    .dataframe tbody tr th {\n",
       "        vertical-align: top;\n",
       "    }\n",
       "\n",
       "    .dataframe thead th {\n",
       "        text-align: right;\n",
       "    }\n",
       "</style>\n",
       "<table border=\"1\" class=\"dataframe\">\n",
       "  <thead>\n",
       "    <tr style=\"text-align: right;\">\n",
       "      <th></th>\n",
       "      <th>sex</th>\n",
       "      <th>smoker</th>\n",
       "    </tr>\n",
       "  </thead>\n",
       "  <tbody>\n",
       "    <tr>\n",
       "      <th>0</th>\n",
       "      <td>Female</td>\n",
       "      <td>No</td>\n",
       "    </tr>\n",
       "    <tr>\n",
       "      <th>1</th>\n",
       "      <td>Male</td>\n",
       "      <td>No</td>\n",
       "    </tr>\n",
       "    <tr>\n",
       "      <th>2</th>\n",
       "      <td>Male</td>\n",
       "      <td>No</td>\n",
       "    </tr>\n",
       "    <tr>\n",
       "      <th>3</th>\n",
       "      <td>Male</td>\n",
       "      <td>No</td>\n",
       "    </tr>\n",
       "    <tr>\n",
       "      <th>4</th>\n",
       "      <td>Female</td>\n",
       "      <td>No</td>\n",
       "    </tr>\n",
       "    <tr>\n",
       "      <th>...</th>\n",
       "      <td>...</td>\n",
       "      <td>...</td>\n",
       "    </tr>\n",
       "    <tr>\n",
       "      <th>239</th>\n",
       "      <td>Male</td>\n",
       "      <td>No</td>\n",
       "    </tr>\n",
       "    <tr>\n",
       "      <th>240</th>\n",
       "      <td>Female</td>\n",
       "      <td>Yes</td>\n",
       "    </tr>\n",
       "    <tr>\n",
       "      <th>241</th>\n",
       "      <td>Male</td>\n",
       "      <td>Yes</td>\n",
       "    </tr>\n",
       "    <tr>\n",
       "      <th>242</th>\n",
       "      <td>Male</td>\n",
       "      <td>No</td>\n",
       "    </tr>\n",
       "    <tr>\n",
       "      <th>243</th>\n",
       "      <td>Female</td>\n",
       "      <td>No</td>\n",
       "    </tr>\n",
       "  </tbody>\n",
       "</table>\n",
       "<p>244 rows × 2 columns</p>\n",
       "</div>"
      ],
      "text/plain": [
       "        sex smoker\n",
       "0    Female     No\n",
       "1      Male     No\n",
       "2      Male     No\n",
       "3      Male     No\n",
       "4    Female     No\n",
       "..      ...    ...\n",
       "239    Male     No\n",
       "240  Female    Yes\n",
       "241    Male    Yes\n",
       "242    Male     No\n",
       "243  Female     No\n",
       "\n",
       "[244 rows x 2 columns]"
      ]
     },
     "execution_count": 105,
     "metadata": {},
     "output_type": "execute_result"
    }
   ],
   "source": [
    "df[['sex', 'smoker']]"
   ]
  },
  {
   "cell_type": "code",
   "execution_count": 106,
   "metadata": {},
   "outputs": [
    {
     "data": {
      "text/html": [
       "<div>\n",
       "<style scoped>\n",
       "    .dataframe tbody tr th:only-of-type {\n",
       "        vertical-align: middle;\n",
       "    }\n",
       "\n",
       "    .dataframe tbody tr th {\n",
       "        vertical-align: top;\n",
       "    }\n",
       "\n",
       "    .dataframe thead th {\n",
       "        text-align: right;\n",
       "    }\n",
       "</style>\n",
       "<table border=\"1\" class=\"dataframe\">\n",
       "  <thead>\n",
       "    <tr style=\"text-align: right;\">\n",
       "      <th>smoker</th>\n",
       "      <th>Yes</th>\n",
       "      <th>No</th>\n",
       "    </tr>\n",
       "    <tr>\n",
       "      <th>sex</th>\n",
       "      <th></th>\n",
       "      <th></th>\n",
       "    </tr>\n",
       "  </thead>\n",
       "  <tbody>\n",
       "    <tr>\n",
       "      <th>Male</th>\n",
       "      <td>60</td>\n",
       "      <td>97</td>\n",
       "    </tr>\n",
       "    <tr>\n",
       "      <th>Female</th>\n",
       "      <td>33</td>\n",
       "      <td>54</td>\n",
       "    </tr>\n",
       "  </tbody>\n",
       "</table>\n",
       "</div>"
      ],
      "text/plain": [
       "smoker  Yes  No\n",
       "sex            \n",
       "Male     60  97\n",
       "Female   33  54"
      ]
     },
     "execution_count": 106,
     "metadata": {},
     "output_type": "execute_result"
    }
   ],
   "source": [
    "data_table = pd.crosstab(df['sex'], df['smoker'])\n",
    "data_table"
   ]
  },
  {
   "cell_type": "code",
   "execution_count": 107,
   "metadata": {},
   "outputs": [],
   "source": [
    "#observed value and expected value\n",
    "observed_values = data_table.values"
   ]
  },
  {
   "cell_type": "code",
   "execution_count": 108,
   "metadata": {},
   "outputs": [
    {
     "data": {
      "text/plain": [
       "array([[60, 97],\n",
       "       [33, 54]], dtype=int64)"
      ]
     },
     "execution_count": 108,
     "metadata": {},
     "output_type": "execute_result"
    }
   ],
   "source": [
    "observed_values"
   ]
  },
  {
   "cell_type": "code",
   "execution_count": 109,
   "metadata": {},
   "outputs": [],
   "source": [
    "#1st approach>>allowing chi2 itself some expected values\n",
    "stats_test, p, dof, expected_values = stats.chi2_contingency(observed_values)"
   ]
  },
  {
   "cell_type": "code",
   "execution_count": 110,
   "metadata": {},
   "outputs": [
    {
     "data": {
      "text/plain": [
       "array([[59.84016393, 97.15983607],\n",
       "       [33.15983607, 53.84016393]])"
      ]
     },
     "execution_count": 110,
     "metadata": {},
     "output_type": "execute_result"
    }
   ],
   "source": [
    "expected_values"
   ]
  },
  {
   "cell_type": "code",
   "execution_count": 111,
   "metadata": {},
   "outputs": [
    {
     "name": "stdout",
     "output_type": "stream",
     "text": [
      "(array([60, 97], dtype=int64), array([59.84016393, 97.15983607]))\n",
      "(array([33, 54], dtype=int64), array([33.15983607, 53.84016393]))\n"
     ]
    }
   ],
   "source": [
    "for i in zip(observed_values, expected_values):\n",
    "    print(i)"
   ]
  },
  {
   "cell_type": "code",
   "execution_count": 112,
   "metadata": {},
   "outputs": [],
   "source": [
    "chisquare_test = sum([(o-e)**2 / e for o, e in zip(observed_values, expected_values)])"
   ]
  },
  {
   "cell_type": "code",
   "execution_count": 113,
   "metadata": {},
   "outputs": [
    {
     "data": {
      "text/plain": [
       "array([0.00119737, 0.00073745])"
      ]
     },
     "execution_count": 113,
     "metadata": {},
     "output_type": "execute_result"
    }
   ],
   "source": [
    "chisquare_test"
   ]
  },
  {
   "cell_type": "code",
   "execution_count": 114,
   "metadata": {},
   "outputs": [
    {
     "data": {
      "text/plain": [
       "0.001934818536627623"
      ]
     },
     "execution_count": 114,
     "metadata": {},
     "output_type": "execute_result"
    }
   ],
   "source": [
    "chisquare_stats = chisquare_test[0]+chisquare_test[1]\n",
    "chisquare_stats"
   ]
  },
  {
   "cell_type": "code",
   "execution_count": 117,
   "metadata": {},
   "outputs": [
    {
     "data": {
      "text/plain": [
       "3.841458820694124"
      ]
     },
     "execution_count": 117,
     "metadata": {},
     "output_type": "execute_result"
    }
   ],
   "source": [
    "alpha = 0.05\n",
    "chi2_critical = stats.chi2.ppf(1-alpha, df = dof)\n",
    "chi2_critical"
   ]
  },
  {
   "cell_type": "code",
   "execution_count": 118,
   "metadata": {},
   "outputs": [
    {
     "name": "stdout",
     "output_type": "stream",
     "text": [
      "fail to reject null hypothesis, no relationship\n"
     ]
    }
   ],
   "source": [
    "if chisquare_stats > chi2_critical:\n",
    "    print(\"Reject the null hypothesis, there is a relationship between two cat var\")\n",
    "else:\n",
    "    print(\"fail to reject null hypothesis, no relationship\")"
   ]
  },
  {
   "cell_type": "code",
   "execution_count": 119,
   "metadata": {},
   "outputs": [],
   "source": [
    "#pvalue method\n",
    "\n",
    "pvalue = 1-stats.chi2.cdf(x = chisquare_stats, df =dof)"
   ]
  },
  {
   "cell_type": "code",
   "execution_count": 120,
   "metadata": {},
   "outputs": [
    {
     "name": "stdout",
     "output_type": "stream",
     "text": [
      "fail to reject null hypothesis, no relationship\n"
     ]
    }
   ],
   "source": [
    "if pvalue <= alpha:\n",
    "    print(\"Reject the null hypothesis, there is a relationship between two cat var\")\n",
    "else:\n",
    "    print(\"fail to reject null hypothesis, no relationship\")"
   ]
  },
  {
   "cell_type": "code",
   "execution_count": 121,
   "metadata": {},
   "outputs": [
    {
     "data": {
      "text/plain": [
       "12.591587243743977"
      ]
     },
     "execution_count": 121,
     "metadata": {},
     "output_type": "execute_result"
    }
   ],
   "source": [
    "#another approach\n",
    "#no of hours studies daily on a weekly basis\n",
    "#monday, tuesday.....sunday\n",
    "\n",
    "expected_data = [8, 5, 6, 8, 5, 7, 6]\n",
    "observed_data = [7, 4, 7, 9, 4, 8, 6]\n",
    "ch_stats, pvalue = stats.chisquare(observed_data, expected_data)\n",
    "alpha = 0.05\n",
    "dof = len(observed_data)-1\n",
    "critical_value = stats.chi2.ppf(1-alpha, dof)\n",
    "critical_value"
   ]
  },
  {
   "cell_type": "code",
   "execution_count": 122,
   "metadata": {},
   "outputs": [],
   "source": [
    "if ch_stats > critical_value:\n",
    "    print(\"Reject the null hypothesis\")"
   ]
  },
  {
   "cell_type": "code",
   "execution_count": 123,
   "metadata": {},
   "outputs": [
    {
     "data": {
      "text/plain": [
       "0.743155149934811"
      ]
     },
     "execution_count": 123,
     "metadata": {},
     "output_type": "execute_result"
    }
   ],
   "source": [
    "#Ftest\n",
    "worker1 = [18, 17, 20, 25, 27, 55, 51, 42, 46, 29]\n",
    "worker2 = [18, 16, 22, 26, 39, 51, 48, 44, 58, 12]\n",
    "\n",
    "fstats = np.var(worker1)/np.var(worker2)\n",
    "fstats"
   ]
  },
  {
   "cell_type": "code",
   "execution_count": 124,
   "metadata": {},
   "outputs": [
    {
     "name": "stdout",
     "output_type": "stream",
     "text": [
      "fail to reject the null hypothesis\n"
     ]
    }
   ],
   "source": [
    "df1 = len(worker1)-1\n",
    "df2 = len(worker2)-1\n",
    "\n",
    "alpha = 0.05\n",
    "\n",
    "import scipy.stats \n",
    "critical_value = stats.f.ppf(1-alpha, dfn = df1, dfd = df2)\n",
    "if fstats>critical_value:\n",
    "    print(\"Reject the null hyposthesis\")\n",
    "else:\n",
    "    print(\"fail to reject the null hypothesis\")"
   ]
  },
  {
   "cell_type": "code",
   "execution_count": 125,
   "metadata": {},
   "outputs": [],
   "source": [
    "#ANOVA test\n",
    "#to compare two or more than two means"
   ]
  },
  {
   "cell_type": "code",
   "execution_count": 129,
   "metadata": {},
   "outputs": [],
   "source": [
    "# import pandas as pd\n",
    "# from scipy.stats import stats\n",
    "df = pd.read_csv(\"plant.csv\")\n",
    "print(df)\n",
    "df.drop(\"Unnamed: 0\", axis = 1, inplace = True)\n",
    "groups = df.group.unique()\n",
    "data = {grp: df['weight'][df.group == grp] for grp in groups}\n",
    "data"
   ]
  },
  {
   "cell_type": "code",
   "execution_count": null,
   "metadata": {},
   "outputs": [],
   "source": [
    "fstats, pvalue = stats.f_oneway(data['ctrl'], data['trt1'], data['trt2'])\n",
    "if pvalue <= 0.05:\n",
    "    print(\"reject the null hypothesis\")\n",
    "else:\n",
    "    print(\"fail to reject\")"
   ]
  }
 ],
 "metadata": {
  "kernelspec": {
   "display_name": "base",
   "language": "python",
   "name": "python3"
  },
  "language_info": {
   "codemirror_mode": {
    "name": "ipython",
    "version": 3
   },
   "file_extension": ".py",
   "mimetype": "text/x-python",
   "name": "python",
   "nbconvert_exporter": "python",
   "pygments_lexer": "ipython3",
   "version": "3.11.4"
  }
 },
 "nbformat": 4,
 "nbformat_minor": 2
}
