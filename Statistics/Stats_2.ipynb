{
 "cells": [
  {
   "cell_type": "code",
   "execution_count": 2,
   "metadata": {},
   "outputs": [],
   "source": [
    "import numpy as np\n",
    "import pandas as pd\n",
    "import matplotlib.pyplot as plt\n",
    "import seaborn as sns\n",
    "import plotly.express as px\n",
    " \n",
    "import warnings\n",
    "warnings.filterwarnings('ignore')\n",
    "\n",
    "plt.style.use('fivethirtyeight')\n",
    "%matplotlib inline"
   ]
  },
  {
   "cell_type": "code",
   "execution_count": 3,
   "metadata": {},
   "outputs": [
    {
     "data": {
      "text/plain": [
       "3.5"
      ]
     },
     "execution_count": 3,
     "metadata": {},
     "output_type": "execute_result"
    }
   ],
   "source": [
    "data = [1,2,3,4,5,6]\n",
    "np.mean(data)"
   ]
  },
  {
   "cell_type": "code",
   "execution_count": 4,
   "metadata": {},
   "outputs": [],
   "source": [
    "df = sns.load_dataset('tips')"
   ]
  },
  {
   "cell_type": "code",
   "execution_count": 5,
   "metadata": {},
   "outputs": [
    {
     "data": {
      "text/html": [
       "<div>\n",
       "<style scoped>\n",
       "    .dataframe tbody tr th:only-of-type {\n",
       "        vertical-align: middle;\n",
       "    }\n",
       "\n",
       "    .dataframe tbody tr th {\n",
       "        vertical-align: top;\n",
       "    }\n",
       "\n",
       "    .dataframe thead th {\n",
       "        text-align: right;\n",
       "    }\n",
       "</style>\n",
       "<table border=\"1\" class=\"dataframe\">\n",
       "  <thead>\n",
       "    <tr style=\"text-align: right;\">\n",
       "      <th></th>\n",
       "      <th>total_bill</th>\n",
       "      <th>tip</th>\n",
       "      <th>sex</th>\n",
       "      <th>smoker</th>\n",
       "      <th>day</th>\n",
       "      <th>time</th>\n",
       "      <th>size</th>\n",
       "    </tr>\n",
       "  </thead>\n",
       "  <tbody>\n",
       "    <tr>\n",
       "      <th>0</th>\n",
       "      <td>16.99</td>\n",
       "      <td>1.01</td>\n",
       "      <td>Female</td>\n",
       "      <td>No</td>\n",
       "      <td>Sun</td>\n",
       "      <td>Dinner</td>\n",
       "      <td>2</td>\n",
       "    </tr>\n",
       "    <tr>\n",
       "      <th>1</th>\n",
       "      <td>10.34</td>\n",
       "      <td>1.66</td>\n",
       "      <td>Male</td>\n",
       "      <td>No</td>\n",
       "      <td>Sun</td>\n",
       "      <td>Dinner</td>\n",
       "      <td>3</td>\n",
       "    </tr>\n",
       "    <tr>\n",
       "      <th>2</th>\n",
       "      <td>21.01</td>\n",
       "      <td>3.50</td>\n",
       "      <td>Male</td>\n",
       "      <td>No</td>\n",
       "      <td>Sun</td>\n",
       "      <td>Dinner</td>\n",
       "      <td>3</td>\n",
       "    </tr>\n",
       "    <tr>\n",
       "      <th>3</th>\n",
       "      <td>23.68</td>\n",
       "      <td>3.31</td>\n",
       "      <td>Male</td>\n",
       "      <td>No</td>\n",
       "      <td>Sun</td>\n",
       "      <td>Dinner</td>\n",
       "      <td>2</td>\n",
       "    </tr>\n",
       "    <tr>\n",
       "      <th>4</th>\n",
       "      <td>24.59</td>\n",
       "      <td>3.61</td>\n",
       "      <td>Female</td>\n",
       "      <td>No</td>\n",
       "      <td>Sun</td>\n",
       "      <td>Dinner</td>\n",
       "      <td>4</td>\n",
       "    </tr>\n",
       "  </tbody>\n",
       "</table>\n",
       "</div>"
      ],
      "text/plain": [
       "   total_bill   tip     sex smoker  day    time  size\n",
       "0       16.99  1.01  Female     No  Sun  Dinner     2\n",
       "1       10.34  1.66    Male     No  Sun  Dinner     3\n",
       "2       21.01  3.50    Male     No  Sun  Dinner     3\n",
       "3       23.68  3.31    Male     No  Sun  Dinner     2\n",
       "4       24.59  3.61  Female     No  Sun  Dinner     4"
      ]
     },
     "execution_count": 5,
     "metadata": {},
     "output_type": "execute_result"
    }
   ],
   "source": [
    "df.head()"
   ]
  },
  {
   "cell_type": "code",
   "execution_count": 6,
   "metadata": {},
   "outputs": [
    {
     "data": {
      "text/html": [
       "<div>\n",
       "<style scoped>\n",
       "    .dataframe tbody tr th:only-of-type {\n",
       "        vertical-align: middle;\n",
       "    }\n",
       "\n",
       "    .dataframe tbody tr th {\n",
       "        vertical-align: top;\n",
       "    }\n",
       "\n",
       "    .dataframe thead th {\n",
       "        text-align: right;\n",
       "    }\n",
       "</style>\n",
       "<table border=\"1\" class=\"dataframe\">\n",
       "  <thead>\n",
       "    <tr style=\"text-align: right;\">\n",
       "      <th></th>\n",
       "      <th>total_bill</th>\n",
       "      <th>tip</th>\n",
       "      <th>size</th>\n",
       "    </tr>\n",
       "  </thead>\n",
       "  <tbody>\n",
       "    <tr>\n",
       "      <th>count</th>\n",
       "      <td>244.000000</td>\n",
       "      <td>244.000000</td>\n",
       "      <td>244.000000</td>\n",
       "    </tr>\n",
       "    <tr>\n",
       "      <th>mean</th>\n",
       "      <td>19.785943</td>\n",
       "      <td>2.998279</td>\n",
       "      <td>2.569672</td>\n",
       "    </tr>\n",
       "    <tr>\n",
       "      <th>std</th>\n",
       "      <td>8.902412</td>\n",
       "      <td>1.383638</td>\n",
       "      <td>0.951100</td>\n",
       "    </tr>\n",
       "    <tr>\n",
       "      <th>min</th>\n",
       "      <td>3.070000</td>\n",
       "      <td>1.000000</td>\n",
       "      <td>1.000000</td>\n",
       "    </tr>\n",
       "    <tr>\n",
       "      <th>25%</th>\n",
       "      <td>13.347500</td>\n",
       "      <td>2.000000</td>\n",
       "      <td>2.000000</td>\n",
       "    </tr>\n",
       "    <tr>\n",
       "      <th>50%</th>\n",
       "      <td>17.795000</td>\n",
       "      <td>2.900000</td>\n",
       "      <td>2.000000</td>\n",
       "    </tr>\n",
       "    <tr>\n",
       "      <th>75%</th>\n",
       "      <td>24.127500</td>\n",
       "      <td>3.562500</td>\n",
       "      <td>3.000000</td>\n",
       "    </tr>\n",
       "    <tr>\n",
       "      <th>max</th>\n",
       "      <td>50.810000</td>\n",
       "      <td>10.000000</td>\n",
       "      <td>6.000000</td>\n",
       "    </tr>\n",
       "  </tbody>\n",
       "</table>\n",
       "</div>"
      ],
      "text/plain": [
       "       total_bill         tip        size\n",
       "count  244.000000  244.000000  244.000000\n",
       "mean    19.785943    2.998279    2.569672\n",
       "std      8.902412    1.383638    0.951100\n",
       "min      3.070000    1.000000    1.000000\n",
       "25%     13.347500    2.000000    2.000000\n",
       "50%     17.795000    2.900000    2.000000\n",
       "75%     24.127500    3.562500    3.000000\n",
       "max     50.810000   10.000000    6.000000"
      ]
     },
     "execution_count": 6,
     "metadata": {},
     "output_type": "execute_result"
    }
   ],
   "source": [
    "df.describe()"
   ]
  },
  {
   "cell_type": "code",
   "execution_count": 7,
   "metadata": {},
   "outputs": [
    {
     "data": {
      "text/plain": [
       "3.5"
      ]
     },
     "execution_count": 7,
     "metadata": {},
     "output_type": "execute_result"
    }
   ],
   "source": [
    "np.median(data)"
   ]
  },
  {
   "cell_type": "code",
   "execution_count": 8,
   "metadata": {},
   "outputs": [
    {
     "data": {
      "text/plain": [
       "19.166666666666668"
      ]
     },
     "execution_count": 8,
     "metadata": {},
     "output_type": "execute_result"
    }
   ],
   "source": [
    "data = [1,2,3,4,5,100]\n",
    "np.mean(data)"
   ]
  },
  {
   "cell_type": "code",
   "execution_count": 9,
   "metadata": {},
   "outputs": [
    {
     "data": {
      "text/plain": [
       "3.5"
      ]
     },
     "execution_count": 9,
     "metadata": {},
     "output_type": "execute_result"
    }
   ],
   "source": [
    "np.median(data)"
   ]
  },
  {
   "cell_type": "markdown",
   "metadata": {},
   "source": [
    "* mean is affected by outlier but median doesn't"
   ]
  },
  {
   "cell_type": "code",
   "execution_count": 10,
   "metadata": {},
   "outputs": [],
   "source": [
    "data = [1,2,3,4,4,4,5,6]"
   ]
  },
  {
   "cell_type": "code",
   "execution_count": 11,
   "metadata": {},
   "outputs": [],
   "source": [
    "# mode \n",
    "dic = {i: data.count(i) for i in data }"
   ]
  },
  {
   "cell_type": "code",
   "execution_count": 13,
   "metadata": {},
   "outputs": [
    {
     "ename": "TypeError",
     "evalue": "'builtin_function_or_method' object is not iterable",
     "output_type": "error",
     "traceback": [
      "\u001b[1;31m---------------------------------------------------------------------------\u001b[0m",
      "\u001b[1;31mTypeError\u001b[0m                                 Traceback (most recent call last)",
      "Cell \u001b[1;32mIn[13], line 1\u001b[0m\n\u001b[1;32m----> 1\u001b[0m \u001b[38;5;28mmax\u001b[39m(dic\u001b[38;5;241m.\u001b[39mkeys, key\u001b[38;5;241m=\u001b[39mdic\u001b[38;5;241m.\u001b[39mvalues)\n",
      "\u001b[1;31mTypeError\u001b[0m: 'builtin_function_or_method' object is not iterable"
     ]
    }
   ],
   "source": [
    "max(dic.keys, key=dic.values)"
   ]
  },
  {
   "cell_type": "code",
   "execution_count": 16,
   "metadata": {},
   "outputs": [
    {
     "data": {
      "text/plain": [
       "4"
      ]
     },
     "execution_count": 16,
     "metadata": {},
     "output_type": "execute_result"
    }
   ],
   "source": [
    "import statistics\n",
    "statistics.mode(data)"
   ]
  },
  {
   "cell_type": "code",
   "execution_count": 14,
   "metadata": {},
   "outputs": [
    {
     "data": {
      "text/plain": [
       "array([2.75])"
      ]
     },
     "execution_count": 14,
     "metadata": {},
     "output_type": "execute_result"
    }
   ],
   "source": [
    "np.percentile(data, [25])"
   ]
  },
  {
   "cell_type": "markdown",
   "metadata": {},
   "source": [
    "* 25% data lies below 2.75"
   ]
  },
  {
   "cell_type": "code",
   "execution_count": 17,
   "metadata": {},
   "outputs": [
    {
     "data": {
      "text/plain": [
       "array([2.75, 4.  , 4.25, 4.6 , 5.3 ])"
      ]
     },
     "execution_count": 17,
     "metadata": {},
     "output_type": "execute_result"
    }
   ],
   "source": [
    "np.percentile(data, [25,50,75,80,90])"
   ]
  },
  {
   "cell_type": "code",
   "execution_count": 22,
   "metadata": {},
   "outputs": [
    {
     "data": {
      "text/plain": [
       "[1, 2, 3, 4, 5, 6, 500, -500]"
      ]
     },
     "execution_count": 22,
     "metadata": {},
     "output_type": "execute_result"
    }
   ],
   "source": [
    "data=[1,2,3,4,5,6,500,-500]\n",
    "data"
   ]
  },
  {
   "cell_type": "code",
   "execution_count": 23,
   "metadata": {},
   "outputs": [
    {
     "data": {
      "text/plain": [
       "<Axes: >"
      ]
     },
     "execution_count": 23,
     "metadata": {},
     "output_type": "execute_result"
    },
    {
     "data": {
      "image/png": "[encoded data removed]",
      "text/plain": [
       "<Figure size 640x480 with 1 Axes>"
      ]
     },
     "metadata": {},
     "output_type": "display_data"
    }
   ],
   "source": [
    "sns.boxplot(data)"
   ]
  },
  {
   "cell_type": "code",
   "execution_count": 25,
   "metadata": {},
   "outputs": [
    {
     "data": {
      "text/plain": [
       "185.60999999999996"
      ]
     },
     "execution_count": 25,
     "metadata": {},
     "output_type": "execute_result"
    }
   ],
   "source": [
    "# centre of dispersion\n",
    "data = [1,3,6,8,9,45,32,12,2,9]\n",
    "np.var(data)"
   ]
  },
  {
   "cell_type": "code",
   "execution_count": 26,
   "metadata": {},
   "outputs": [
    {
     "data": {
      "text/plain": [
       "13.623876100434853"
      ]
     },
     "execution_count": 26,
     "metadata": {},
     "output_type": "execute_result"
    }
   ],
   "source": [
    "np.std(data)"
   ]
  },
  {
   "cell_type": "code",
   "execution_count": 27,
   "metadata": {},
   "outputs": [
    {
     "data": {
      "text/plain": [
       "206.23333333333332"
      ]
     },
     "execution_count": 27,
     "metadata": {},
     "output_type": "execute_result"
    }
   ],
   "source": [
    "statistics.variance(data)  # by default it calculate sample variance -> n-1"
   ]
  },
  {
   "cell_type": "code",
   "execution_count": 28,
   "metadata": {},
   "outputs": [
    {
     "data": {
      "text/plain": [
       "185.61"
      ]
     },
     "execution_count": 28,
     "metadata": {},
     "output_type": "execute_result"
    }
   ],
   "source": [
    "statistics.pvariance(data) # population variance"
   ]
  },
  {
   "cell_type": "code",
   "execution_count": 29,
   "metadata": {},
   "outputs": [
    {
     "data": {
      "text/plain": [
       "13.623876100434854"
      ]
     },
     "execution_count": 29,
     "metadata": {},
     "output_type": "execute_result"
    }
   ],
   "source": [
    "# std deviation\n",
    "import math\n",
    "math.sqrt(statistics.pvariance(data))"
   ]
  },
  {
   "cell_type": "code",
   "execution_count": 30,
   "metadata": {},
   "outputs": [
    {
     "data": {
      "text/plain": [
       "14.360826345769011"
      ]
     },
     "execution_count": 30,
     "metadata": {},
     "output_type": "execute_result"
    }
   ],
   "source": [
    "math.sqrt(statistics.variance(data))"
   ]
  },
  {
   "cell_type": "code",
   "execution_count": 32,
   "metadata": {},
   "outputs": [
    {
     "data": {
      "text/html": [
       "<div>\n",
       "<style scoped>\n",
       "    .dataframe tbody tr th:only-of-type {\n",
       "        vertical-align: middle;\n",
       "    }\n",
       "\n",
       "    .dataframe tbody tr th {\n",
       "        vertical-align: top;\n",
       "    }\n",
       "\n",
       "    .dataframe thead th {\n",
       "        text-align: right;\n",
       "    }\n",
       "</style>\n",
       "<table border=\"1\" class=\"dataframe\">\n",
       "  <thead>\n",
       "    <tr style=\"text-align: right;\">\n",
       "      <th></th>\n",
       "      <th>total_bill</th>\n",
       "      <th>tip</th>\n",
       "      <th>size</th>\n",
       "    </tr>\n",
       "  </thead>\n",
       "  <tbody>\n",
       "    <tr>\n",
       "      <th>total_bill</th>\n",
       "      <td>1.000000</td>\n",
       "      <td>0.675734</td>\n",
       "      <td>0.598315</td>\n",
       "    </tr>\n",
       "    <tr>\n",
       "      <th>tip</th>\n",
       "      <td>0.675734</td>\n",
       "      <td>1.000000</td>\n",
       "      <td>0.489299</td>\n",
       "    </tr>\n",
       "    <tr>\n",
       "      <th>size</th>\n",
       "      <td>0.598315</td>\n",
       "      <td>0.489299</td>\n",
       "      <td>1.000000</td>\n",
       "    </tr>\n",
       "  </tbody>\n",
       "</table>\n",
       "</div>"
      ],
      "text/plain": [
       "            total_bill       tip      size\n",
       "total_bill    1.000000  0.675734  0.598315\n",
       "tip           0.675734  1.000000  0.489299\n",
       "size          0.598315  0.489299  1.000000"
      ]
     },
     "execution_count": 32,
     "metadata": {},
     "output_type": "execute_result"
    }
   ],
   "source": [
    "# relationship b/w 2 features\n",
    "# correlation & covariance\n",
    "df[['total_bill','tip','size']].corr()"
   ]
  },
  {
   "cell_type": "code",
   "execution_count": 37,
   "metadata": {},
   "outputs": [
    {
     "data": {
      "text/html": [
       "<div>\n",
       "<style scoped>\n",
       "    .dataframe tbody tr th:only-of-type {\n",
       "        vertical-align: middle;\n",
       "    }\n",
       "\n",
       "    .dataframe tbody tr th {\n",
       "        vertical-align: top;\n",
       "    }\n",
       "\n",
       "    .dataframe thead th {\n",
       "        text-align: right;\n",
       "    }\n",
       "</style>\n",
       "<table border=\"1\" class=\"dataframe\">\n",
       "  <thead>\n",
       "    <tr style=\"text-align: right;\">\n",
       "      <th></th>\n",
       "      <th>total_bill</th>\n",
       "      <th>tip</th>\n",
       "      <th>size</th>\n",
       "    </tr>\n",
       "  </thead>\n",
       "  <tbody>\n",
       "    <tr>\n",
       "      <th>total_bill</th>\n",
       "      <td>1.000000</td>\n",
       "      <td>0.675734</td>\n",
       "      <td>0.598315</td>\n",
       "    </tr>\n",
       "    <tr>\n",
       "      <th>tip</th>\n",
       "      <td>0.675734</td>\n",
       "      <td>1.000000</td>\n",
       "      <td>0.489299</td>\n",
       "    </tr>\n",
       "    <tr>\n",
       "      <th>size</th>\n",
       "      <td>0.598315</td>\n",
       "      <td>0.489299</td>\n",
       "      <td>1.000000</td>\n",
       "    </tr>\n",
       "  </tbody>\n",
       "</table>\n",
       "</div>"
      ],
      "text/plain": [
       "            total_bill       tip      size\n",
       "total_bill    1.000000  0.675734  0.598315\n",
       "tip           0.675734  1.000000  0.489299\n",
       "size          0.598315  0.489299  1.000000"
      ]
     },
     "execution_count": 37,
     "metadata": {},
     "output_type": "execute_result"
    }
   ],
   "source": [
    "corrl = df.corr(numeric_only=True)\n",
    "corrl"
   ]
  },
  {
   "cell_type": "code",
   "execution_count": 38,
   "metadata": {},
   "outputs": [
    {
     "data": {
      "text/plain": [
       "<Axes: >"
      ]
     },
     "execution_count": 38,
     "metadata": {},
     "output_type": "execute_result"
    },
    {
     "data": {
      "image/png": "[encoded data removed]",
      "text/plain": [
       "<Figure size 640x480 with 2 Axes>"
      ]
     },
     "metadata": {},
     "output_type": "display_data"
    }
   ],
   "source": [
    "sns.heatmap(corrl)"
   ]
  },
  {
   "cell_type": "code",
   "execution_count": 39,
   "metadata": {},
   "outputs": [
    {
     "data": {
      "text/html": [
       "<div>\n",
       "<style scoped>\n",
       "    .dataframe tbody tr th:only-of-type {\n",
       "        vertical-align: middle;\n",
       "    }\n",
       "\n",
       "    .dataframe tbody tr th {\n",
       "        vertical-align: top;\n",
       "    }\n",
       "\n",
       "    .dataframe thead th {\n",
       "        text-align: right;\n",
       "    }\n",
       "</style>\n",
       "<table border=\"1\" class=\"dataframe\">\n",
       "  <thead>\n",
       "    <tr style=\"text-align: right;\">\n",
       "      <th></th>\n",
       "      <th>total_bill</th>\n",
       "      <th>tip</th>\n",
       "      <th>size</th>\n",
       "    </tr>\n",
       "  </thead>\n",
       "  <tbody>\n",
       "    <tr>\n",
       "      <th>total_bill</th>\n",
       "      <td>79.252939</td>\n",
       "      <td>8.323502</td>\n",
       "      <td>5.065983</td>\n",
       "    </tr>\n",
       "    <tr>\n",
       "      <th>tip</th>\n",
       "      <td>8.323502</td>\n",
       "      <td>1.914455</td>\n",
       "      <td>0.643906</td>\n",
       "    </tr>\n",
       "    <tr>\n",
       "      <th>size</th>\n",
       "      <td>5.065983</td>\n",
       "      <td>0.643906</td>\n",
       "      <td>0.904591</td>\n",
       "    </tr>\n",
       "  </tbody>\n",
       "</table>\n",
       "</div>"
      ],
      "text/plain": [
       "            total_bill       tip      size\n",
       "total_bill   79.252939  8.323502  5.065983\n",
       "tip           8.323502  1.914455  0.643906\n",
       "size          5.065983  0.643906  0.904591"
      ]
     },
     "execution_count": 39,
     "metadata": {},
     "output_type": "execute_result"
    }
   ],
   "source": [
    "covr = df.cov(numeric_only=True)\n",
    "covr"
   ]
  },
  {
   "cell_type": "code",
   "execution_count": 40,
   "metadata": {},
   "outputs": [
    {
     "data": {
      "text/plain": [
       "<seaborn.axisgrid.PairGrid at 0x1ffb8a99110>"
      ]
     },
     "execution_count": 40,
     "metadata": {},
     "output_type": "execute_result"
    },
    {
     "data": {
      "image/png": "[encoded data removed]",
      "text/plain": [
       "<Figure size 750x750 with 12 Axes>"
      ]
     },
     "metadata": {},
     "output_type": "display_data"
    }
   ],
   "source": [
    "sns.pairplot(df)"
   ]
  },
  {
   "cell_type": "markdown",
   "metadata": {},
   "source": [
    "## Central Limit Theorem"
   ]
  },
  {
   "cell_type": "code",
   "execution_count": 43,
   "metadata": {},
   "outputs": [
    {
     "data": {
      "text/plain": [
       "array([14, 11, 19, 12, 19, 18, 18, 11, 17, 19, 13, 12, 18, 12, 11, 18, 12,\n",
       "       11, 16, 16, 18, 11, 14, 15, 18, 19, 15, 16, 15, 11, 10, 11, 13, 13,\n",
       "       17, 19, 16, 16, 16, 13, 13, 13, 16, 12, 19, 12, 13, 16, 12, 12])"
      ]
     },
     "execution_count": 43,
     "metadata": {},
     "output_type": "execute_result"
    }
   ],
   "source": [
    "population = np.random.randint(10,20,50)\n",
    "population"
   ]
  },
  {
   "cell_type": "code",
   "execution_count": 44,
   "metadata": {},
   "outputs": [
    {
     "data": {
      "text/plain": [
       "14.62"
      ]
     },
     "execution_count": 44,
     "metadata": {},
     "output_type": "execute_result"
    }
   ],
   "source": [
    "np.mean(population)"
   ]
  },
  {
   "cell_type": "code",
   "execution_count": 47,
   "metadata": {},
   "outputs": [],
   "source": [
    "sample1 = np.random.choice(population, 20)\n",
    "sample2 = np.random.choice(population, 20)\n",
    "sample3 = np.random.choice(population, 20)\n",
    "sample4 = np.random.choice(population, 20)"
   ]
  },
  {
   "cell_type": "code",
   "execution_count": 48,
   "metadata": {},
   "outputs": [],
   "source": [
    "all_samples = [sample1, sample2, sample3, sample4]\n",
    "mean_of_samples = [np.mean(i) for i in all_samples]"
   ]
  },
  {
   "cell_type": "code",
   "execution_count": 49,
   "metadata": {},
   "outputs": [
    {
     "data": {
      "text/plain": [
       "[15.95, 14.05, 15.0, 15.7]"
      ]
     },
     "execution_count": 49,
     "metadata": {},
     "output_type": "execute_result"
    }
   ],
   "source": [
    "mean_of_samples"
   ]
  },
  {
   "cell_type": "code",
   "execution_count": 50,
   "metadata": {},
   "outputs": [
    {
     "data": {
      "text/plain": [
       "<Axes: ylabel='Count'>"
      ]
     },
     "execution_count": 50,
     "metadata": {},
     "output_type": "execute_result"
    },
    {
     "data": {
      "image/png": "[encoded data removed]",
      "text/plain": [
       "<Figure size 640x480 with 1 Axes>"
      ]
     },
     "metadata": {},
     "output_type": "display_data"
    }
   ],
   "source": [
    "sns.histplot(mean_of_samples, kde=True)"
   ]
  },
  {
   "cell_type": "code",
   "execution_count": 52,
   "metadata": {},
   "outputs": [],
   "source": [
    "population = np.random.binomial(10,0.5,10000)"
   ]
  },
  {
   "cell_type": "code",
   "execution_count": 53,
   "metadata": {},
   "outputs": [
    {
     "data": {
      "text/plain": [
       "<seaborn.axisgrid.FacetGrid at 0x1ffb960a150>"
      ]
     },
     "execution_count": 53,
     "metadata": {},
     "output_type": "execute_result"
    },
    {
     "data": {
      "image/png": "[encoded data removed]",
      "text/plain": [
       "<Figure size 500x500 with 1 Axes>"
      ]
     },
     "metadata": {},
     "output_type": "display_data"
    }
   ],
   "source": [
    "sns.displot(population)"
   ]
  },
  {
   "cell_type": "code",
   "execution_count": 54,
   "metadata": {},
   "outputs": [
    {
     "data": {
      "text/plain": [
       "<seaborn.axisgrid.FacetGrid at 0x1ffb9a26650>"
      ]
     },
     "execution_count": 54,
     "metadata": {},
     "output_type": "execute_result"
    },
    {
     "data": {
      "image/png": "[encoded data removed]",
      "text/plain": [
       "<Figure size 500x500 with 1 Axes>"
      ]
     },
     "metadata": {},
     "output_type": "display_data"
    }
   ],
   "source": [
    "population = np.random.pareto(10,1000)\n",
    "sns.displot(population)"
   ]
  },
  {
   "cell_type": "code",
   "execution_count": 55,
   "metadata": {},
   "outputs": [
    {
     "data": {
      "text/plain": [
       "<Axes: ylabel='Count'>"
      ]
     },
     "execution_count": 55,
     "metadata": {},
     "output_type": "execute_result"
    },
    {
     "data": {
      "image/png": "[encoded data removed]",
      "text/plain": [
       "<Figure size 640x480 with 1 Axes>"
      ]
     },
     "metadata": {},
     "output_type": "display_data"
    }
   ],
   "source": [
    "population = np.random.binomial(10,0.5,10000)\n",
    "sample_size = 2000\n",
    "mean_of_samples = []\n",
    "for i in range(1,10000):\n",
    "    sample = np.random.choice(population, size=sample_size)\n",
    "    mean_of_samples.append(np.mean(sample))\n",
    "sns.histplot(mean_of_samples, kde=True)\n"
   ]
  },
  {
   "cell_type": "code",
   "execution_count": 58,
   "metadata": {},
   "outputs": [
    {
     "data": {
      "text/plain": [
       "<Axes: ylabel='Density'>"
      ]
     },
     "execution_count": 58,
     "metadata": {},
     "output_type": "execute_result"
    },
    {
     "data": {
      "image/png": "[encoded data removed]",
      "text/plain": [
       "<Figure size 640x480 with 1 Axes>"
      ]
     },
     "metadata": {},
     "output_type": "display_data"
    }
   ],
   "source": [
    "sns.distplot(mean_of_samples, kde=True, color='red')"
   ]
  },
  {
   "cell_type": "markdown",
   "metadata": {},
   "source": [
    "* to prove it is a normal distribution, we will prove mean=mode=median"
   ]
  },
  {
   "cell_type": "code",
   "execution_count": 59,
   "metadata": {},
   "outputs": [
    {
     "data": {
      "text/plain": [
       "5.011166816681668"
      ]
     },
     "execution_count": 59,
     "metadata": {},
     "output_type": "execute_result"
    }
   ],
   "source": [
    "np.mean(mean_of_samples)"
   ]
  },
  {
   "cell_type": "code",
   "execution_count": 60,
   "metadata": {},
   "outputs": [
    {
     "data": {
      "text/plain": [
       "5.0115"
      ]
     },
     "execution_count": 60,
     "metadata": {},
     "output_type": "execute_result"
    }
   ],
   "source": [
    "np.median(mean_of_samples)"
   ]
  },
  {
   "cell_type": "code",
   "execution_count": 61,
   "metadata": {},
   "outputs": [
    {
     "data": {
      "text/plain": [
       "5.009"
      ]
     },
     "execution_count": 61,
     "metadata": {},
     "output_type": "execute_result"
    }
   ],
   "source": [
    "statistics.mode(mean_of_samples)"
   ]
  },
  {
   "cell_type": "markdown",
   "metadata": {},
   "source": [
    "* hence mean = median = mode"
   ]
  },
  {
   "cell_type": "markdown",
   "metadata": {},
   "source": [
    "### where x% data lies or one tail/two tail test"
   ]
  },
  {
   "cell_type": "code",
   "execution_count": 62,
   "metadata": {},
   "outputs": [],
   "source": [
    "import scipy.stats as stats"
   ]
  },
  {
   "cell_type": "code",
   "execution_count": 67,
   "metadata": {},
   "outputs": [
    {
     "data": {
      "text/plain": [
       "1.6448536269514722"
      ]
     },
     "execution_count": 67,
     "metadata": {},
     "output_type": "execute_result"
    }
   ],
   "source": [
    "# z table value\n",
    "z_critical = stats.norm.ppf(q = 0.95)\n",
    "# 0.95 is confidence interval\n",
    "z_critical\n"
   ]
  },
  {
   "cell_type": "code",
   "execution_count": 69,
   "metadata": {},
   "outputs": [
    {
     "data": {
      "text/plain": [
       "1.7108820799094275"
      ]
     },
     "execution_count": 69,
     "metadata": {},
     "output_type": "execute_result"
    }
   ],
   "source": [
    "#  t table value\n",
    "t_critical = stats.t.ppf(df = 24, q=0.95)\n",
    "# df = degree of freedom\n",
    "t_critical\n"
   ]
  },
  {
   "cell_type": "code",
   "execution_count": 70,
   "metadata": {},
   "outputs": [
    {
     "data": {
      "text/plain": [
       "0.0013001783902310841"
      ]
     },
     "execution_count": 70,
     "metadata": {},
     "output_type": "execute_result"
    }
   ],
   "source": [
    "# z test\n",
    "margin_of_error = z_critical * np.std(mean_of_samples)/np.sqrt(2000)\n",
    "# to calculate confidence interval\n",
    "margin_of_error"
   ]
  },
  {
   "cell_type": "code",
   "execution_count": 71,
   "metadata": {},
   "outputs": [
    {
     "data": {
      "text/plain": [
       "(5.009866638291437, 5.012466995071899)"
      ]
     },
     "execution_count": 71,
     "metadata": {},
     "output_type": "execute_result"
    }
   ],
   "source": [
    "# confidence interval -\n",
    "np.mean(mean_of_samples)-margin_of_error, np.mean(mean_of_samples)+margin_of_error"
   ]
  },
  {
   "cell_type": "code",
   "execution_count": 77,
   "metadata": {},
   "outputs": [
    {
     "data": {
      "text/plain": [
       "array([ 3.49035393e-01,  2.39260185e-01,  7.41001671e-01,  1.93147889e+00,\n",
       "       -1.70703873e-01, -6.49844015e-01, -4.43298768e-01, -1.20588476e+00,\n",
       "       -3.07201215e-01, -5.79228262e-01,  4.50952364e-01, -1.20527606e+00,\n",
       "       -3.14805710e-01, -4.16549468e-01, -1.55935218e+00,  5.50816040e-01,\n",
       "        2.31080584e+00,  3.13949395e-01, -1.80328350e+00,  1.31969085e+00,\n",
       "       -6.78395760e-01, -8.60658936e-01, -8.82564350e-01,  4.15728929e-01,\n",
       "        4.75773513e-01,  3.94221026e-01, -1.95343458e+00,  4.46209708e-01,\n",
       "       -6.79690793e-01, -1.86178098e+00, -1.11679401e+00,  1.76691375e-01,\n",
       "        1.27926769e-01,  2.00837084e+00, -1.20912425e+00,  4.20006577e-01,\n",
       "        1.68101893e-02, -1.55052598e+00, -1.41171557e+00,  2.57257397e-01,\n",
       "       -5.40106143e-01, -6.33369979e-02, -1.18638438e-01, -1.93248728e-01,\n",
       "        3.01559441e-01, -3.82474084e-01,  2.05572894e-02,  1.88316330e-01,\n",
       "       -1.68554642e-01,  3.16807471e-01, -1.16940632e+00, -1.03696902e+00,\n",
       "       -5.75483059e-02,  1.05748688e+00,  8.30366145e-01, -6.73509776e-01,\n",
       "       -8.86933544e-01, -7.18312941e-01,  1.46226201e+00, -2.06138022e+00,\n",
       "       -1.95313462e+00, -3.26054929e-02, -2.18385057e+00,  1.39663198e+00,\n",
       "       -3.53928091e-01, -6.61429214e-01, -3.97604754e-01, -8.94650210e-02,\n",
       "       -1.08743324e-01,  5.64464885e-01,  1.82738780e+00, -9.28102804e-01,\n",
       "        1.01151125e+00,  2.01753574e+00,  1.32294284e-01,  1.12818630e+00,\n",
       "       -9.03659496e-01, -7.56480953e-01, -2.46661485e-01,  1.41160404e+00,\n",
       "        3.69308088e-01,  2.09970361e+00, -1.46768796e-01, -1.85572267e-01,\n",
       "       -8.23546540e-01,  7.50163949e-01,  5.54014166e-01,  1.76012939e+00,\n",
       "       -2.13095973e-01, -7.52484680e-01,  1.18998234e+00,  4.57294589e-01,\n",
       "       -1.39599800e+00, -5.67131226e-01, -3.92441045e-02, -6.49161156e-01,\n",
       "       -1.57968704e+00, -1.00730701e+00, -6.55394292e-01, -6.36833706e-01,\n",
       "        8.58942681e-01,  1.70152185e+00,  1.05465040e+00,  1.38613144e-02,\n",
       "       -5.30223470e-01,  1.36827009e+00,  8.02712631e-01,  6.19324314e-01,\n",
       "        9.51157699e-01,  9.89879750e-01,  1.85363907e-01, -1.53085860e+00,\n",
       "       -1.60853344e-01, -1.57445421e+00, -6.71996351e-01, -1.37169635e-01,\n",
       "       -9.74377447e-01, -2.11436241e+00,  3.60249786e-03, -5.97957500e-01,\n",
       "        5.79366563e-01, -6.49110642e-01, -1.26284720e+00,  1.98634748e+00,\n",
       "        1.43550768e+00,  5.00685441e-01, -2.13096517e-01,  1.15142545e-02,\n",
       "        8.04080461e-01,  1.30062114e-01,  1.24892893e+00, -7.19837128e-01,\n",
       "       -1.02008388e+00,  2.02572010e-01,  9.58965664e-01, -3.08148126e-01,\n",
       "       -6.71561913e-02, -3.66722140e-01,  1.03210583e+00, -5.49125144e-01,\n",
       "       -7.10674274e-01, -1.52139281e+00,  5.42654583e-01,  4.98736502e-03,\n",
       "        4.35633428e-01,  1.02454788e+00, -1.00130718e+00, -8.17470515e-01,\n",
       "        1.06109341e+00,  4.13240498e-02, -1.41965072e+00,  3.63409326e-01,\n",
       "        2.95595856e-01,  1.85878016e-01,  1.40575619e+00,  2.62821084e-01,\n",
       "       -1.93089690e+00,  4.63063947e-01, -7.43901780e-01,  1.96995869e-01,\n",
       "        8.05817470e-01,  1.51665415e+00, -9.91387927e-01, -1.82188975e+00,\n",
       "       -3.93208069e-01,  2.17583424e+00, -9.12515756e-01,  1.01823553e+00,\n",
       "       -9.97261717e-01,  7.20283539e-01,  1.01668985e+00,  7.60815848e-01,\n",
       "       -5.57919267e-01, -7.55538537e-01,  5.97917141e-01, -6.04951985e-02,\n",
       "       -1.08866508e+00,  1.49856484e-01,  8.06622773e-01,  1.16952202e+00,\n",
       "        1.68149259e-02, -6.37030401e-01,  6.95243281e-01, -4.27685008e-01,\n",
       "       -2.11565538e-01,  5.78587280e-03, -1.80680802e-01,  1.37264311e+00,\n",
       "        1.13013900e+00,  1.54807195e+00, -1.02817370e+00,  8.95096552e-01,\n",
       "        1.17709457e+00, -2.55263461e-01,  1.39960377e+00,  1.00865025e+00,\n",
       "       -1.30920015e+00, -1.13233531e+00, -1.13038411e+00, -2.00283175e+00,\n",
       "       -1.49104544e+00,  1.91880018e-01,  6.58288070e-02, -1.09164834e+00,\n",
       "       -1.88142287e+00,  1.26745731e+00, -1.79618438e+00,  1.92059762e-01,\n",
       "       -5.73771873e-01, -1.15608700e+00,  4.23334985e-01,  1.17741342e+00,\n",
       "       -1.11241596e+00, -1.76529866e+00, -4.83646168e-01, -1.83851360e-01,\n",
       "       -1.55351998e+00,  2.62683109e+00, -4.89176270e-01, -1.94568378e+00,\n",
       "        1.84438663e-01, -2.75862678e-01, -9.18283999e-01,  3.11386036e-01,\n",
       "       -1.15879408e-01, -1.07828404e-01, -2.47896081e-01,  2.11739139e+00,\n",
       "       -1.58251503e+00,  9.04817939e-01, -4.67722582e-02,  1.72936751e+00,\n",
       "       -1.03975010e+00, -5.39902561e-01,  3.39491682e-01,  3.32262356e-01,\n",
       "       -6.42155842e-01, -1.22393537e+00, -1.77941672e-01,  1.28691108e-01,\n",
       "        7.06962149e-01, -3.49491253e-01,  1.30988638e+00, -7.89494359e-01,\n",
       "        8.02818867e-01, -2.13393264e+00,  1.00506579e-01, -5.10078730e-01,\n",
       "        1.33206207e+00, -1.04356560e+00, -7.17178295e-02, -7.45349689e-01,\n",
       "       -7.69663879e-01, -4.85326842e-01, -4.08299302e-01, -6.91971818e-01,\n",
       "       -1.42661968e-01, -8.69699639e-02,  3.14652500e-01,  8.14174917e-03,\n",
       "       -7.08101499e-01, -5.18458695e-01,  7.39616935e-01, -6.01020507e-01,\n",
       "       -8.05385375e-01,  1.53398834e-01,  6.31153185e-01,  9.20112854e-01,\n",
       "        1.64756498e+00, -7.19547848e-01, -8.82998550e-01,  6.42137679e-01,\n",
       "        6.18446695e-01,  1.27350296e+00,  1.05469177e+00, -8.51911994e-01,\n",
       "       -5.18416474e-02, -3.59501149e-01,  1.59374928e+00,  1.46741722e+00,\n",
       "       -2.37815849e+00, -2.70686699e-01, -2.38383565e-02,  2.14236994e+00,\n",
       "       -2.48159541e+00, -5.07649572e-01, -2.02811637e+00, -7.39666263e-01,\n",
       "       -8.03070450e-02,  7.42460777e-01,  7.97691563e-01,  1.12507314e+00,\n",
       "       -1.85125059e+00,  6.39642484e-01, -5.70376762e-01,  7.44670860e-01,\n",
       "       -1.83714087e+00, -2.51098957e-01, -1.89364541e-01, -4.09532406e-02,\n",
       "        1.33040261e+00,  4.66920145e-01, -6.36168430e-01,  1.58403904e-01,\n",
       "        2.61298515e-01,  3.77550798e-01,  6.95031084e-01, -1.95703541e-01,\n",
       "        4.45876301e-01,  1.73515659e-01,  3.13054822e+00, -9.03265437e-01,\n",
       "       -5.71816846e-01, -2.56480022e+00, -6.62693620e-01, -8.97954861e-01,\n",
       "       -6.83805497e-01, -1.93765803e+00, -1.44340741e+00,  3.22401396e-01,\n",
       "       -1.24910626e-01, -7.11987679e-01,  7.88333019e-01, -5.12191549e-01,\n",
       "       -1.05049578e+00, -6.53215288e-01, -1.81873757e+00,  2.11677422e-01,\n",
       "        3.87038122e-01,  6.18552580e-01, -1.81864614e+00,  8.72376701e-01,\n",
       "        2.70296164e-03,  3.08245785e-01,  5.75558457e-01,  2.33498031e+00,\n",
       "        5.85049565e-01, -2.48460014e-01,  2.52864350e+00,  1.27403684e+00,\n",
       "       -7.20742820e-01, -1.01611620e+00,  1.71288006e-01, -1.17114321e+00,\n",
       "        8.29561099e-01, -6.43557512e-01,  8.89633646e-01,  1.93020584e+00,\n",
       "        2.16591339e-01,  1.09513722e-01, -2.00295322e+00, -4.31809286e-01,\n",
       "       -1.38995093e-01,  1.21984637e+00, -5.57992970e-01, -1.30819994e+00,\n",
       "       -3.70801616e-01, -1.23788311e+00, -6.05695151e-01,  1.56589263e-02,\n",
       "        6.31409827e-01, -3.01213852e-02,  5.43571375e-01,  6.85754028e-01,\n",
       "        2.91482662e-01,  1.20997751e+00,  5.21956935e-01, -1.45108450e+00,\n",
       "        2.84132853e-01,  1.49833686e+00, -1.15986337e+00,  6.88177614e-01,\n",
       "       -1.58494473e-01,  3.54195046e-01,  1.49288663e+00, -9.61711020e-03,\n",
       "        1.54562323e+00,  2.20897128e-01,  2.61202196e-01, -2.02887316e+00,\n",
       "        7.40349494e-01,  3.01070613e-01, -2.75819924e+00, -8.43227102e-01,\n",
       "       -9.15395340e-01,  1.06489433e+00, -4.48617809e-01, -2.82461364e-02,\n",
       "       -1.05794416e-01,  1.77562840e-01, -4.18608865e-01,  2.92197197e-01,\n",
       "       -8.85331143e-01, -7.31257873e-01, -2.85908573e-01, -5.56645568e-01,\n",
       "       -4.19765609e-01, -2.29385432e-01, -2.05947081e+00, -1.73531532e+00,\n",
       "        1.48703680e+00, -4.96040942e-03, -4.02344767e-01,  5.53086560e-01,\n",
       "        8.23171289e-01,  5.14398938e-01, -9.50626471e-01, -1.24543790e+00,\n",
       "        3.19483646e-01,  1.39014811e+00,  9.96180076e-01,  2.94758894e-01,\n",
       "       -8.87489391e-01,  1.02588984e+00, -4.80441051e-01,  1.68690272e-02,\n",
       "        7.14802810e-01,  1.42515662e-01, -1.63712312e+00, -3.76468879e-01,\n",
       "       -7.29435747e-02,  7.67367232e-01, -8.84657953e-01,  1.21725219e+00,\n",
       "       -1.49160461e+00, -3.08365867e-01,  1.60007570e+00,  1.01675786e+00,\n",
       "        1.90029005e-01, -5.43380041e-01, -1.75359150e+00,  3.03758668e-02,\n",
       "       -1.75128118e+00, -2.09704842e+00,  1.50893022e+00, -1.13651480e+00,\n",
       "        1.12982112e-01,  6.79779360e-01, -1.63508167e+00, -3.83084837e-01,\n",
       "        1.79386124e-01, -1.47075136e+00,  2.49128788e+00,  1.94117110e+00,\n",
       "        4.77739540e-01,  3.21152076e-01, -7.82691723e-02, -6.62371630e-01,\n",
       "       -1.09359058e+00,  2.28848594e+00, -8.30374956e-01, -1.18339968e+00,\n",
       "       -2.42655671e-01,  9.66187475e-01, -1.31291596e+00, -2.19115094e+00,\n",
       "       -5.26850557e-01, -4.71662254e-01, -3.82695303e-04,  2.23694295e+00,\n",
       "       -1.32971659e+00, -3.40758917e-01,  1.04668644e-02, -1.52670350e+00,\n",
       "       -1.57771768e+00, -7.58617840e-02, -1.05642925e+00,  2.16186843e+00,\n",
       "        3.19936283e-01, -4.58215269e-01,  2.41115920e+00,  7.32485448e-01,\n",
       "       -4.33747160e-01, -1.78922063e-01,  4.01118377e-01, -6.93625058e-01,\n",
       "        1.58437586e+00,  6.62733718e-01,  3.69833555e-01, -2.88356894e-01,\n",
       "        4.85255079e-01,  1.58044488e-01,  2.54502837e-01,  4.35183871e-01,\n",
       "       -3.36669232e-01,  7.03354031e-01,  1.64971131e+00,  1.53293430e-01,\n",
       "        4.12276884e-01, -1.13214426e+00,  7.41344201e-01, -4.33151956e-01,\n",
       "       -2.23169101e+00, -8.95619601e-01, -1.63437357e+00,  2.42404630e+00,\n",
       "        8.42114223e-01, -3.83150799e-01, -1.71791262e+00,  6.72859058e-01,\n",
       "        1.49242345e+00,  2.79146666e-02,  1.34951611e+00, -9.24383046e-01,\n",
       "       -5.37210956e-02,  5.52595832e-01,  1.62466476e-01, -7.82349116e-01,\n",
       "       -1.33413629e+00, -2.45577785e-01,  5.44016625e-01,  1.77783586e+00,\n",
       "        6.23578663e-02,  1.68206705e+00, -3.48442357e-01, -1.25321146e+00,\n",
       "        3.78707091e-01, -1.41528714e+00,  1.33666723e+00,  6.41669855e-02,\n",
       "        1.56629046e+00, -1.83316230e-01,  1.23478146e+00, -3.89084312e-01,\n",
       "        1.23467249e+00,  3.44915995e-02, -1.47784070e+00,  1.96189163e+00,\n",
       "       -4.38358475e-01, -1.13246047e+00, -2.89619961e-01, -7.42694580e-01,\n",
       "        9.05517105e-01,  1.36158177e+00,  4.23328673e-01, -6.97518229e-01,\n",
       "        7.27714626e-01, -7.00255449e-01, -2.88954670e-01,  2.93102041e-01,\n",
       "       -1.44591462e+00, -3.53366999e-02, -6.52887136e-01,  3.42776448e-01,\n",
       "        3.41922249e-01,  3.10554215e-01,  7.36227485e-01, -1.77940709e+00,\n",
       "       -1.77477987e-01,  6.68062932e-01, -1.00567372e+00,  1.07625803e+00,\n",
       "        1.07972727e+00, -1.67597951e+00,  7.27744728e-01,  2.45572242e-01,\n",
       "       -3.92834864e-01,  1.06152992e+00,  1.03597771e+00, -2.29757531e-01,\n",
       "        1.91974220e+00, -5.24379578e-01, -3.46906238e-01, -1.00835801e+00,\n",
       "        8.03237216e-01, -1.69290467e-01, -1.66922556e+00,  2.70847771e-01,\n",
       "       -3.36402854e-01,  6.89952221e-02, -3.35739378e-01, -1.11493909e+00,\n",
       "        4.79834429e-02, -1.27318792e+00,  1.34742999e+00,  7.49788541e-01,\n",
       "        2.73684532e-01,  2.89935149e-01, -1.46167463e+00,  2.44161115e+00,\n",
       "       -6.31550490e-01, -6.01147935e-01, -4.96999230e-01, -9.18272728e-01,\n",
       "       -1.99056655e-01, -2.67434952e-01,  3.73372964e-01, -7.50853399e-02,\n",
       "        8.62302385e-01, -7.19551405e-01, -6.38915008e-01,  5.20430748e-01,\n",
       "       -1.48078835e+00, -4.07678177e-01, -1.75320796e+00, -2.91800367e-01,\n",
       "        4.63845074e-01, -1.87658494e+00,  1.33952554e-01,  1.33693170e+00,\n",
       "        6.33500691e-01,  4.44042685e-02,  9.37291961e-01, -7.60163385e-01,\n",
       "       -8.54767624e-01, -1.90385564e+00,  9.83430651e-02,  9.83633279e-01,\n",
       "       -1.37364568e+00, -4.36416510e-01,  1.37322516e+00,  9.85536188e-01,\n",
       "       -1.30057643e-01, -3.47211679e-01,  1.49211676e+00,  1.38168583e-01,\n",
       "       -8.77881274e-02, -9.05182804e-01,  4.07528133e-01, -1.82359381e-02,\n",
       "        6.00994156e-01, -1.33024555e+00, -7.57684830e-01, -1.10882848e+00,\n",
       "        2.05462880e+00,  3.98253193e-01, -1.04912241e-01,  3.48418805e-02,\n",
       "       -1.26236278e+00,  2.09396858e-01,  3.73098680e-01,  1.00632050e+00,\n",
       "        2.26289678e+00, -9.15971284e-01,  9.92142045e-02,  1.04122770e-01,\n",
       "       -3.08313997e+00,  4.55466263e-01, -1.11370626e+00,  5.78277190e-01,\n",
       "        1.10838962e+00, -8.25315509e-01,  6.45473901e-02,  3.70568500e-01,\n",
       "       -1.02919918e+00, -1.60433382e+00,  6.66875170e-01,  1.82052584e+00,\n",
       "        5.57993858e-01,  2.53975860e+00,  1.03498031e+00, -1.60322482e+00,\n",
       "        2.49915209e-01, -2.00871876e-01,  7.52604174e-02, -1.93159827e-01,\n",
       "        1.75616897e+00,  1.84389270e-01,  3.94308244e-01, -8.22770288e-01,\n",
       "        1.29775122e+00, -4.53954412e-01, -2.21413422e-02,  3.75313592e-01,\n",
       "        2.76584983e-02, -5.42973116e-02,  7.77249927e-01,  3.04769095e-01,\n",
       "        1.71683077e+00,  3.34975292e-01,  1.83619549e+00,  1.28229723e+00,\n",
       "        2.02315203e+00, -1.43462315e+00,  1.51183177e+00,  5.58453230e-01,\n",
       "       -3.94436378e-01, -6.63318424e-01,  1.37904907e+00,  1.78741570e-01,\n",
       "       -9.39267950e-01, -9.06036876e-01, -9.68377266e-01, -4.11391255e-02,\n",
       "       -5.40162257e-01,  9.99336886e-01, -1.12424451e+00,  2.76078714e+00,\n",
       "       -2.57022356e-01,  1.05440782e+00, -1.44640363e+00,  1.05511299e+00,\n",
       "       -3.54836969e-01,  1.82548312e+00,  8.22239393e-01,  4.36551959e-01,\n",
       "        1.05141100e-01,  2.85963687e-01,  1.57022247e+00, -8.74299595e-01,\n",
       "        9.73540729e-01, -4.06309083e-01,  9.26756127e-01,  1.10852900e+00,\n",
       "       -7.68049599e-02, -6.06533027e-01, -3.95332796e-03,  2.61032663e-01,\n",
       "        1.01958917e+00, -1.16902561e+00,  6.78985630e-01, -1.56513796e+00,\n",
       "       -5.68499889e-01,  1.50868106e+00, -1.43269733e+00, -1.23342372e+00,\n",
       "        1.54528129e-02,  5.50611860e-01, -4.85008540e-01,  3.42065384e-01,\n",
       "        1.44876864e+00, -7.68825729e-01, -2.00769943e+00, -1.15144770e+00,\n",
       "       -3.47057091e-02, -7.93187676e-01,  1.86364441e+00,  1.44329650e+00,\n",
       "        1.09457345e+00,  8.52819141e-01,  1.23993603e+00, -6.40048384e-01,\n",
       "        2.20734561e+00,  3.61650171e-01, -2.45075662e-01,  1.78782263e-01,\n",
       "       -6.15811298e-01, -1.65149019e+00,  7.40340070e-01,  1.69528039e+00,\n",
       "       -1.88235436e+00, -1.42765614e+00, -1.36685917e+00,  5.51191881e-01,\n",
       "       -6.81398068e-01,  8.11879715e-02, -5.98779200e-01,  2.70363798e-01,\n",
       "        1.26558394e+00, -5.72164821e-01, -2.52122411e+00, -9.19423352e-01,\n",
       "        4.28889257e-01,  1.08192815e+00,  8.52990956e-01,  1.49685645e-01,\n",
       "        1.10590759e+00, -4.09836924e-01,  8.09214710e-02,  3.35057013e-01,\n",
       "        4.02174845e-01,  8.19984389e-01, -1.31077490e-01,  9.85857033e-02,\n",
       "        4.13696552e-01, -1.67099687e+00, -4.54562077e-01,  1.29196121e+00,\n",
       "       -1.29643464e+00, -2.60439270e-01,  9.26782603e-01,  1.46093202e+00,\n",
       "       -5.86716309e-03,  2.71900578e-01, -1.09667449e+00,  4.72068821e-01,\n",
       "       -3.26474597e-01, -8.86710852e-01,  9.63262936e-01,  3.16410311e-01,\n",
       "       -1.73916115e+00, -6.91778291e-01, -3.61324792e-01, -2.90774243e-01,\n",
       "        1.46495593e+00,  6.95176298e-01, -2.58625206e-01, -7.22781956e-01,\n",
       "       -7.12905075e-01, -1.51604423e+00,  1.08902964e+00,  6.94782990e-01,\n",
       "       -1.62528545e+00, -2.22998137e-01, -1.07117616e+00,  4.64076408e-01,\n",
       "        2.92337014e+00, -1.36282146e+00, -5.75002723e-01, -1.49622045e-01,\n",
       "        2.71046482e+00, -3.33452892e-02,  4.48835108e-01, -2.22770902e+00,\n",
       "        6.45187151e-01, -1.10948050e-01,  1.11133542e+00,  2.68757964e+00,\n",
       "       -1.61485743e-01, -6.01870558e-01, -2.97961404e-02, -9.02649551e-01,\n",
       "       -3.39852550e-01, -7.29695485e-01,  1.74592643e-01,  3.40749000e-01,\n",
       "       -6.75577477e-01, -5.97808807e-02,  4.50220432e-01,  1.93225239e-01,\n",
       "        7.90841423e-01,  1.11176429e+00,  7.55649443e-01,  7.82219532e-02,\n",
       "       -5.80744083e-01,  1.35412763e+00, -1.35349433e-01,  1.29121631e+00,\n",
       "        1.34851169e+00,  1.17016663e+00, -6.97819582e-01, -1.75395108e-01,\n",
       "        1.65831372e-01, -7.57496385e-01,  4.10215474e-01,  8.80656931e-01,\n",
       "       -6.62132926e-01,  1.18169015e+00, -1.35247314e+00,  1.67978903e+00,\n",
       "       -6.52006632e-01,  3.16020690e-01, -1.65260037e-01, -7.29086410e-01,\n",
       "        1.64835460e-01,  1.50122807e+00,  1.88467158e+00,  3.70883981e-01,\n",
       "        7.86542528e-01,  9.21997931e-01, -7.91644090e-01, -2.94670974e+00,\n",
       "       -3.98259209e-01,  2.36335342e-01,  7.34972704e-03, -1.82479138e+00,\n",
       "        8.73276505e-02,  3.32612631e-02, -4.70279604e-01, -5.97956888e-01,\n",
       "       -3.16673681e+00, -4.55942379e-01,  1.15506262e-01, -1.03809010e-01,\n",
       "       -8.69825018e-01, -4.18082228e-01, -1.30016375e+00, -7.42149202e-01,\n",
       "       -5.12982492e-01, -1.39885078e+00,  2.21929604e-01,  9.14296884e-01,\n",
       "        5.44787661e-01,  5.99753335e-01, -2.07120444e-01,  6.31960701e-01,\n",
       "       -1.10274271e-01, -1.88063632e-01,  1.46812610e+00, -2.20331951e-01,\n",
       "        1.08228385e-01, -1.23386081e+00,  1.16556497e+00,  1.22418189e+00,\n",
       "        3.54692823e-01,  1.71790985e+00, -1.04779398e+00,  4.26256076e-02,\n",
       "       -1.96067535e+00,  4.37400126e-01, -4.03580230e-01, -9.51850515e-01,\n",
       "       -1.33376336e+00,  4.92918893e-03, -5.60026156e-01, -2.87791608e-03,\n",
       "        6.16983117e-01,  1.46326379e-01, -3.07633571e-02,  1.12171183e+00,\n",
       "        1.70086482e+00, -2.33339648e+00,  1.26070367e-02, -3.27803984e+00,\n",
       "       -4.46676084e-01,  2.24254598e+00,  3.01330886e-01,  1.35823047e+00,\n",
       "       -4.97839963e-01, -2.02602074e-02, -3.68888823e-01, -4.08721972e-01,\n",
       "       -1.83864111e-01, -5.96642763e-01,  1.36388663e-01, -1.79397251e+00,\n",
       "       -1.06588924e+00,  3.34177394e+00,  7.74508566e-01,  6.33880239e-01,\n",
       "        6.35119926e-01,  2.08346406e+00,  6.44014408e-02, -1.30868969e+00,\n",
       "       -1.97187115e-01, -8.47235029e-01,  1.34944030e+00, -3.28365592e+00,\n",
       "       -1.46487872e+00,  1.98578868e+00,  1.87607569e-01,  1.84374824e+00,\n",
       "        1.56880525e+00, -3.38316418e-01,  3.74827348e-01,  6.68063681e-01,\n",
       "       -8.80924033e-01, -1.57286380e-01, -2.46821196e-01, -9.38745395e-01,\n",
       "       -3.05591852e-01,  1.59045917e-01, -2.11869986e+00, -6.44256690e-01,\n",
       "       -1.05553637e+00, -1.03712305e+00, -2.04490275e-01, -6.23325079e-02,\n",
       "       -6.30710834e-01, -1.73162739e-01, -1.85642766e+00,  1.02745531e-01,\n",
       "       -4.52765376e-01, -8.44781876e-01,  7.22930094e-02, -5.54245670e-01,\n",
       "       -4.31440449e-01,  2.45143884e+00,  2.01765591e-01,  4.78560212e-01,\n",
       "        6.04803057e-01,  2.17519201e-01,  1.34548208e+00,  1.58433285e+00,\n",
       "       -3.92060567e-01, -6.32195626e-01,  6.65983064e-01,  2.53597966e-01,\n",
       "        3.25400141e-02, -6.72343461e-01, -3.84507185e-01, -1.11719534e+00,\n",
       "        3.27940971e-01,  1.70542483e-01,  5.54201763e-01, -1.14436926e+00,\n",
       "        3.87615407e-01,  3.39525206e-01,  4.15363511e-01, -2.08864593e-01,\n",
       "       -8.21689002e-01, -6.80652354e-01, -9.78379890e-02,  3.12027599e-01,\n",
       "       -9.50915733e-01, -2.09519241e+00,  5.53419279e-01, -7.62643972e-02,\n",
       "        1.27355976e+00, -9.29189470e-01, -1.55013762e+00, -9.01988872e-01,\n",
       "       -2.58988513e-01,  5.48170985e-01, -1.68501803e-01,  1.60573267e+00,\n",
       "       -1.42891871e+00,  6.24001190e-02,  9.30553149e-01,  7.69195788e-01])"
      ]
     },
     "execution_count": 77,
     "metadata": {},
     "output_type": "execute_result"
    }
   ],
   "source": [
    "#  z-test\n",
    "from numpy.random import randn\n",
    "population = randn(1000)\n",
    "population"
   ]
  },
  {
   "cell_type": "code",
   "execution_count": 78,
   "metadata": {},
   "outputs": [
    {
     "data": {
      "text/plain": [
       "<Axes: ylabel='Density'>"
      ]
     },
     "execution_count": 78,
     "metadata": {},
     "output_type": "execute_result"
    },
    {
     "data": {
      "image/png": "[encoded data removed]",
      "text/plain": [
       "<Figure size 640x480 with 1 Axes>"
      ]
     },
     "metadata": {},
     "output_type": "display_data"
    }
   ],
   "source": [
    "sns.distplot(population, kde = True)"
   ]
  },
  {
   "cell_type": "code",
   "execution_count": 79,
   "metadata": {},
   "outputs": [
    {
     "data": {
      "text/plain": [
       "(-0.02146447378555258,\n",
       " 1.039891003863952,\n",
       " -0.02902113839300125,\n",
       " 0.3490353932285255)"
      ]
     },
     "execution_count": 79,
     "metadata": {},
     "output_type": "execute_result"
    }
   ],
   "source": [
    "np.mean(population),np.std(population), np.median(population), statistics.mode(population)"
   ]
  },
  {
   "cell_type": "code",
   "execution_count": 81,
   "metadata": {},
   "outputs": [],
   "source": [
    "# claim : h0 that mean = 0.05\n",
    "null_mean = 0.05\n",
    "# if p_value<= 0.05, reject H0 otherwise fail to reject H0\n",
    "\n",
    "from statsmodels.stats.weightstats import ztest\n",
    "zscore, pvalue = ztest(population, value= null_mean, alternative='larger')\n",
    "# alternative - means opp of H0 i.e means is larger"
   ]
  },
  {
   "cell_type": "code",
   "execution_count": 82,
   "metadata": {},
   "outputs": [
    {
     "data": {
      "text/plain": [
       "(-2.1721265458689585, 0.9850769404049667)"
      ]
     },
     "execution_count": 82,
     "metadata": {},
     "output_type": "execute_result"
    }
   ],
   "source": [
    "zscore, pvalue"
   ]
  },
  {
   "cell_type": "code",
   "execution_count": 83,
   "metadata": {},
   "outputs": [
    {
     "name": "stdout",
     "output_type": "stream",
     "text": [
      "fail to reject null hypothesis\n"
     ]
    }
   ],
   "source": [
    "if pvalue<=0.05:\n",
    "    print('reject null hypothesis')\n",
    "else:\n",
    "    print('fail to reject null hypothesis')"
   ]
  },
  {
   "cell_type": "markdown",
   "metadata": {},
   "source": [
    "### school calculated IQ scores of 50 students, the avg IQ is 100. mean of population IQ is 90. std deviation = 16. State whether the claim by school that IQ increases is student study more than avg of school with 5% of significance level.\n",
    "* H0 : mean_IQ = 90\n",
    "* Ḥ1 : mean_IQ > 90"
   ]
  },
  {
   "cell_type": "code",
   "execution_count": 88,
   "metadata": {},
   "outputs": [
    {
     "data": {
      "text/plain": [
       "4.419417382415922"
      ]
     },
     "execution_count": 88,
     "metadata": {},
     "output_type": "execute_result"
    }
   ],
   "source": [
    "#  zcritical approach\n",
    "\n",
    "import scipy.stats as stats\n",
    "\n",
    "sample_mean = 100\n",
    "population_mean = 90\n",
    "population_std = 16\n",
    "sample_size = 50 \n",
    "alph = 0.05\n",
    "\n",
    "zscore = (sample_mean-population_mean)/(population_std/np.sqrt(sample_size))\n",
    "zscore"
   ]
  },
  {
   "cell_type": "code",
   "execution_count": 91,
   "metadata": {},
   "outputs": [],
   "source": [
    "# using stats\n",
    "# percent point concern - ppf (inverse of cdf cumulative distribution function)\n",
    "# it will give you area\n",
    "zcritical = stats.norm.ppf(1-alph)"
   ]
  },
  {
   "cell_type": "code",
   "execution_count": 92,
   "metadata": {},
   "outputs": [
    {
     "name": "stdout",
     "output_type": "stream",
     "text": [
      "reject H0\n"
     ]
    }
   ],
   "source": [
    "if zscore>=zcritical:\n",
    "    print('reject H0')\n",
    "else :\n",
    "    print('fail to reject H0')"
   ]
  },
  {
   "cell_type": "code",
   "execution_count": 93,
   "metadata": {},
   "outputs": [
    {
     "data": {
      "text/plain": [
       "4.948367312573865e-06"
      ]
     },
     "execution_count": 93,
     "metadata": {},
     "output_type": "execute_result"
    }
   ],
   "source": [
    "# p value approach using scipy\n",
    "pvalue = 1- stats.norm.cdf(zscore)\n",
    "pvalue"
   ]
  },
  {
   "cell_type": "code",
   "execution_count": 95,
   "metadata": {},
   "outputs": [
    {
     "name": "stdout",
     "output_type": "stream",
     "text": [
      "reject H0\n"
     ]
    }
   ],
   "source": [
    "if alph>=pvalue:\n",
    "    print('reject H0')\n",
    "else :\n",
    "    print('fail to reject H0')"
   ]
  },
  {
   "cell_type": "markdown",
   "metadata": {},
   "source": [
    "### T-Test\n",
    "* sample size<30\n",
    "* OR\n",
    "* population std is not given\n",
    "\n",
    "* one smaple t test (wrt one independent sample)\n",
    "* two smaple t test (wrt two independent sample)\n",
    "* paired smaple t test (two samples from same population from different time interval)\n"
   ]
  },
  {
   "cell_type": "code",
   "execution_count": 97,
   "metadata": {},
   "outputs": [
    {
     "data": {
      "text/plain": [
       "array([49, 21, 10, 17, 39, 42, 48, 12, 11, 39, 46, 36, 27, 18, 25, 29, 25,\n",
       "       17, 12, 25, 47, 46, 18, 21, 34, 28, 21, 18, 14, 17, 25, 33, 35, 12,\n",
       "       35, 13, 17, 14, 49, 25, 46, 22, 43, 42, 23, 32, 10, 11, 39, 13])"
      ]
     },
     "execution_count": 97,
     "metadata": {},
     "output_type": "execute_result"
    }
   ],
   "source": [
    "#  one sample T-test\n",
    "\n",
    "population = np.random.randint(10,50,50)\n",
    "population"
   ]
  },
  {
   "cell_type": "code",
   "execution_count": 98,
   "metadata": {},
   "outputs": [
    {
     "data": {
      "text/plain": [
       "array([18, 32, 17, 10, 48, 11, 11, 32, 49, 18, 17, 43, 46, 12, 36, 12, 17,\n",
       "       11, 29, 21])"
      ]
     },
     "execution_count": 98,
     "metadata": {},
     "output_type": "execute_result"
    }
   ],
   "source": [
    "sample = np.random.choice(population, size = 20)\n",
    "sample"
   ]
  },
  {
   "cell_type": "code",
   "execution_count": 99,
   "metadata": {},
   "outputs": [
    {
     "data": {
      "text/plain": [
       "24.5"
      ]
     },
     "execution_count": 99,
     "metadata": {},
     "output_type": "execute_result"
    }
   ],
   "source": [
    "sample_mean = np.mean(sample)\n",
    "sample_mean"
   ]
  },
  {
   "cell_type": "code",
   "execution_count": 102,
   "metadata": {},
   "outputs": [
    {
     "data": {
      "text/plain": [
       "(-0.16342551794520727, 0.8719092127610415)"
      ]
     },
     "execution_count": 102,
     "metadata": {},
     "output_type": "execute_result"
    }
   ],
   "source": [
    "# H0\n",
    "null_value = 25\n",
    "tvalue , pvalue = stats.ttest_1samp(sample, null_value)\n",
    "tvalue , pvalue"
   ]
  },
  {
   "cell_type": "code",
   "execution_count": 103,
   "metadata": {},
   "outputs": [
    {
     "name": "stdout",
     "output_type": "stream",
     "text": [
      "fail to reject H0\n"
     ]
    }
   ],
   "source": [
    "if 0.05>=pvalue:\n",
    "    print('reject H0')\n",
    "else :\n",
    "    print('fail to reject H0')"
   ]
  },
  {
   "cell_type": "code",
   "execution_count": null,
   "metadata": {},
   "outputs": [],
   "source": [
    "#  two sample t-test\n"
   ]
  }
 ],
 "metadata": {
  "kernelspec": {
   "display_name": "base",
   "language": "python",
   "name": "python3"
  },
  "language_info": {
   "codemirror_mode": {
    "name": "ipython",
    "version": 3
   },
   "file_extension": ".py",
   "mimetype": "text/x-python",
   "name": "python",
   "nbconvert_exporter": "python",
   "pygments_lexer": "ipython3",
   "version": "3.11.4"
  }
 },
 "nbformat": 4,
 "nbformat_minor": 2
}
